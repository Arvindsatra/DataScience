{
 "cells": [
  {
   "cell_type": "code",
   "execution_count": 1,
   "metadata": {},
   "outputs": [
    {
     "data": {
      "text/html": [
       "<div>\n",
       "<style scoped>\n",
       "    .dataframe tbody tr th:only-of-type {\n",
       "        vertical-align: middle;\n",
       "    }\n",
       "\n",
       "    .dataframe tbody tr th {\n",
       "        vertical-align: top;\n",
       "    }\n",
       "\n",
       "    .dataframe thead th {\n",
       "        text-align: right;\n",
       "    }\n",
       "</style>\n",
       "<table border=\"1\" class=\"dataframe\">\n",
       "  <thead>\n",
       "    <tr style=\"text-align: right;\">\n",
       "      <th></th>\n",
       "      <th>Cbal</th>\n",
       "      <th>Cdur</th>\n",
       "      <th>Chist</th>\n",
       "      <th>Cpur</th>\n",
       "      <th>Camt</th>\n",
       "      <th>Sbal</th>\n",
       "      <th>Edur</th>\n",
       "      <th>InRate</th>\n",
       "      <th>MSG</th>\n",
       "      <th>Oparties</th>\n",
       "      <th>...</th>\n",
       "      <th>Prop</th>\n",
       "      <th>age</th>\n",
       "      <th>inPlans</th>\n",
       "      <th>Htype</th>\n",
       "      <th>NumCred</th>\n",
       "      <th>JobType</th>\n",
       "      <th>Ndepend</th>\n",
       "      <th>telephone</th>\n",
       "      <th>foreign</th>\n",
       "      <th>creditScore</th>\n",
       "    </tr>\n",
       "  </thead>\n",
       "  <tbody>\n",
       "    <tr>\n",
       "      <th>0</th>\n",
       "      <td>0 &lt;= Rs. &lt; 2000</td>\n",
       "      <td>9</td>\n",
       "      <td>all settled till now</td>\n",
       "      <td>Business</td>\n",
       "      <td>13790</td>\n",
       "      <td>Rs. &lt; 1000</td>\n",
       "      <td>1 to 4 years</td>\n",
       "      <td>2</td>\n",
       "      <td>married or widowed male</td>\n",
       "      <td>no one</td>\n",
       "      <td>...</td>\n",
       "      <td>real estate</td>\n",
       "      <td>27</td>\n",
       "      <td>bank</td>\n",
       "      <td>own</td>\n",
       "      <td>1</td>\n",
       "      <td>employee with official position</td>\n",
       "      <td>1</td>\n",
       "      <td>yes</td>\n",
       "      <td>no</td>\n",
       "      <td>good</td>\n",
       "    </tr>\n",
       "    <tr>\n",
       "      <th>1</th>\n",
       "      <td>0 &lt;= Rs. &lt; 2000</td>\n",
       "      <td>15</td>\n",
       "      <td>dues not paid earlier</td>\n",
       "      <td>electronics</td>\n",
       "      <td>15250</td>\n",
       "      <td>no savings account</td>\n",
       "      <td>more than 7 years</td>\n",
       "      <td>4</td>\n",
       "      <td>single male</td>\n",
       "      <td>yes, guarantor</td>\n",
       "      <td>...</td>\n",
       "      <td>real estate</td>\n",
       "      <td>50</td>\n",
       "      <td>none</td>\n",
       "      <td>own</td>\n",
       "      <td>2</td>\n",
       "      <td>employee with official position</td>\n",
       "      <td>1</td>\n",
       "      <td>yes</td>\n",
       "      <td>no</td>\n",
       "      <td>good</td>\n",
       "    </tr>\n",
       "    <tr>\n",
       "      <th>2</th>\n",
       "      <td>0 &lt;= Rs. &lt; 2000</td>\n",
       "      <td>36</td>\n",
       "      <td>none taken/all settled</td>\n",
       "      <td>Business</td>\n",
       "      <td>19410</td>\n",
       "      <td>Rs. &lt; 1000</td>\n",
       "      <td>more than 7 years</td>\n",
       "      <td>4</td>\n",
       "      <td>single male</td>\n",
       "      <td>no one</td>\n",
       "      <td>...</td>\n",
       "      <td>Unknown</td>\n",
       "      <td>61</td>\n",
       "      <td>none</td>\n",
       "      <td>free</td>\n",
       "      <td>1</td>\n",
       "      <td>employed either in management, self or in high...</td>\n",
       "      <td>1</td>\n",
       "      <td>yes</td>\n",
       "      <td>no</td>\n",
       "      <td>bad</td>\n",
       "    </tr>\n",
       "    <tr>\n",
       "      <th>3</th>\n",
       "      <td>0 &lt;= Rs. &lt; 2000</td>\n",
       "      <td>48</td>\n",
       "      <td>none taken/all settled</td>\n",
       "      <td>Business</td>\n",
       "      <td>144090</td>\n",
       "      <td>Rs. &lt; 1000</td>\n",
       "      <td>1 to 4 years</td>\n",
       "      <td>2</td>\n",
       "      <td>single male</td>\n",
       "      <td>no one</td>\n",
       "      <td>...</td>\n",
       "      <td>Other cars etc.</td>\n",
       "      <td>25</td>\n",
       "      <td>none</td>\n",
       "      <td>own</td>\n",
       "      <td>1</td>\n",
       "      <td>employee with official position</td>\n",
       "      <td>1</td>\n",
       "      <td>yes</td>\n",
       "      <td>no</td>\n",
       "      <td>bad</td>\n",
       "    </tr>\n",
       "    <tr>\n",
       "      <th>4</th>\n",
       "      <td>no checking account</td>\n",
       "      <td>24</td>\n",
       "      <td>all settled till now</td>\n",
       "      <td>electronics</td>\n",
       "      <td>31690</td>\n",
       "      <td>Rs. &lt; 1000</td>\n",
       "      <td>less than 1 year</td>\n",
       "      <td>4</td>\n",
       "      <td>divorced or separated or married female</td>\n",
       "      <td>no one</td>\n",
       "      <td>...</td>\n",
       "      <td>life insurance/building society</td>\n",
       "      <td>26</td>\n",
       "      <td>none</td>\n",
       "      <td>own</td>\n",
       "      <td>1</td>\n",
       "      <td>employee with official position</td>\n",
       "      <td>1</td>\n",
       "      <td>yes</td>\n",
       "      <td>no</td>\n",
       "      <td>good</td>\n",
       "    </tr>\n",
       "  </tbody>\n",
       "</table>\n",
       "<p>5 rows × 21 columns</p>\n",
       "</div>"
      ],
      "text/plain": [
       "                  Cbal  Cdur                   Chist         Cpur    Camt  \\\n",
       "0      0 <= Rs. < 2000     9    all settled till now     Business   13790   \n",
       "1      0 <= Rs. < 2000    15   dues not paid earlier  electronics   15250   \n",
       "2      0 <= Rs. < 2000    36  none taken/all settled     Business   19410   \n",
       "3      0 <= Rs. < 2000    48  none taken/all settled     Business  144090   \n",
       "4  no checking account    24    all settled till now  electronics   31690   \n",
       "\n",
       "                 Sbal               Edur  InRate  \\\n",
       "0          Rs. < 1000       1 to 4 years       2   \n",
       "1  no savings account  more than 7 years       4   \n",
       "2          Rs. < 1000  more than 7 years       4   \n",
       "3          Rs. < 1000       1 to 4 years       2   \n",
       "4          Rs. < 1000   less than 1 year       4   \n",
       "\n",
       "                                       MSG        Oparties  ...  \\\n",
       "0                  married or widowed male          no one  ...   \n",
       "1                              single male  yes, guarantor  ...   \n",
       "2                              single male          no one  ...   \n",
       "3                              single male          no one  ...   \n",
       "4  divorced or separated or married female          no one  ...   \n",
       "\n",
       "                              Prop age  inPlans Htype NumCred  \\\n",
       "0                      real estate  27     bank   own       1   \n",
       "1                      real estate  50     none   own       2   \n",
       "2                          Unknown  61     none  free       1   \n",
       "3                  Other cars etc.  25     none   own       1   \n",
       "4  life insurance/building society  26     none   own       1   \n",
       "\n",
       "                                             JobType Ndepend  telephone  \\\n",
       "0                    employee with official position       1        yes   \n",
       "1                    employee with official position       1        yes   \n",
       "2  employed either in management, self or in high...       1        yes   \n",
       "3                    employee with official position       1        yes   \n",
       "4                    employee with official position       1        yes   \n",
       "\n",
       "  foreign creditScore  \n",
       "0      no        good  \n",
       "1      no        good  \n",
       "2      no         bad  \n",
       "3      no         bad  \n",
       "4      no        good  \n",
       "\n",
       "[5 rows x 21 columns]"
      ]
     },
     "execution_count": 1,
     "metadata": {},
     "output_type": "execute_result"
    }
   ],
   "source": [
    "import pandas as pd\n",
    "import matplotlib.pyplot as plt\n",
    "import seaborn as sns\n",
    "import numpy as np\n",
    "\n",
    "df = pd.read_csv('CreditWorthiness - Sheet1.csv')\n",
    "df.head()"
   ]
  },
  {
   "cell_type": "code",
   "execution_count": 2,
   "metadata": {},
   "outputs": [
    {
     "name": "stdout",
     "output_type": "stream",
     "text": [
      "Average age of customers with settled dues and good credit score: 34.56\n"
     ]
    }
   ],
   "source": [
    "# 1) Write a Python function that calculates the average age of customers who have settled their dues and have a credit score categorized as \"good.\"\n",
    "\n",
    "# Define the function to calculate average age of customers with settled dues and good credit score\n",
    "def average_age_of_good_customers(data):\n",
    "    good_customers = data[(data['creditScore'] == 'good') & (data['Chist'] != 'dues not paid earlier')]\n",
    "    average_age = good_customers['age'].mean()\n",
    "    return average_age\n",
    "\n",
    "# Calculate and print the average age\n",
    "average_age = average_age_of_good_customers(df)\n",
    "print(f\"Average age of customers with settled dues and good credit score: {average_age:.2f}\" )"
   ]
  },
  {
   "cell_type": "code",
   "execution_count": 3,
   "metadata": {},
   "outputs": [
    {
     "name": "stdout",
     "output_type": "stream",
     "text": [
      "Percentage of customers with savings account and more than one vehicle: 27.6%\n"
     ]
    }
   ],
   "source": [
    "# 2) Write a Python function that determines the percentage of customers who have a savings account and own more than one vehicle.\n",
    "\n",
    "def percentage_of_customers(data):\n",
    "    savings_and_more_vehicles = data[(df['Sbal'] != 'no savings account') & (data['Prop'] == 'Other cars etc.')]\n",
    "    percentage = (len(savings_and_more_vehicles) / len(df)) * 100\n",
    "    return percentage\n",
    "\n",
    "percentage = percentage_of_customers(df)\n",
    "print(f\"Percentage of customers with savings account and more than one vehicle: {percentage}%\")"
   ]
  },
  {
   "cell_type": "code",
   "execution_count": 4,
   "metadata": {},
   "outputs": [
    {
     "name": "stdout",
     "output_type": "stream",
     "text": [
      "Most common job type for customers with new vehicle credit: employee with official position\n"
     ]
    }
   ],
   "source": [
    "# 3) Write a Python function that identifies the most common job type among customers who have taken credit for a new vehicle.\n",
    "\n",
    "def most_common_job_for_new_vehicle(data):\n",
    "    new_vehicle_data = data[data['Cpur'] == 'new vehicle']\n",
    "    most_common_job = new_vehicle_data['JobType'].value_counts().idxmax()\n",
    "    return most_common_job\n",
    "\n",
    "most_common_job = most_common_job_for_new_vehicle(df)\n",
    "print(f\"Most common job type for customers with new vehicle credit: {most_common_job}\")"
   ]
  },
  {
   "cell_type": "code",
   "execution_count": 5,
   "metadata": {},
   "outputs": [
    {
     "name": "stdout",
     "output_type": "stream",
     "text": [
      "Median duration of credit for married females: 18.0\n"
     ]
    }
   ],
   "source": [
    "# 4) Write a Python function that calculates the median value of the duration of credit (Cdur) for customers who are divorced, separated, or married females.\n",
    "\n",
    "def median_duration_for_married_females(data):\n",
    "    married_females_data = data[data['MSG'] == 'divorced or separated or married female']\n",
    "    median = married_females_data['Cdur'].median()\n",
    "    return median\n",
    "\n",
    "median = median_duration_for_married_females(df)\n",
    "print(f\"Median duration of credit for married females: {median}\")"
   ]
  },
  {
   "cell_type": "code",
   "execution_count": 6,
   "metadata": {},
   "outputs": [
    {
     "data": {
      "text/plain": [
       "count      1000.00000\n",
       "mean      32592.58000\n",
       "std       28227.36876\n",
       "min        2380.00000\n",
       "25%       13535.00000\n",
       "50%       23075.00000\n",
       "75%       39602.50000\n",
       "max      184120.00000\n",
       "Name: Camt, dtype: float64"
      ]
     },
     "execution_count": 6,
     "metadata": {},
     "output_type": "execute_result"
    }
   ],
   "source": [
    "df['Camt'].describe()"
   ]
  },
  {
   "cell_type": "code",
   "execution_count": 7,
   "metadata": {},
   "outputs": [
    {
     "data": {
      "text/plain": [
       "low       250\n",
       "medium    250\n",
       "high      250\n",
       "Name: CreditCategory, dtype: int64"
      ]
     },
     "execution_count": 7,
     "metadata": {},
     "output_type": "execute_result"
    }
   ],
   "source": [
    "# 5) Write a Python function that categorizes customers based on their credit amount (Camt) into bins: 'low', 'medium', and 'high', and returns the count\n",
    "# of customers in each category.\n",
    "\n",
    "\n",
    "def categorize_credit_amount(data):\n",
    "    quartiles = data['Camt'].quantile([0.25, 0.5, 0.75, 1.0])\n",
    "    bin_edges = [quartiles.iloc[0], quartiles.iloc[1], quartiles.iloc[2], quartiles.iloc[3]]\n",
    "    bin_labels = ['low', 'medium', 'high']\n",
    "    data['CreditCategory'] = pd.cut(data['Camt'], bins=bin_edges, labels=bin_labels)\n",
    "    \n",
    "    # Count the number of customers in each category\n",
    "    category_counts = data['CreditCategory'].value_counts()\n",
    "    \n",
    "    return category_counts\n",
    "\n",
    "categorize_credit_amount(df)"
   ]
  },
  {
   "cell_type": "code",
   "execution_count": 8,
   "metadata": {},
   "outputs": [],
   "source": [
    "df.drop(columns='CreditCategory',inplace=True)"
   ]
  },
  {
   "cell_type": "code",
   "execution_count": 9,
   "metadata": {},
   "outputs": [
    {
     "name": "stdout",
     "output_type": "stream",
     "text": [
      "Conditional Probability: 0.35\n"
     ]
    }
   ],
   "source": [
    "# 6) Calculate the conditional probability that a customer has a Credit Amount (Camt) greater than or equal to 30000, given that they own their house.\n",
    "\n",
    "owns_house_count = len(df[df['Htype'] == 'own'])\n",
    "high_camt_and_own_count = len(df[(df['Camt'] >= 30000) & (df['Htype'] == 'own')])\n",
    "\n",
    "conditional_probability = high_camt_and_own_count / owns_house_count\n",
    "\n",
    "print(f\"Conditional Probability: {conditional_probability:.2f}\")"
   ]
  },
  {
   "cell_type": "code",
   "execution_count": 10,
   "metadata": {},
   "outputs": [
    {
     "name": "stdout",
     "output_type": "stream",
     "text": [
      "z-statistic: -3.737763012772279\n",
      "P-value: 0.00018566482526763926\n",
      "Reject null hypothesis: There is a significant difference in average credit.\n"
     ]
    }
   ],
   "source": [
    "# 7) Perform a hypothesis test to determine whether there is a significant difference in the average credit scores between\n",
    "# customers who own their house and customers who do not own their house. Use a significance level of 0.05.\n",
    "# Please note that you would need to follow the steps of hypothesis testing, such as setting up null and alternative hypotheses,\n",
    "# calculating the test statistic, and comparing it to the critical value or p-value to make a conclusion about the significance \n",
    "# of the difference in average credit scores.\n",
    "\n",
    "# Null hypothesis is the average credit is same for both the groups\n",
    "# as the size is more so ztest is used for hypothesis testing\n",
    "\n",
    "import scipy.stats as stats\n",
    "from statsmodels.stats.weightstats import ztest\n",
    "\n",
    "\n",
    "# Separate the data into two groups: customers who own their house and customers who do not own their house\n",
    "own_house_scores = df[df['Htype'] == 'own']['Camt']\n",
    "not_own_house_scores = df[df['Htype'] != 'own']['Camt']\n",
    "\n",
    "# Calculate the mean of credit scores for both groups\n",
    "own_house_mean = own_house_scores.mean()\n",
    "not_own_house_mean = not_own_house_scores.mean()\n",
    "\n",
    "# Perform two-sample t-test\n",
    "z_statistic, p_value = ztest(own_house_scores, not_own_house_scores)\n",
    "\n",
    "# Compare p-value with significance level\n",
    "alpha = 0.05\n",
    "if p_value < alpha:\n",
    "    conclusion = \"Reject null hypothesis: There is a significant difference in average credit.\"\n",
    "else:\n",
    "    conclusion = \"Fail to reject null hypothesis: There is no significant difference in average credit.\"\n",
    "\n",
    "print(\"z-statistic:\", z_statistic)\n",
    "print(\"P-value:\", p_value)\n",
    "print(conclusion)"
   ]
  },
  {
   "cell_type": "code",
   "execution_count": 11,
   "metadata": {},
   "outputs": [
    {
     "name": "stdout",
     "output_type": "stream",
     "text": [
      "       Column  Explained Variance Ratio\n",
      "0        Cdur                  0.329357\n",
      "1        Camt                  0.099177\n",
      "2      InRate                  0.084314\n",
      "3         age                  0.069439\n",
      "4     NumCred                  0.056035\n",
      "5     Ndepend                  0.052260\n",
      "6        Cbal                  0.049098\n",
      "7       Chist                  0.044746\n",
      "8        Cpur                  0.039477\n",
      "9        Sbal                  0.038156\n",
      "10       Edur                  0.030080\n",
      "11        MSG                  0.027498\n",
      "12   Oparties                  0.026114\n",
      "13       Rdur                  0.011059\n",
      "14       Prop                  0.010681\n",
      "15    inPlans                  0.009201\n",
      "16      Htype                  0.008349\n",
      "17    JobType                  0.007047\n",
      "18  telephone                  0.006632\n",
      "19    foreign                  0.001280\n"
     ]
    }
   ],
   "source": [
    "# 8) In the context of the given data set with customer information and credit scores, \n",
    "# apply a feature selection technique to identify the most important features that contribute \n",
    "# to predicting credit scores accurately. Explain the rationale behind your choice of feature \n",
    "# selection technique and discuss the impact of feature reduction on model performance.\n",
    "\n",
    "import pandas as pd\n",
    "from sklearn.model_selection import train_test_split\n",
    "from sklearn.preprocessing import StandardScaler, LabelEncoder\n",
    "from sklearn.decomposition import PCA\n",
    "from sklearn.metrics import accuracy_score, precision_score, recall_score, f1_score\n",
    "from sklearn.ensemble import RandomForestClassifier\n",
    "\n",
    "# Selecting the numeric columns and categorical columns for feature transformation\n",
    "numeric_columns = df.select_dtypes(include=['int64', 'float64']).columns\n",
    "categorical_columns = df.select_dtypes(include=['object', 'category']).columns\n",
    "\n",
    "# Exclude the target variable 'creditScore'\n",
    "numeric_columns = [col for col in numeric_columns if col != 'creditScore']\n",
    "categorical_columns = [col for col in categorical_columns if col != 'creditScore']\n",
    "\n",
    "# Separate the features and the target variable\n",
    "X_numeric = df[numeric_columns]\n",
    "X_categorical = df[categorical_columns]\n",
    "y = df['creditScore']\n",
    "\n",
    "# Convert y labels to numeric values using LabelEncoder\n",
    "label_encoder = LabelEncoder()\n",
    "y_encoded = label_encoder.fit_transform(y)\n",
    "\n",
    "# Standardize the numeric features\n",
    "scaler = StandardScaler()\n",
    "X_numeric_scaled = scaler.fit_transform(X_numeric)\n",
    "\n",
    "# Apply label encoding to categorical features\n",
    "X_categorical_encoded = X_categorical.copy()\n",
    "for col in categorical_columns:\n",
    "    le = LabelEncoder()\n",
    "    X_categorical_encoded[col] = le.fit_transform(X_categorical[col])\n",
    "\n",
    "# Combine the scaled numeric features and the label encoded categorical features\n",
    "X_combined = pd.concat([pd.DataFrame(X_numeric_scaled, columns=numeric_columns), X_categorical_encoded], axis=1)\n",
    "\n",
    "# Perform PCA\n",
    "pca = PCA()\n",
    "X_pca = pca.fit_transform(X_combined)\n",
    "\n",
    "# Explained variance ratio of each component\n",
    "explained_variance_ratio = pca.explained_variance_ratio_\n",
    "\n",
    "# Create a DataFrame to store column names and their explained variance ratios\n",
    "explained_variance_df = pd.DataFrame({'Column': X_combined.columns, 'Explained Variance Ratio': explained_variance_ratio})\n",
    "\n",
    "# Sort the DataFrame by explained variance ratio in descending order\n",
    "explained_variance_df = explained_variance_df.sort_values(by='Explained Variance Ratio', ascending=False)\n",
    "\n",
    "print(explained_variance_df)\n",
    "\n",
    "# columns with high Explained Variance Ratio is a important feature that contribute to predicting credit score"
   ]
  },
  {
   "cell_type": "code",
   "execution_count": 12,
   "metadata": {},
   "outputs": [
    {
     "name": "stdout",
     "output_type": "stream",
     "text": [
      "Accuracy: 0.68\n",
      "Precision: 0.68\n",
      "Recall: 0.99\n",
      "F1-score: 0.81\n",
      "\n",
      "\n",
      "Accuracy: 0.69\n",
      "Precision: 0.69\n",
      "Recall: 1.00\n",
      "F1-score: 0.81\n",
      "\n",
      "\n",
      "Accuracy: 0.69\n",
      "Precision: 0.69\n",
      "Recall: 1.00\n",
      "F1-score: 0.81\n",
      "\n",
      "\n",
      "Accuracy: 0.69\n",
      "Precision: 0.69\n",
      "Recall: 1.00\n",
      "F1-score: 0.82\n",
      "\n",
      "\n"
     ]
    }
   ],
   "source": [
    "# 9) Utilizing the data set containing customer features and credit scores, create a classification model \n",
    "# to classify customers into two categories: \"good\" credit score and \"bad\" credit score. Train the model \n",
    "# and assess its accuracy, precision, recall, and F1-score evaluation will be done on these parameters.\n",
    "\n",
    "# Define the function\n",
    "def perfrom_pca(n):\n",
    "    X_train, X_test, y_train, y_test = train_test_split(X_pca, y_encoded, test_size=0.2, random_state=0)\n",
    "    pca = PCA(n_components=n)\n",
    "    pca_x_train = pca.fit_transform(X_train)\n",
    "    pca_x_test = pca.transform(X_test)\n",
    "    classifier = RandomForestClassifier(max_depth=2, random_state=0)\n",
    "    classifier.fit(pca_x_train, y_train)\n",
    "    y_pred = classifier.predict(pca_x_test)\n",
    "\n",
    "    # Evaluate the model performance\n",
    "    accuracy = accuracy_score(y_test, y_pred)\n",
    "    precision = precision_score(y_test, y_pred )\n",
    "    recall = recall_score(y_test, y_pred )\n",
    "    f1 = f1_score(y_test, y_pred)\n",
    "\n",
    "    print(f\"Accuracy: {accuracy:.2f}\")\n",
    "    print(f\"Precision: {precision:.2f}\")\n",
    "    print(f\"Recall: {recall:.2f}\")\n",
    "    print(f\"F1-score: {f1:.2f}\")\n",
    "    print('\\n')\n",
    "\n",
    "for x in range(1, 5): perfrom_pca(x)"
   ]
  },
  {
   "cell_type": "code",
   "execution_count": 13,
   "metadata": {},
   "outputs": [
    {
     "name": "stdout",
     "output_type": "stream",
     "text": [
      "Number of persons in their 50s and single: 46\n"
     ]
    }
   ],
   "source": [
    "# 10) How many Persons are there who are in their 50s and whose Marital status is Single\n",
    "\n",
    "# Filter the DataFrame based on age and marital status\n",
    "persons_in_50s_single = df[(df['age'] >= 50) & (df['age'] < 60) & (df['MSG'] == 'single male')]\n",
    "\n",
    "# Get the count of persons\n",
    "count_persons_in_50s_single = len(persons_in_50s_single)\n",
    "\n",
    "print(f\"Number of persons in their 50s and single: {count_persons_in_50s_single}\")\n"
   ]
  },
  {
   "cell_type": "code",
   "execution_count": 14,
   "metadata": {},
   "outputs": [],
   "source": [
    "# 11) Create a UDF that will extract the data in table form based on credit score(credit score) and Purpose of the loan(Cpur)\n",
    "\n",
    "#below is the sql query table name is Credit_Worthiness\n",
    "\n",
    "# CREATE FUNCTION ExtractData(\n",
    "#     @creditScore NVARCHAR(50),\n",
    "#     @Cpur NVARCHAR(50)\n",
    "# )\n",
    "# RETURNS TABLE\n",
    "# AS\n",
    "# RETURN\n",
    "# (\n",
    "#     SELECT *\n",
    "#     FROM Credit_Worthiness\n",
    "#     WHERE creditScore = @creditScore AND Cpur = @Cpur\n",
    "# );\n"
   ]
  },
  {
   "cell_type": "code",
   "execution_count": 15,
   "metadata": {},
   "outputs": [],
   "source": [
    "# 12) Write a query to fetch the data of the borrower who is foreign and has a duration of credit of more than 10 months.\n",
    "\n",
    "\n",
    "# SELECT *\n",
    "# FROM Credit_Worthiness\n",
    "# WHERE foreign = 'yes' AND Cdur > 10;"
   ]
  },
  {
   "cell_type": "code",
   "execution_count": 16,
   "metadata": {},
   "outputs": [],
   "source": [
    "# 13) Write a query to fetch the data whose Balance in the savings bank is greater than 1000 RS but still have a Bad credit score.\n",
    "\n",
    "# SELECT *\n",
    "# FROM Credit_Worthiness\n",
    "# WHERE Sbal NOT IN ('Rs. < 1000', 'no savings account')\n",
    "# AND creditScore = 'bad';"
   ]
  },
  {
   "cell_type": "code",
   "execution_count": 17,
   "metadata": {},
   "outputs": [],
   "source": [
    "# 14) Based on every job type find the highest amount under credit/loan and find the entire data for that borrower\n",
    "\n",
    "# SELECT *\n",
    "# FROM Credit_Worthiness\n",
    "# WHERE (JobType, Camt) IN (\n",
    "#     SELECT JobType, MAX(Camt) AS MaxAmount\n",
    "#     FROM Credit_Worthiness\n",
    "#     GROUP BY JobType\n",
    "# )\n",
    "\n"
   ]
  }
 ],
 "metadata": {
  "kernelspec": {
   "display_name": "6.86x",
   "language": "python",
   "name": "python3"
  },
  "language_info": {
   "codemirror_mode": {
    "name": "ipython",
    "version": 3
   },
   "file_extension": ".py",
   "mimetype": "text/x-python",
   "name": "python",
   "nbconvert_exporter": "python",
   "pygments_lexer": "ipython3",
   "version": "3.8.16"
  },
  "orig_nbformat": 4
 },
 "nbformat": 4,
 "nbformat_minor": 2
}
