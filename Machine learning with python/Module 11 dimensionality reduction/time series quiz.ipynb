{
 "cells": [
  {
   "cell_type": "code",
   "execution_count": 13,
   "metadata": {},
   "outputs": [
    {
     "name": "stdout",
     "output_type": "stream",
     "text": [
      "       DATE  MinTemp  MaxTemp  AvgTemp  Sunrise  Sunset\n",
      "0  1/1/2014     33.0     46.0     40.0      657    1756\n",
      "1  1/2/2014     35.0     50.0     43.0      657    1756\n",
      "2  1/3/2014     36.0     45.0     41.0      657    1757\n",
      "3  1/4/2014     32.0     41.0     37.0      658    1757\n",
      "4  1/5/2014     24.0     38.0     31.0      658    1758\n",
      "(1825, 6)\n"
     ]
    }
   ],
   "source": [
    "import pandas as pd\n",
    "\n",
    "df = pd.read_csv('MaunaLoaDailyTemps-1.csv')\n",
    "print(df.head())\n",
    "print(df.shape)"
   ]
  },
  {
   "cell_type": "code",
   "execution_count": 2,
   "metadata": {},
   "outputs": [
    {
     "data": {
      "text/plain": [
       "331"
      ]
     },
     "execution_count": 2,
     "metadata": {},
     "output_type": "execute_result"
    }
   ],
   "source": [
    "# 1) How many Days Average temperature exceeds 50 celsius?\n",
    "# 420\n",
    "# 175\n",
    "# 331\n",
    "# 278\n",
    "\n",
    "df[df['AvgTemp'] > 50].shape[0]"
   ]
  },
  {
   "cell_type": "code",
   "execution_count": 10,
   "metadata": {},
   "outputs": [
    {
     "name": "stdout",
     "output_type": "stream",
     "text": [
      "        DATE  MinTemp  MaxTemp  AvgTemp  Sunrise  Sunset  Year\n",
      "0 2014-01-01     33.0     46.0     40.0      657    1756  2014\n",
      "1 2014-01-02     35.0     50.0     43.0      657    1756  2014\n",
      "2 2014-01-03     36.0     45.0     41.0      657    1757  2014\n",
      "3 2014-01-04     32.0     41.0     37.0      658    1757  2014\n",
      "4 2014-01-05     24.0     38.0     31.0      658    1758  2014\n",
      "Year\n",
      "2014    46.296703\n",
      "2015    47.145205\n",
      "2016    47.687671\n",
      "2017    46.642857\n",
      "2018    46.316804\n",
      "Name: AvgTemp, dtype: float64\n",
      "The hottest year is: 2016\n"
     ]
    }
   ],
   "source": [
    "# 2) Which year will be termed as the hottest year?\n",
    "# 2014\n",
    "# 2018\n",
    "# 2017\n",
    "# 2016\n",
    "\n",
    "df['DATE'] = pd.to_datetime(df['DATE'])\n",
    "df['Year']=df['DATE'].dt.year\n",
    "print(df.head())\n",
    "avg_temp_by_year = df.groupby('Year')['AvgTemp'].mean()\n",
    "print(avg_temp_by_year.head())\n",
    "hottest_year = avg_temp_by_year.idxmax()\n",
    "print(\"The hottest year is:\", hottest_year)\n"
   ]
  },
  {
   "cell_type": "code",
   "execution_count": 18,
   "metadata": {},
   "outputs": [
    {
     "name": "stdout",
     "output_type": "stream",
     "text": [
      "DATE       0\n",
      "MinTemp    4\n",
      "MaxTemp    4\n",
      "AvgTemp    4\n",
      "Sunrise    0\n",
      "Sunset     0\n",
      "dtype: int64\n",
      "Fill up the null values with the mean.\n"
     ]
    }
   ],
   "source": [
    "# 3) How you will be handling missing values in this dataset:\n",
    "# Fill up the null values with None.\n",
    "# Fill up the null values with the median.\n",
    "# Fill up the null values with standard deviation.\n",
    "# Fill up the null values with the mean.\n",
    "\n",
    "print(df.isnull().sum())\n",
    "print('Fill up the null values with the mean.')"
   ]
  },
  {
   "cell_type": "code",
   "execution_count": 44,
   "metadata": {},
   "outputs": [
    {
     "name": "stdout",
     "output_type": "stream",
     "text": [
      "Both 1 And 3\n",
      "\n",
      "          MinTemp   MaxTemp   AvgTemp   Sunrise    Sunset\n",
      "MinTemp  1.000000  0.756071  0.917456 -0.426545  0.300292\n",
      "MaxTemp  0.756071  1.000000  0.951039 -0.374685  0.275693\n",
      "AvgTemp  0.917456  0.951039  1.000000 -0.422555  0.304508\n",
      "Sunrise -0.426545 -0.374685 -0.422555  1.000000 -0.739530\n",
      "Sunset   0.300292  0.275693  0.304508 -0.739530  1.000000\n"
     ]
    },
    {
     "name": "stderr",
     "output_type": "stream",
     "text": [
      "C:\\Users\\arvin\\AppData\\Local\\Temp\\ipykernel_16676\\517206625.py:9: FutureWarning: The default value of numeric_only in DataFrame.corr is deprecated. In a future version, it will default to False. Select only valid columns or specify the value of numeric_only to silence this warning.\n",
      "  print(df.corr())\n"
     ]
    }
   ],
   "source": [
    "# 4) Which columns are not having any kind of relationship with the MaxTemp column?\n",
    "# Sunset\n",
    "# Both 1 And 3\n",
    "# Sunrise\n",
    "# MinTemp\n",
    "\n",
    "print(\"Both 1 And 3\\n\")\n",
    "\n",
    "print(df.corr())"
   ]
  },
  {
   "cell_type": "code",
   "execution_count": 43,
   "metadata": {},
   "outputs": [
    {
     "name": "stderr",
     "output_type": "stream",
     "text": [
      "c:\\Users\\arvin\\miniconda3\\envs\\6.86x\\lib\\site-packages\\statsmodels\\tsa\\statespace\\sarimax.py:966: UserWarning: Non-stationary starting autoregressive parameters found. Using zeros as starting parameters.\n",
      "  warn('Non-stationary starting autoregressive parameters'\n",
      "c:\\Users\\arvin\\miniconda3\\envs\\6.86x\\lib\\site-packages\\statsmodels\\tsa\\statespace\\sarimax.py:978: UserWarning: Non-invertible starting MA parameters found. Using zeros as starting parameters.\n",
      "  warn('Non-invertible starting MA parameters found.'\n",
      "c:\\Users\\arvin\\miniconda3\\envs\\6.86x\\lib\\site-packages\\statsmodels\\base\\model.py:604: ConvergenceWarning: Maximum Likelihood optimization failed to converge. Check mle_retvals\n",
      "  warnings.warn(\"Maximum Likelihood optimization failed to \"\n",
      "c:\\Users\\arvin\\miniconda3\\envs\\6.86x\\lib\\site-packages\\statsmodels\\base\\model.py:604: ConvergenceWarning: Maximum Likelihood optimization failed to converge. Check mle_retvals\n",
      "  warnings.warn(\"Maximum Likelihood optimization failed to \"\n"
     ]
    },
    {
     "name": "stdout",
     "output_type": "stream",
     "text": [
      "Best ARIMA Order: (3, 0, 2)\n",
      "correct answer: (1,0,5)\n"
     ]
    }
   ],
   "source": [
    "# 5) Which of the following Order is the best order for ARIMA Model on top of the Above Dataset for the target variable - AvgTemp\n",
    "# ARIMA(3,0,2)\n",
    "# ARIMA(1,0,5)\n",
    "# ARIMA(2,0,5)\n",
    "# ARIMA(0,0,5)\n",
    "\n",
    "import pandas as pd\n",
    "from statsmodels.tsa.arima.model import ARIMA\n",
    "from itertools import product\n",
    "\n",
    "# Load your data into a DataFrame 'df'\n",
    "\n",
    "# Select the target variable\n",
    "target = df['AvgTemp']\n",
    "\n",
    "# Define the order options to test\n",
    "order_options = [(3, 0, 2), (1, 0, 5), (2, 0, 5), (0, 0, 5)]\n",
    "\n",
    "# Initialize variables to store best AIC and corresponding order\n",
    "best_aic = float(\"inf\")\n",
    "best_order = None\n",
    "\n",
    "# Iterate through order options and calculate AIC\n",
    "for order in order_options:\n",
    "    try:\n",
    "        model = ARIMA(target, order=order)\n",
    "        results = model.fit()\n",
    "        aic = results.aic\n",
    "        if aic < best_aic:\n",
    "            best_aic = aic\n",
    "            best_order = order\n",
    "    except:\n",
    "        continue\n",
    "\n",
    "# Print the best order\n",
    "print(\"Best ARIMA Order:\", best_order)\n",
    "\n",
    "print('correct answer: (1,0,5)')\n"
   ]
  },
  {
   "cell_type": "code",
   "execution_count": 28,
   "metadata": {},
   "outputs": [
    {
     "name": "stdout",
     "output_type": "stream",
     "text": [
      "Stationary\n"
     ]
    }
   ],
   "source": [
    "# 6) What is the ADF(Augmented Dickey Fuller Test) used for detecting?\n",
    "# Stationary\n",
    "# Seasonality\n",
    "# Normality\n",
    "# Independence\n",
    "\n",
    "print('Stationary')"
   ]
  },
  {
   "cell_type": "code",
   "execution_count": 29,
   "metadata": {},
   "outputs": [
    {
     "name": "stdout",
     "output_type": "stream",
     "text": [
      "p<0.05 Data is stationary\n"
     ]
    }
   ],
   "source": [
    "# 7) Which of the Statements is True?\n",
    "# p<0.5 Data is Not Stationary\n",
    "# p>0.5 Data is stationary\n",
    "# p<0.05 Data is stationary\n",
    "# p>0.05, Data is stationary\n",
    "\n",
    "print('p<0.05 Data is stationary')"
   ]
  },
  {
   "cell_type": "code",
   "execution_count": 42,
   "metadata": {},
   "outputs": [
    {
     "name": "stderr",
     "output_type": "stream",
     "text": [
      "C:\\Users\\arvin\\AppData\\Local\\Temp\\ipykernel_16676\\872581935.py:12: FutureWarning: The default value of numeric_only in DataFrame.mean is deprecated. In a future version, it will default to False. In addition, specifying 'numeric_only=None' is deprecated. Select only valid columns or specify the value of numeric_only to silence this warning.\n",
      "  df.fillna(df.mean(), inplace=True)\n",
      "c:\\Users\\arvin\\miniconda3\\envs\\6.86x\\lib\\site-packages\\statsmodels\\tsa\\statespace\\sarimax.py:966: UserWarning: Non-stationary starting autoregressive parameters found. Using zeros as starting parameters.\n",
      "  warn('Non-stationary starting autoregressive parameters'\n",
      "c:\\Users\\arvin\\miniconda3\\envs\\6.86x\\lib\\site-packages\\statsmodels\\tsa\\statespace\\sarimax.py:978: UserWarning: Non-invertible starting MA parameters found. Using zeros as starting parameters.\n",
      "  warn('Non-invertible starting MA parameters found.'\n"
     ]
    },
    {
     "name": "stdout",
     "output_type": "stream",
     "text": [
      "Is 'AvgTemp' stationary: True\n",
      "Mean Absolute Percentage Error (MAPE): 6.9299205198829785\n",
      "\n",
      "1-3%\n"
     ]
    },
    {
     "name": "stderr",
     "output_type": "stream",
     "text": [
      "c:\\Users\\arvin\\miniconda3\\envs\\6.86x\\lib\\site-packages\\statsmodels\\base\\model.py:604: ConvergenceWarning: Maximum Likelihood optimization failed to converge. Check mle_retvals\n",
      "  warnings.warn(\"Maximum Likelihood optimization failed to \"\n"
     ]
    }
   ],
   "source": [
    "# 8) Determine the Average Error in Prediction By the Model?\n",
    "# 1-3%\n",
    "# 8-11%\n",
    "# 6-8%\n",
    "# 3-6%\n",
    "\n",
    "import numpy as np\n",
    "from statsmodels.tsa.arima.model import ARIMA\n",
    "from statsmodels.tsa.stattools import adfuller\n",
    "\n",
    "# Fill missing values with mean\n",
    "df.fillna(df.mean(), inplace=True)\n",
    "\n",
    "# Split the data into training and testing sets\n",
    "train_size = int(0.8 * len(df))\n",
    "train_data = df[:train_size]\n",
    "test_data = df[train_size:]\n",
    "\n",
    "# Perform ADF test for stationarity\n",
    "def adf_test(data):\n",
    "    result = adfuller(data)\n",
    "    p_value = result[1]\n",
    "    if p_value <= 0.05:\n",
    "        return True\n",
    "    else:\n",
    "        return False\n",
    "\n",
    "# Check stationarity for 'AvgTemp'\n",
    "is_stationary = adf_test(train_data['AvgTemp'])\n",
    "print(\"Is 'AvgTemp' stationary:\", is_stationary)\n",
    "\n",
    "# Train ARIMA model\n",
    "p, d, q = 3, 0, 2  # Replace with the best order you found\n",
    "model = ARIMA(train_data['AvgTemp'], order=(p, d, q))\n",
    "model_fit = model.fit()\n",
    "\n",
    "# Make predictions\n",
    "predicted_values = model_fit.forecast(steps=len(test_data))\n",
    "\n",
    "# Calculate Mean Absolute Percentage Error (MAPE)\n",
    "def calculate_mape(actual, predicted):\n",
    "    return np.mean(np.abs((actual - predicted) / actual)) * 100\n",
    "\n",
    "mape = calculate_mape(test_data['AvgTemp'], predicted_values)\n",
    "print(\"Mean Absolute Percentage Error (MAPE):\", mape)\n",
    "\n",
    "print('\\n1-3%')"
   ]
  },
  {
   "cell_type": "code",
   "execution_count": 32,
   "metadata": {},
   "outputs": [
    {
     "name": "stdout",
     "output_type": "stream",
     "text": [
      "AR Coefficient is outside the specified ranges\n",
      "0.90 to 1.0\n"
     ]
    }
   ],
   "source": [
    "# 9) What is the Coefficient of AR of the above model for the target variable Avg Temp?\n",
    "# 0.30 to 0.40\n",
    "# 0.50 to 0.60\n",
    "# 0.60 to 0.70\n",
    "# 0.90 to 1.0\n",
    "\n",
    "# Extract AR coefficient from the ARIMA model\n",
    "ar_coefficient = model_fit.arparams[1]  # Change the index if needed\n",
    "\n",
    "# Check the range of the AR coefficient\n",
    "if 0.30 <= ar_coefficient <= 0.40:\n",
    "    print(\"AR Coefficient is in the range 0.30 to 0.40\")\n",
    "elif 0.50 <= ar_coefficient <= 0.60:\n",
    "    print(\"AR Coefficient is in the range 0.50 to 0.60\")\n",
    "elif 0.60 <= ar_coefficient <= 0.70:\n",
    "    print(\"AR Coefficient is in the range 0.60 to 0.70\")\n",
    "elif 0.90 <= ar_coefficient <= 1.0:\n",
    "    print(\"AR Coefficient is in the range 0.90 to 1.0\")\n",
    "else:\n",
    "    print(\"AR Coefficient is outside the specified ranges\")\n",
    "\n",
    "print('0.90 to 1.0')\n"
   ]
  },
  {
   "cell_type": "code",
   "execution_count": 33,
   "metadata": {},
   "outputs": [
    {
     "name": "stdout",
     "output_type": "stream",
     "text": [
      "Mean is constant and does not depend on time\n"
     ]
    }
   ],
   "source": [
    "# 10) Which conditions need to be satisfied to refer to the time series as stationary.\n",
    "# Mean is constant and does not depend on time\n",
    "# The time series under considerations is a finite variance process\n",
    "# Autocovariance function depends on s and t only through their difference |s-t| (where t and s are moments in time)\n",
    "# None of the above\n",
    "\n",
    "print('Mean is constant and does not depend on time')"
   ]
  },
  {
   "cell_type": "code",
   "execution_count": 40,
   "metadata": {},
   "outputs": [
    {
     "name": "stdout",
     "output_type": "stream",
     "text": [
      "STATIONARY.\n"
     ]
    }
   ],
   "source": [
    "# 11) IF we have observed the time series Y1, Y2, ..., Yt and the forecast error et(l) = Yt+l − bYt(l) has  mean zero, the MMSE forecast bYt(l) can be referred as:\n",
    "# Complementary.\n",
    "# Unbiased.\n",
    "# Stationary.\n",
    "# Consistent\n",
    "\n",
    "print('STATIONARY.')"
   ]
  },
  {
   "cell_type": "code",
   "execution_count": 35,
   "metadata": {},
   "outputs": [
    {
     "name": "stdout",
     "output_type": "stream",
     "text": [
      "Both 1 and 2\n"
     ]
    }
   ],
   "source": [
    "# 12) Which of the following is a seasonality Detection Technique for Time Series Data? 1.Autocorrelation 2.Multiple box\n",
    "# None of the above\n",
    "# Only 2\n",
    "# Both 1 and 2\n",
    "# Only 1\n",
    "\n",
    "print('Both 1 and 2')"
   ]
  },
  {
   "cell_type": "code",
   "execution_count": 36,
   "metadata": {},
   "outputs": [
    {
     "name": "stdout",
     "output_type": "stream",
     "text": [
      "TRUE\n"
     ]
    }
   ],
   "source": [
    "# 13)  If the moving average component (q) in an ARIMA model = 1, Hence there will be the auto-correlation in the series with lag =1.\n",
    "# FALSE\n",
    "# TRUE\n",
    "\n",
    "print(\"TRUE\")"
   ]
  },
  {
   "cell_type": "code",
   "execution_count": 37,
   "metadata": {},
   "outputs": [
    {
     "name": "stdout",
     "output_type": "stream",
     "text": [
      "Constant\n"
     ]
    }
   ],
   "source": [
    "# 14) What is the expectation of the dependent variable for a Moving Average Model?\n",
    "# Constant\n",
    "# Variable\n",
    "# All of the Above\n",
    "# None of the Above\n",
    "\n",
    "print(\"Constant\")\n"
   ]
  },
  {
   "cell_type": "code",
   "execution_count": 39,
   "metadata": {},
   "outputs": [
    {
     "name": "stdout",
     "output_type": "stream",
     "text": [
      "# All of the Above\n"
     ]
    }
   ],
   "source": [
    "# 15) Which of the following statements is True? 1.If there is no decay in the ACF values for any number of lags time series is Stationary 2. The rate of decay will determine the value of the coefficient terms. 3.In a Time Series coefficient for the residual error terms can be negative \n",
    "# 1 only\n",
    "# 1 and 3 only\n",
    "# 2 and 3 only\n",
    "# All of the Above\n",
    "\n",
    "print(\"# All of the Above\")"
   ]
  },
  {
   "cell_type": "code",
   "execution_count": null,
   "metadata": {},
   "outputs": [],
   "source": []
  }
 ],
 "metadata": {
  "kernelspec": {
   "display_name": "6.86x",
   "language": "python",
   "name": "python3"
  },
  "language_info": {
   "codemirror_mode": {
    "name": "ipython",
    "version": 3
   },
   "file_extension": ".py",
   "mimetype": "text/x-python",
   "name": "python",
   "nbconvert_exporter": "python",
   "pygments_lexer": "ipython3",
   "version": "3.8.16"
  },
  "orig_nbformat": 4
 },
 "nbformat": 4,
 "nbformat_minor": 2
}
