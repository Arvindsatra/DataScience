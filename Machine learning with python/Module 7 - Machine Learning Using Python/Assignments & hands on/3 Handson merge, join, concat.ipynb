{
 "cells": [
  {
   "cell_type": "code",
   "execution_count": 1,
   "metadata": {},
   "outputs": [
    {
     "name": "stdout",
     "output_type": "stream",
     "text": [
      "\n",
      "user:\n",
      "   id name\n",
      "0   1    a\n",
      "1   2    b\n",
      "2   3    c\n",
      "3   4    d\n",
      "\n",
      "qualifications:\n",
      "   user_id qualification\n",
      "0        1             e\n",
      "1        2             f\n",
      "2        3             g\n",
      "3        4             h\n"
     ]
    }
   ],
   "source": [
    "#Step 4: Import the required packages and create two DataFrames\n",
    "\n",
    "import pandas as pd\n",
    "\n",
    "user = pd.DataFrame({\n",
    "    'id':[1,2,3,4],\n",
    "    'name':['a','b','c','d']\n",
    "    })\n",
    "\n",
    "qualifications = pd.DataFrame({\n",
    "    'user_id':[1,2,3,4],\n",
    "    'qualification':['e','f','g','h']\n",
    "})\n",
    "\n",
    "print(f'\\nuser:\\n{user.head()}')\n",
    "print(f'\\nqualifications:\\n{qualifications.head()}')\n"
   ]
  },
  {
   "cell_type": "code",
   "execution_count": 2,
   "metadata": {},
   "outputs": [
    {
     "data": {
      "text/html": [
       "<div>\n",
       "<style scoped>\n",
       "    .dataframe tbody tr th:only-of-type {\n",
       "        vertical-align: middle;\n",
       "    }\n",
       "\n",
       "    .dataframe tbody tr th {\n",
       "        vertical-align: top;\n",
       "    }\n",
       "\n",
       "    .dataframe thead th {\n",
       "        text-align: right;\n",
       "    }\n",
       "</style>\n",
       "<table border=\"1\" class=\"dataframe\">\n",
       "  <thead>\n",
       "    <tr style=\"text-align: right;\">\n",
       "      <th></th>\n",
       "      <th>id</th>\n",
       "      <th>name</th>\n",
       "      <th>user_id</th>\n",
       "      <th>qualification</th>\n",
       "    </tr>\n",
       "  </thead>\n",
       "  <tbody>\n",
       "    <tr>\n",
       "      <th>0</th>\n",
       "      <td>1</td>\n",
       "      <td>a</td>\n",
       "      <td>1</td>\n",
       "      <td>e</td>\n",
       "    </tr>\n",
       "    <tr>\n",
       "      <th>1</th>\n",
       "      <td>2</td>\n",
       "      <td>b</td>\n",
       "      <td>2</td>\n",
       "      <td>f</td>\n",
       "    </tr>\n",
       "    <tr>\n",
       "      <th>2</th>\n",
       "      <td>3</td>\n",
       "      <td>c</td>\n",
       "      <td>3</td>\n",
       "      <td>g</td>\n",
       "    </tr>\n",
       "    <tr>\n",
       "      <th>3</th>\n",
       "      <td>4</td>\n",
       "      <td>d</td>\n",
       "      <td>4</td>\n",
       "      <td>h</td>\n",
       "    </tr>\n",
       "  </tbody>\n",
       "</table>\n",
       "</div>"
      ],
      "text/plain": [
       "   id name  user_id qualification\n",
       "0   1    a        1             e\n",
       "1   2    b        2             f\n",
       "2   3    c        3             g\n",
       "3   4    d        4             h"
      ]
     },
     "execution_count": 2,
     "metadata": {},
     "output_type": "execute_result"
    }
   ],
   "source": [
    "# Step 5: Merge the two DataFrames\n",
    "\n",
    "pd.merge(user,qualifications,left_on='id',right_on='user_id')"
   ]
  },
  {
   "cell_type": "code",
   "execution_count": 10,
   "metadata": {},
   "outputs": [
    {
     "name": "stdout",
     "output_type": "stream",
     "text": [
      "\n",
      "df1:\n",
      "   name\n",
      "id     \n",
      "1     a\n",
      "2     b\n",
      "3     c\n",
      "4     d\n",
      "\n",
      "df2:\n",
      "   qualification\n",
      "id              \n",
      "1              a\n",
      "2              b\n",
      "3              c\n",
      "4              d\n"
     ]
    }
   ],
   "source": [
    "# Step 6: Create two DataFrames\n",
    "\n",
    "df1 = pd.DataFrame({\n",
    "    'id':[1,2,3,4],\n",
    "    'name':['a','b','c','d']\n",
    "}).set_index('id')\n",
    "\n",
    "df2 = pd.DataFrame({\n",
    "    'id':[1,2,3,4],\n",
    "    'qualification':['a','b','c','d']\n",
    "}).set_index('id')\n",
    "\n",
    "print(f'\\ndf1:\\n{df1.head()}')\n",
    "print(f'\\ndf2:\\n{df2.head()}')"
   ]
  },
  {
   "cell_type": "code",
   "execution_count": 13,
   "metadata": {},
   "outputs": [
    {
     "name": "stdout",
     "output_type": "stream",
     "text": [
      "   name qualification\n",
      "id                   \n",
      "1     a             a\n",
      "2     b             b\n",
      "3     c             c\n",
      "4     d             d\n",
      "\n",
      "\n",
      "   qualification name\n",
      "id                   \n",
      "1              a    a\n",
      "2              b    b\n",
      "3              c    c\n",
      "4              d    d\n"
     ]
    }
   ],
   "source": [
    "#Step 7: Join two DataFrames\n",
    "\n",
    "print(df1.join(df2))\n",
    "print('\\n')\n",
    "print(df2.join(df1))"
   ]
  },
  {
   "cell_type": "code",
   "execution_count": 16,
   "metadata": {},
   "outputs": [],
   "source": [
    "#Step 8: Create three DataFrames\n",
    "\n",
    "df1 = pd.DataFrame({\n",
    "    'id':[0,1,2],\n",
    "    'name':['a','b','c']\n",
    "}).set_index('id')\n",
    "\n",
    "df2 = pd.DataFrame({\n",
    "    'id':[3,4,5],\n",
    "    'name':['d','e','f']\n",
    "}).set_index('id')\n",
    "\n",
    "df3 = pd.DataFrame({\n",
    "    'id':[6,7,8],\n",
    "    'name':['g','h','i']\n",
    "}).set_index('id')"
   ]
  },
  {
   "cell_type": "code",
   "execution_count": 17,
   "metadata": {},
   "outputs": [
    {
     "data": {
      "text/html": [
       "<div>\n",
       "<style scoped>\n",
       "    .dataframe tbody tr th:only-of-type {\n",
       "        vertical-align: middle;\n",
       "    }\n",
       "\n",
       "    .dataframe tbody tr th {\n",
       "        vertical-align: top;\n",
       "    }\n",
       "\n",
       "    .dataframe thead th {\n",
       "        text-align: right;\n",
       "    }\n",
       "</style>\n",
       "<table border=\"1\" class=\"dataframe\">\n",
       "  <thead>\n",
       "    <tr style=\"text-align: right;\">\n",
       "      <th></th>\n",
       "      <th>name</th>\n",
       "    </tr>\n",
       "    <tr>\n",
       "      <th>id</th>\n",
       "      <th></th>\n",
       "    </tr>\n",
       "  </thead>\n",
       "  <tbody>\n",
       "    <tr>\n",
       "      <th>0</th>\n",
       "      <td>a</td>\n",
       "    </tr>\n",
       "    <tr>\n",
       "      <th>1</th>\n",
       "      <td>b</td>\n",
       "    </tr>\n",
       "    <tr>\n",
       "      <th>2</th>\n",
       "      <td>c</td>\n",
       "    </tr>\n",
       "    <tr>\n",
       "      <th>3</th>\n",
       "      <td>d</td>\n",
       "    </tr>\n",
       "    <tr>\n",
       "      <th>4</th>\n",
       "      <td>e</td>\n",
       "    </tr>\n",
       "    <tr>\n",
       "      <th>5</th>\n",
       "      <td>f</td>\n",
       "    </tr>\n",
       "    <tr>\n",
       "      <th>6</th>\n",
       "      <td>g</td>\n",
       "    </tr>\n",
       "    <tr>\n",
       "      <th>7</th>\n",
       "      <td>h</td>\n",
       "    </tr>\n",
       "    <tr>\n",
       "      <th>8</th>\n",
       "      <td>i</td>\n",
       "    </tr>\n",
       "  </tbody>\n",
       "</table>\n",
       "</div>"
      ],
      "text/plain": [
       "   name\n",
       "id     \n",
       "0     a\n",
       "1     b\n",
       "2     c\n",
       "3     d\n",
       "4     e\n",
       "5     f\n",
       "6     g\n",
       "7     h\n",
       "8     i"
      ]
     },
     "execution_count": 17,
     "metadata": {},
     "output_type": "execute_result"
    }
   ],
   "source": [
    "#Step 9: Concatenate three DataFrames by them as a list in pd.concat\n",
    "\n",
    "pd.concat([df1,df2,df3])"
   ]
  },
  {
   "cell_type": "code",
   "execution_count": null,
   "metadata": {},
   "outputs": [],
   "source": []
  }
 ],
 "metadata": {
  "kernelspec": {
   "display_name": "6.86x",
   "language": "python",
   "name": "python3"
  },
  "language_info": {
   "codemirror_mode": {
    "name": "ipython",
    "version": 3
   },
   "file_extension": ".py",
   "mimetype": "text/x-python",
   "name": "python",
   "nbconvert_exporter": "python",
   "pygments_lexer": "ipython3",
   "version": "3.8.16"
  },
  "orig_nbformat": 4
 },
 "nbformat": 4,
 "nbformat_minor": 2
}
