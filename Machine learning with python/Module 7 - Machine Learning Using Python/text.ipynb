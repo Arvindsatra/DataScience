{
 "cells": [
  {
   "cell_type": "code",
   "execution_count": 1,
   "metadata": {},
   "outputs": [],
   "source": [
    "import pytesseract\n",
    "\n",
    "# Replace '/path/to/tesseract' with the actual path to the Tesseract executable\n",
    "tesseract_path = r'C:\\Users\\arvin\\AppData\\Local\\Programs\\Tesseract-OCR\\Tesseract.exe'\n",
    "pytesseract.pytesseract.tesseract_cmd = tesseract_path"
   ]
  },
  {
   "cell_type": "code",
   "execution_count": 2,
   "metadata": {},
   "outputs": [],
   "source": [
    "import fitz  # PyMuPDF\n",
    "from PIL import Image\n",
    "\n",
    "def extract_text_from_pdf_images(pdf_path, output_text_file):\n",
    "    # Open the PDF file using PyMuPDF\n",
    "    pdf_document = fitz.open(pdf_path)\n",
    "\n",
    "    # Initialize a text file for saving the extracted text\n",
    "    with open(output_text_file, 'w', encoding='utf-8') as text_file:\n",
    "        for page_num in range(pdf_document.page_count):\n",
    "            page = pdf_document.load_page(page_num)\n",
    "\n",
    "            # Extract images from the page using get_pixmap()\n",
    "            images = page.get_pixmap()\n",
    "\n",
    "            # Convert the image to a PIL image\n",
    "            pil_image = Image.frombytes(\"RGB\", [images.width, images.height], images.samples)\n",
    "\n",
    "            # Use pytesseract to perform OCR on the image and extract text\n",
    "            extracted_text = pytesseract.image_to_string(pil_image, lang='eng')\n",
    "\n",
    "            # Write the extracted text to the text file\n",
    "            text_file.write(f\"Page {page_num + 1}:\\n\")\n",
    "            text_file.write(extracted_text)\n",
    "            text_file.write(\"\\n\\n\")\n",
    "\n",
    "    # Close the PDF file\n",
    "    pdf_document.close()\n",
    "\n"
   ]
  },
  {
   "cell_type": "code",
   "execution_count": 4,
   "metadata": {},
   "outputs": [
    {
     "name": "stdout",
     "output_type": "stream",
     "text": [
      "Text extracted from PDF images and saved to 'output_text.txt'.\n"
     ]
    }
   ],
   "source": [
    "\n",
    "pdf_file_path = f\"D:\\Data science\\DataScience\\Machine learning with python\\Module 9 - Unsupervised Learning\\Module_10_Dimensionality_reduction.pdf\"\n",
    "output_text_file_path = \"output_text.txt\"\n",
    "\n",
    "extract_text_from_pdf_images(pdf_file_path, output_text_file_path)\n",
    "print(f\"Text extracted from PDF images and saved to '{output_text_file_path}'.\")"
   ]
  },
  {
   "cell_type": "code",
   "execution_count": null,
   "metadata": {},
   "outputs": [],
   "source": []
  }
 ],
 "metadata": {
  "kernelspec": {
   "display_name": "python310",
   "language": "python",
   "name": "python3"
  },
  "language_info": {
   "codemirror_mode": {
    "name": "ipython",
    "version": 3
   },
   "file_extension": ".py",
   "mimetype": "text/x-python",
   "name": "python",
   "nbconvert_exporter": "python",
   "pygments_lexer": "ipython3",
   "version": "3.10.12"
  },
  "orig_nbformat": 4
 },
 "nbformat": 4,
 "nbformat_minor": 2
}
