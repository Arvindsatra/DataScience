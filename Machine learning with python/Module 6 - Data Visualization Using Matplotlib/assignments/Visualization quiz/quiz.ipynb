{
 "cells": [
  {
   "cell_type": "code",
   "execution_count": 1,
   "metadata": {},
   "outputs": [
    {
     "name": "stdout",
     "output_type": "stream",
     "text": [
      "D\n"
     ]
    }
   ],
   "source": [
    "# 1. Which of the following libraries should be imported for creating charts in python?\n",
    "# a. Pandas\n",
    "# b. Random\n",
    "# c. Math\n",
    "# d. Matplotlib\n",
    "\n",
    "print('D')"
   ]
  },
  {
   "cell_type": "code",
   "execution_count": 2,
   "metadata": {},
   "outputs": [
    {
     "name": "stdout",
     "output_type": "stream",
     "text": [
      "D\n"
     ]
    }
   ],
   "source": [
    "# 2. How to visualize the correlation pattern in the dataset?\n",
    "# a. Histogram\n",
    "# b. Bar plot\n",
    "# c. Scatterplot\n",
    "# d. Heatmap\n",
    "\n",
    "print(\"D\")"
   ]
  },
  {
   "cell_type": "code",
   "execution_count": 3,
   "metadata": {},
   "outputs": [
    {
     "name": "stdout",
     "output_type": "stream",
     "text": [
      "C\n"
     ]
    }
   ],
   "source": [
    "# 3. Which function can we use for plotting the boxplot?\n",
    "# a. sns.box()\n",
    "# b. plt.bplot()\n",
    "# c. sns.boxplot()\n",
    "# d. pl.boxplt()\n",
    "\n",
    "print(\"C\")"
   ]
  },
  {
   "cell_type": "code",
   "execution_count": 4,
   "metadata": {},
   "outputs": [
    {
     "name": "stdout",
     "output_type": "stream",
     "text": [
      "D\n"
     ]
    }
   ],
   "source": [
    "# 4. What insights can we extract from the boxplot?\n",
    "# a. 2nd quartile\n",
    "# b. 1st quadrille\n",
    "# c. 3rd quartile\n",
    "# d. All of the above\n",
    "\n",
    "print(\"D\")"
   ]
  },
  {
   "cell_type": "code",
   "execution_count": 26,
   "metadata": {},
   "outputs": [
    {
     "name": "stdout",
     "output_type": "stream",
     "text": [
      "None of the above\n"
     ]
    }
   ],
   "source": [
    "# 5. Which visualization is not part of matplotlib?\n",
    "# a. Table plot\n",
    "# b. Area plot\n",
    "# c. Violin plot\n",
    "# d. None of the above\n",
    "\n",
    "print(\"None of the above\")"
   ]
  },
  {
   "cell_type": "code",
   "execution_count": 27,
   "metadata": {},
   "outputs": [
    {
     "name": "stdout",
     "output_type": "stream",
     "text": [
      "All of the above\n"
     ]
    }
   ],
   "source": [
    "# 6. From which visualization we can find the median/mean value of\n",
    "# the data?\n",
    "# a. Bar plot\n",
    "# b. Boxplot\n",
    "# c. Violin plot\n",
    "# d. All of the above\n",
    "\n",
    "print(\"All of the above\")"
   ]
  },
  {
   "cell_type": "code",
   "execution_count": 28,
   "metadata": {},
   "outputs": [
    {
     "name": "stdout",
     "output_type": "stream",
     "text": [
      "d. None of the above\n"
     ]
    }
   ],
   "source": [
    "# 7. Which of the following is correct?\n",
    "# a. plt.scatter(data[‘gender’],data[‘age’])\n",
    "# b. plt.boxpt(data[‘gender’],data[‘age’])\n",
    "# c. plt.scatter(data[‘salary’],data[‘age’])\n",
    "# d. None of the above\n",
    "\n",
    "print(\"d. None of the above\")"
   ]
  },
  {
   "cell_type": "code",
   "execution_count": 8,
   "metadata": {},
   "outputs": [
    {
     "name": "stdout",
     "output_type": "stream",
     "text": [
      "A\n"
     ]
    }
   ],
   "source": [
    "# 8. What error you will get after executing the below\n",
    "# code: data.box('bedrooms','grade')\n",
    "# a. Attribute error\n",
    "# b. Syntax error\n",
    "# c. Runtime error\n",
    "# d. None of the above\n",
    "\n",
    "print(\"A\")"
   ]
  },
  {
   "cell_type": "code",
   "execution_count": 10,
   "metadata": {},
   "outputs": [
    {
     "name": "stdout",
     "output_type": "stream",
     "text": [
      "A\n"
     ]
    }
   ],
   "source": [
    "# 9. Which of the following code you can use for plotting the\n",
    "# pie chart:\n",
    "# a. plt.pie(x)\n",
    "# b. sns.pie(x)\n",
    "# c. Both of the above\n",
    "# d. None of the above\n",
    "\n",
    "\n",
    "print('A')"
   ]
  },
  {
   "cell_type": "code",
   "execution_count": 29,
   "metadata": {},
   "outputs": [
    {
     "name": "stdout",
     "output_type": "stream",
     "text": [
      "a. sns.violinplot(data=data, y = 'price',x 'waterfront')\n"
     ]
    }
   ],
   "source": [
    "# 10. What is the correct way of plotting violin plot?\n",
    "# a. sns.violinplot(data=data, y = 'price',x 'waterfront')\n",
    "# b. sns.violin(data=data, y = 'price',x = 'waterfront')\n",
    "# c. plt.violinplot(data=data, y = 'price',x='waterfront')\n",
    "# d. All of the above\n",
    "\n",
    "print(\"a. sns.violinplot(data=data, y = 'price',x 'waterfront')\")"
   ]
  },
  {
   "cell_type": "code",
   "execution_count": 13,
   "metadata": {},
   "outputs": [
    {
     "name": "stdout",
     "output_type": "stream",
     "text": [
      "D\n"
     ]
    }
   ],
   "source": [
    "# 11. Select the incorrect syntax:\n",
    "# a. plt.figsize()\n",
    "# b. plt.figtext()\n",
    "# c. plt.figpic()\n",
    "# d. Both A and C\n",
    "\n",
    "print(\"D\")\n",
    "\n"
   ]
  },
  {
   "cell_type": "code",
   "execution_count": 16,
   "metadata": {},
   "outputs": [
    {
     "name": "stdout",
     "output_type": "stream",
     "text": [
      "b. The costliest house is having 2.5 floors.\n"
     ]
    }
   ],
   "source": [
    "# 12. What inference you can extract from the below\n",
    "# graph:\n",
    "# a. The cheapest house is having 3 floors.\n",
    "# b. The costliest house is having 2.5 floors.\n",
    "# c. The maximum number of houses are having 1 floor\n",
    "# only\n",
    "# d. All of the above\n",
    "\n",
    "print(\"b. The costliest house is having 2.5 floors.\")\n"
   ]
  },
  {
   "cell_type": "code",
   "execution_count": 17,
   "metadata": {},
   "outputs": [
    {
     "name": "stdout",
     "output_type": "stream",
     "text": [
      "c. Both of the above.\n"
     ]
    }
   ],
   "source": [
    "# 13. Which of the following statements are correct with respect to the\n",
    "# below image:\n",
    "# a. The maximum number of houses have grades of either 7 or 8.\n",
    "# b. Around 2000 houses are having grades between 6 and 7.\n",
    "# c. Both of the above.\n",
    "# d. None of the above.\n",
    "\n",
    "print(\"c. Both of the above.\")"
   ]
  },
  {
   "cell_type": "code",
   "execution_count": 30,
   "metadata": {},
   "outputs": [
    {
     "name": "stdout",
     "output_type": "stream",
     "text": [
      "# c. As the price is getting higher, grades are also getting higher.\n"
     ]
    }
   ],
   "source": [
    "# 14. Which of the following statements is/are correct with respect to the below image:\n",
    "# a. The average-priced house has grades between 10 and 12.\n",
    "# b. The costliest house is having a grade below 10.\n",
    "# c. As the price is getting higher, grades are also getting higher.\n",
    "# d. The average-priced house is having average grades.\n",
    "\n",
    "print(\"# c. As the price is getting higher, grades are also getting higher.\")"
   ]
  },
  {
   "cell_type": "code",
   "execution_count": 31,
   "metadata": {},
   "outputs": [
    {
     "name": "stdout",
     "output_type": "stream",
     "text": [
      "a. The maximum number of houses are not having any view.\n"
     ]
    }
   ],
   "source": [
    "# 15. Which statement is correct with respect to the below\n",
    "# image:\n",
    "# a. The maximum number of houses are not having any view.\n",
    "# b. Around 300 houses are having only one view.\n",
    "# c. The 4th category is having the least count of houses.\n",
    "# d. All of the above.\n",
    "\n",
    "print('a. The maximum number of houses are not having any view.')"
   ]
  },
  {
   "cell_type": "code",
   "execution_count": 32,
   "metadata": {},
   "outputs": [
    {
     "name": "stdout",
     "output_type": "stream",
     "text": [
      "d. All statements are correct.\n"
     ]
    }
   ],
   "source": [
    "# 16. Which of the following statements are correct with respect to the below image:\n",
    "# a. All categories of floors are having outliers.\n",
    "# b. We can handle the outliers by replacing them with the mean of the\n",
    "# column. c. We can handle the outliers by replacing them with the mode of\n",
    "# the column.\n",
    "# a. Only a is correct\n",
    "# b. a&c are correct\n",
    "# c. b&c are correct\n",
    "# d. All statements are correct.\n",
    "\n",
    "print('d. All statements are correct.')"
   ]
  },
  {
   "cell_type": "code",
   "execution_count": 21,
   "metadata": {},
   "outputs": [
    {
     "name": "stdout",
     "output_type": "stream",
     "text": [
      "b. A Smaller number of houses have zip codes between 98075 and 98100.\n"
     ]
    }
   ],
   "source": [
    "# 17. Which statement is correct with respect to the below image:\n",
    "# a. Maximum houses have zip codes between 98100 and 98125.\n",
    "# b. A Smaller number of houses have zip codes between 98075 and 98100.\n",
    "# c. The houses that are having zip codes between 98000 and 98050 are\n",
    "# having the costliest houses.\n",
    "# d. All of the above.\n",
    "\n",
    "print('b. A Smaller number of houses have zip codes between 98075 and 98100.')"
   ]
  },
  {
   "cell_type": "code",
   "execution_count": 22,
   "metadata": {},
   "outputs": [
    {
     "name": "stdout",
     "output_type": "stream",
     "text": [
      "A. A and B\n"
     ]
    }
   ],
   "source": [
    "# 18. Which of the following statements is/are correct with respect to the below image:\n",
    "# a. If the price is getting higher, the area of sqft_living is also\n",
    "# increasing.\n",
    "# b. If the price is getting lower, the area of sqft_living is decreasing.\n",
    "# c. The costliest house has the maximum sqft of living area.\n",
    "# A. A and B\n",
    "# B. A and C\n",
    "# C. B and C\n",
    "# D. Only A\n",
    "# E. Only B\n",
    "# F. Only C\n",
    "\n",
    "print(\"A. A and B\")"
   ]
  },
  {
   "cell_type": "code",
   "execution_count": 23,
   "metadata": {},
   "outputs": [
    {
     "name": "stdout",
     "output_type": "stream",
     "text": [
      "c. Both of the above.\n"
     ]
    }
   ],
   "source": [
    "# 19. Which of the following statements are correct with respect to the below image:\n",
    "# a. The interquartile range for the 4th category of view is the highest among\n",
    "# the rest of the views.\n",
    "# b. The houses that are having no view, are having a high probability of having\n",
    "# a cheap house.\n",
    "# c. Both of the above.\n",
    "# d. None of the above.\n",
    "\n",
    "print('c. Both of the above.')"
   ]
  },
  {
   "cell_type": "code",
   "execution_count": 33,
   "metadata": {},
   "outputs": [
    {
     "name": "stdout",
     "output_type": "stream",
     "text": [
      "d. Both A & C\n"
     ]
    }
   ],
   "source": [
    "# 20. Which of the following statements is/are correct with respect to the below image:\n",
    "# a. The average area of square foot living in 3 number floors is very close to its\n",
    "# 1st quartile value.\n",
    "# b. The 1st quartile value and the minimum square feet of living space are\n",
    "# almost the same.\n",
    "# c. Each category of floors are having outliers.\n",
    "# d. Both A & C\n",
    "\n",
    "print('d. Both A & C')"
   ]
  },
  {
   "cell_type": "code",
   "execution_count": 34,
   "metadata": {},
   "outputs": [
    {
     "name": "stdout",
     "output_type": "stream",
     "text": [
      "d. None of the above\n"
     ]
    }
   ],
   "source": [
    "# 21. Which of the following statements is/are correct with respect to the below image:\n",
    "# a. If the condition is increasing, the price of the house is also increasing.\n",
    "# b. The costliest house is having the 5th category of condition.\n",
    "# c. The 4th category of the condition is having the maximum number of houses.\n",
    "# d. None of the above\n",
    "\n",
    "print('d. None of the above')"
   ]
  },
  {
   "cell_type": "code",
   "execution_count": null,
   "metadata": {},
   "outputs": [],
   "source": []
  }
 ],
 "metadata": {
  "kernelspec": {
   "display_name": "6.86x",
   "language": "python",
   "name": "python3"
  },
  "language_info": {
   "codemirror_mode": {
    "name": "ipython",
    "version": 3
   },
   "file_extension": ".py",
   "mimetype": "text/x-python",
   "name": "python",
   "nbconvert_exporter": "python",
   "pygments_lexer": "ipython3",
   "version": "3.8.16"
  },
  "orig_nbformat": 4
 },
 "nbformat": 4,
 "nbformat_minor": 2
}
