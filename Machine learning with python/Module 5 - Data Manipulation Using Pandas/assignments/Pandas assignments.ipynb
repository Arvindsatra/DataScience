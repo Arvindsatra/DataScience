{
 "cells": [
  {
   "attachments": {},
   "cell_type": "markdown",
   "id": "746adf1d",
   "metadata": {},
   "source": [
    "                                            Pandas Assignment - 1"
   ]
  },
  {
   "attachments": {},
   "cell_type": "markdown",
   "id": "4f7a0728",
   "metadata": {},
   "source": [
    "    1. Start off by importing the customer_churn.csv file in the jupyter notebook and store that in churn data \n",
    "    frame."
   ]
  },
  {
   "cell_type": "code",
   "execution_count": 5,
   "id": "b7a6c34f",
   "metadata": {},
   "outputs": [],
   "source": [
    "import pandas as pd\n",
    "churn= pd.read_csv(r\"C:\\Users\\arvin\\Desktop\\Intellipath\\Module 5 - Data Manipulation Using Pandas\\assignments\\customer_churn-1.csv\")"
   ]
  },
  {
   "attachments": {},
   "cell_type": "markdown",
   "id": "c650ea04",
   "metadata": {},
   "source": [
    "    2. From the churn data frame, select only 3rd, 7th, 9th, and 20th columns and all the rows and store that in new \n",
    "    data frame named newCols."
   ]
  },
  {
   "cell_type": "code",
   "execution_count": 6,
   "id": "f3cd3b66",
   "metadata": {},
   "outputs": [],
   "source": [
    "newCols= churn.iloc[:,[2,6,8,19]]"
   ]
  },
  {
   "attachments": {},
   "cell_type": "markdown",
   "id": "55e1f640",
   "metadata": {},
   "source": [
    "    3.From the original data frame, select only the rows from 200th index till 1000th index(inclusive) column."
   ]
  },
  {
   "cell_type": "code",
   "execution_count": null,
   "id": "6863109a",
   "metadata": {},
   "outputs": [],
   "source": [
    "churn.iloc[200:1001, :]"
   ]
  },
  {
   "attachments": {},
   "cell_type": "markdown",
   "id": "25f587f0",
   "metadata": {},
   "source": [
    "     4. Now select the rows from 20th index till 200th index(exclusive),and columns from 2nd index till 15th index \n",
    "     value."
   ]
  },
  {
   "cell_type": "code",
   "execution_count": null,
   "id": "e64f4216",
   "metadata": {},
   "outputs": [],
   "source": [
    "churn.iloc[20:200, 2:15]"
   ]
  },
  {
   "attachments": {},
   "cell_type": "markdown",
   "id": "ed9322ad",
   "metadata": {},
   "source": [
    "    5. Display the top 100 records from the original data frame"
   ]
  },
  {
   "cell_type": "code",
   "execution_count": null,
   "id": "661c3536",
   "metadata": {},
   "outputs": [],
   "source": [
    "churn.head(100)"
   ]
  },
  {
   "attachments": {},
   "cell_type": "markdown",
   "id": "20c94926",
   "metadata": {},
   "source": [
    "    6. Display the last 10 records from the data frame."
   ]
  },
  {
   "cell_type": "code",
   "execution_count": null,
   "id": "77db90d8",
   "metadata": {},
   "outputs": [],
   "source": [
    "churn.tail(10)"
   ]
  },
  {
   "attachments": {},
   "cell_type": "markdown",
   "id": "512a5404",
   "metadata": {},
   "source": [
    "    7. Display the last record from the data frame"
   ]
  },
  {
   "cell_type": "code",
   "execution_count": null,
   "id": "69fd811d",
   "metadata": {},
   "outputs": [],
   "source": [
    "churn.tail(1)"
   ]
  },
  {
   "attachments": {},
   "cell_type": "markdown",
   "id": "06f3806e",
   "metadata": {},
   "source": [
    "    8. Now from the churn data frame, try to sort the data by the tenure column according to the descending \n",
    "    order."
   ]
  },
  {
   "cell_type": "code",
   "execution_count": null,
   "id": "49ca58d6",
   "metadata": {},
   "outputs": [],
   "source": [
    "churn.sort_values(by='tenure', ascending=False)"
   ]
  },
  {
   "attachments": {},
   "cell_type": "markdown",
   "id": "78027beb",
   "metadata": {},
   "source": [
    "    9. Fetch all the records that are satisfying the following condition:\n",
    "    a. Tenure>50 and the gender as ‘Female’.\n",
    "    b. Gender as ‘Male’ and SeniorCitizen as 0.\n",
    "    c. TechSupport as ‘Yes’ and Churn as ‘No’.\n",
    "    d. Contract type as ‘Month-to-month’ and Churn as ‘Yes’"
   ]
  },
  {
   "cell_type": "code",
   "execution_count": null,
   "id": "c0104c75",
   "metadata": {},
   "outputs": [],
   "source": [
    "churn[(churn['tenure'] > 50) & (churn['gender'] == 'Female')]"
   ]
  },
  {
   "cell_type": "code",
   "execution_count": null,
   "id": "0accdd7e",
   "metadata": {},
   "outputs": [],
   "source": [
    "churn[(churn['gender'] == 'Male')  & (churn['SeniorCitizen'] == 0)]"
   ]
  },
  {
   "cell_type": "code",
   "execution_count": null,
   "id": "0f31c656",
   "metadata": {},
   "outputs": [],
   "source": [
    "churn[(churn['TechSupport'] == 'Yes')  & (churn['Churn'] == 'No')]"
   ]
  },
  {
   "cell_type": "code",
   "execution_count": null,
   "id": "39e2c8cc",
   "metadata": {},
   "outputs": [],
   "source": [
    "churn[(churn['Contract'] == 'Month-to-month')  & (churn['Churn'] == 'Yes')]"
   ]
  },
  {
   "attachments": {},
   "cell_type": "markdown",
   "id": "2a453480",
   "metadata": {},
   "source": [
    "    10. Use a for loop to calculate the number of customers that are getting the tech support and are male senior \n",
    "    citizen"
   ]
  },
  {
   "attachments": {},
   "cell_type": "markdown",
   "id": "9419f839",
   "metadata": {},
   "source": [
    "                                        Pandas Assignment - 1\n"
   ]
  },
  {
   "attachments": {},
   "cell_type": "markdown",
   "id": "a2f14ed4",
   "metadata": {},
   "source": [
    "    1. Write a function that takes start and end of a range returns a Pandas series object containing \n",
    "    numbers within that range.\n",
    "    In case the user does not pass start or end or both they should default to 1 and 10 respectively. \n",
    "    eg. \n",
    "    range_series() -> Should Return a pandas series from 1 to 10\n",
    "    range_series(5) -> Should Return a pandas series from 5 to 10 \n",
    "    range_series(5, 10) -> Should Return a pandas series from 5 to 10."
   ]
  },
  {
   "cell_type": "code",
   "execution_count": 12,
   "id": "29ba133b",
   "metadata": {},
   "outputs": [],
   "source": [
    "def range_series(start=1, end=10):\n",
    "    df = pd.Series(range(start,end))\n",
    "    return df"
   ]
  },
  {
   "attachments": {},
   "cell_type": "markdown",
   "id": "309e76be",
   "metadata": {},
   "source": [
    "    2. Create a function that takes in two lists named keys and values as arguments. \n",
    "    Keys would be strings and contain n string values. \n",
    "    Values would be a list containing n lists. \n",
    "    The methods should return a new pandas dataframe with keys as column names and values as \n",
    "    their corresponding values"
   ]
  },
  {
   "cell_type": "code",
   "execution_count": 14,
   "id": "d38b8034",
   "metadata": {},
   "outputs": [],
   "source": [
    "def DF(keys,values):\n",
    "    return pd.DataFrame(data=values, columns=keys).T\n",
    "\n",
    "DF1=DF([\"One\", \"Two\"], [[\"X\", \"Y\"], [\"A\", \"B\"]])\n",
    "DF2=DF([\"three\", \"four\"], [[\"X1\", \"Y1\"], [\"A1\", \"B1\"]])"
   ]
  },
  {
   "attachments": {},
   "cell_type": "markdown",
   "id": "757856c5",
   "metadata": {},
   "source": [
    "    3. Create a function that concatenates two dataframes. Use previously created function to create \n",
    "    two dataframes and pass them as parameters Make sure that the indexes are reset before \n",
    "    returning:"
   ]
  },
  {
   "cell_type": "code",
   "execution_count": 15,
   "id": "758d4161",
   "metadata": {},
   "outputs": [
    {
     "data": {
      "text/html": [
       "<div>\n",
       "<style scoped>\n",
       "    .dataframe tbody tr th:only-of-type {\n",
       "        vertical-align: middle;\n",
       "    }\n",
       "\n",
       "    .dataframe tbody tr th {\n",
       "        vertical-align: top;\n",
       "    }\n",
       "\n",
       "    .dataframe thead th {\n",
       "        text-align: right;\n",
       "    }\n",
       "</style>\n",
       "<table border=\"1\" class=\"dataframe\">\n",
       "  <thead>\n",
       "    <tr style=\"text-align: right;\">\n",
       "      <th></th>\n",
       "      <th>0</th>\n",
       "      <th>1</th>\n",
       "    </tr>\n",
       "  </thead>\n",
       "  <tbody>\n",
       "    <tr>\n",
       "      <th>0</th>\n",
       "      <td>X</td>\n",
       "      <td>A</td>\n",
       "    </tr>\n",
       "    <tr>\n",
       "      <th>1</th>\n",
       "      <td>Y</td>\n",
       "      <td>B</td>\n",
       "    </tr>\n",
       "    <tr>\n",
       "      <th>2</th>\n",
       "      <td>X1</td>\n",
       "      <td>A1</td>\n",
       "    </tr>\n",
       "    <tr>\n",
       "      <th>3</th>\n",
       "      <td>Y1</td>\n",
       "      <td>B1</td>\n",
       "    </tr>\n",
       "  </tbody>\n",
       "</table>\n",
       "</div>"
      ],
      "text/plain": [
       "    0   1\n",
       "0   X   A\n",
       "1   Y   B\n",
       "2  X1  A1\n",
       "3  Y1  B1"
      ]
     },
     "execution_count": 15,
     "metadata": {},
     "output_type": "execute_result"
    }
   ],
   "source": [
    "def concat_df(df1,df2):\n",
    "    df = pd.concat([df1, df2], axis=0, ignore_index = True)\n",
    "    return df\n",
    "concat_df(DF1,DF2)"
   ]
  },
  {
   "attachments": {},
   "cell_type": "markdown",
   "id": "d71065f7",
   "metadata": {},
   "source": [
    "    4. Write code to load data from cars.csv into a dataframe and print its details. Details like: 'count', \n",
    "    'mean', 'std', 'min', '25%', '50%', '75%', 'max'."
   ]
  },
  {
   "cell_type": "code",
   "execution_count": null,
   "id": "4d59430d",
   "metadata": {},
   "outputs": [],
   "source": [
    "def data(path):\n",
    "    df=pd.read_csv(path)\n",
    "    return df.describe()"
   ]
  },
  {
   "attachments": {},
   "cell_type": "markdown",
   "id": "3390c912",
   "metadata": {},
   "source": [
    "    5. Write a method that will take a column name as argument and return the name of the column \n",
    "    with which the \n",
    "    given column has the highest correlation. \n",
    "    The data to be used is the cars dataset. \n",
    "    The returned value should not be the column named that was passed as the parameters. \n",
    "    E.G: get_max_correlated_column('mpg') -> should return 'drat'"
   ]
  },
  {
   "cell_type": "code",
   "execution_count": 11,
   "id": "6c5c13d1",
   "metadata": {},
   "outputs": [
    {
     "name": "stdout",
     "output_type": "stream",
     "text": [
      "drat\n"
     ]
    }
   ],
   "source": [
    "def get_max_correlated_column(col, data):\n",
    "    # Get the list of columns with float dtype\n",
    "    float_columns = data.select_dtypes(include=['float64']).columns\n",
    "    \n",
    "    # Calculate the correlation between the given column and other float columns\n",
    "    correlations = {}\n",
    "    for column in float_columns:\n",
    "        if column != col:\n",
    "            correlation = data[col].corr(data[column])\n",
    "            correlations[column] = correlation\n",
    "    \n",
    "    # Find the column with the highest correlation\n",
    "    max_corr_column = max(correlations, key=correlations.get)\n",
    "    \n",
    "    return max_corr_column\n",
    "\n",
    "# Load the cars dataset\n",
    "cars = pd.read_csv('CASE-STUDY-PROBLEM-1-8211-PANDAS-23NOV2022091544\\cars.csv')\n",
    "\n",
    "# Call the function with 'mpg' as the column name\n",
    "result = get_max_correlated_column('mpg', cars)\n",
    "print(result)\n"
   ]
  }
 ],
 "metadata": {
  "kernelspec": {
   "display_name": "Python 3 (ipykernel)",
   "language": "python",
   "name": "python3"
  },
  "language_info": {
   "codemirror_mode": {
    "name": "ipython",
    "version": 3
   },
   "file_extension": ".py",
   "mimetype": "text/x-python",
   "name": "python",
   "nbconvert_exporter": "python",
   "pygments_lexer": "ipython3",
   "version": "3.8.16"
  }
 },
 "nbformat": 4,
 "nbformat_minor": 5
}
