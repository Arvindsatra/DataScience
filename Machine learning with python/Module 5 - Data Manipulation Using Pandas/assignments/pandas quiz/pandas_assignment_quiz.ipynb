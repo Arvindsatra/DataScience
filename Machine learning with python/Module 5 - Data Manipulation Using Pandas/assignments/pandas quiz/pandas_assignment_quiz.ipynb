{
 "cells": [
  {
   "cell_type": "code",
   "execution_count": 1,
   "metadata": {},
   "outputs": [
    {
     "data": {
      "text/html": [
       "<div>\n",
       "<style scoped>\n",
       "    .dataframe tbody tr th:only-of-type {\n",
       "        vertical-align: middle;\n",
       "    }\n",
       "\n",
       "    .dataframe tbody tr th {\n",
       "        vertical-align: top;\n",
       "    }\n",
       "\n",
       "    .dataframe thead th {\n",
       "        text-align: right;\n",
       "    }\n",
       "</style>\n",
       "<table border=\"1\" class=\"dataframe\">\n",
       "  <thead>\n",
       "    <tr style=\"text-align: right;\">\n",
       "      <th></th>\n",
       "      <th>id</th>\n",
       "      <th>date</th>\n",
       "      <th>price</th>\n",
       "      <th>bedrooms</th>\n",
       "      <th>bathrooms</th>\n",
       "      <th>sqft_living</th>\n",
       "      <th>sqft_lot</th>\n",
       "      <th>floors</th>\n",
       "      <th>waterfront</th>\n",
       "      <th>view</th>\n",
       "      <th>...</th>\n",
       "      <th>grade</th>\n",
       "      <th>sqft_above</th>\n",
       "      <th>sqft_basement</th>\n",
       "      <th>yr_built</th>\n",
       "      <th>yr_renovated</th>\n",
       "      <th>zipcode</th>\n",
       "      <th>lat</th>\n",
       "      <th>long</th>\n",
       "      <th>sqft_living15</th>\n",
       "      <th>sqft_lot15</th>\n",
       "    </tr>\n",
       "  </thead>\n",
       "  <tbody>\n",
       "    <tr>\n",
       "      <th>0</th>\n",
       "      <td>7129300520</td>\n",
       "      <td>20141013T000000</td>\n",
       "      <td>221900</td>\n",
       "      <td>3</td>\n",
       "      <td>1.00</td>\n",
       "      <td>1180</td>\n",
       "      <td>5650</td>\n",
       "      <td>1.0</td>\n",
       "      <td>0</td>\n",
       "      <td>0</td>\n",
       "      <td>...</td>\n",
       "      <td>7</td>\n",
       "      <td>1180</td>\n",
       "      <td>0</td>\n",
       "      <td>1955</td>\n",
       "      <td>0</td>\n",
       "      <td>98178</td>\n",
       "      <td>47.5112</td>\n",
       "      <td>-122.257</td>\n",
       "      <td>1340</td>\n",
       "      <td>5650</td>\n",
       "    </tr>\n",
       "    <tr>\n",
       "      <th>1</th>\n",
       "      <td>6414100192</td>\n",
       "      <td>20141209T000000</td>\n",
       "      <td>538000</td>\n",
       "      <td>3</td>\n",
       "      <td>2.25</td>\n",
       "      <td>2570</td>\n",
       "      <td>7242</td>\n",
       "      <td>2.0</td>\n",
       "      <td>0</td>\n",
       "      <td>0</td>\n",
       "      <td>...</td>\n",
       "      <td>7</td>\n",
       "      <td>2170</td>\n",
       "      <td>400</td>\n",
       "      <td>1951</td>\n",
       "      <td>1991</td>\n",
       "      <td>98125</td>\n",
       "      <td>47.7210</td>\n",
       "      <td>-122.319</td>\n",
       "      <td>1690</td>\n",
       "      <td>7639</td>\n",
       "    </tr>\n",
       "    <tr>\n",
       "      <th>2</th>\n",
       "      <td>5631500400</td>\n",
       "      <td>20150225T000000</td>\n",
       "      <td>180000</td>\n",
       "      <td>2</td>\n",
       "      <td>1.00</td>\n",
       "      <td>770</td>\n",
       "      <td>10000</td>\n",
       "      <td>1.0</td>\n",
       "      <td>0</td>\n",
       "      <td>0</td>\n",
       "      <td>...</td>\n",
       "      <td>6</td>\n",
       "      <td>770</td>\n",
       "      <td>0</td>\n",
       "      <td>1933</td>\n",
       "      <td>0</td>\n",
       "      <td>98028</td>\n",
       "      <td>47.7379</td>\n",
       "      <td>-122.233</td>\n",
       "      <td>2720</td>\n",
       "      <td>8062</td>\n",
       "    </tr>\n",
       "    <tr>\n",
       "      <th>3</th>\n",
       "      <td>2487200875</td>\n",
       "      <td>20141209T000000</td>\n",
       "      <td>604000</td>\n",
       "      <td>4</td>\n",
       "      <td>3.00</td>\n",
       "      <td>1960</td>\n",
       "      <td>5000</td>\n",
       "      <td>1.0</td>\n",
       "      <td>0</td>\n",
       "      <td>0</td>\n",
       "      <td>...</td>\n",
       "      <td>7</td>\n",
       "      <td>1050</td>\n",
       "      <td>910</td>\n",
       "      <td>1965</td>\n",
       "      <td>0</td>\n",
       "      <td>98136</td>\n",
       "      <td>47.5208</td>\n",
       "      <td>-122.393</td>\n",
       "      <td>1360</td>\n",
       "      <td>5000</td>\n",
       "    </tr>\n",
       "    <tr>\n",
       "      <th>4</th>\n",
       "      <td>1954400510</td>\n",
       "      <td>20150218T000000</td>\n",
       "      <td>510000</td>\n",
       "      <td>3</td>\n",
       "      <td>2.00</td>\n",
       "      <td>1680</td>\n",
       "      <td>8080</td>\n",
       "      <td>1.0</td>\n",
       "      <td>0</td>\n",
       "      <td>0</td>\n",
       "      <td>...</td>\n",
       "      <td>8</td>\n",
       "      <td>1680</td>\n",
       "      <td>0</td>\n",
       "      <td>1987</td>\n",
       "      <td>0</td>\n",
       "      <td>98074</td>\n",
       "      <td>47.6168</td>\n",
       "      <td>-122.045</td>\n",
       "      <td>1800</td>\n",
       "      <td>7503</td>\n",
       "    </tr>\n",
       "  </tbody>\n",
       "</table>\n",
       "<p>5 rows × 21 columns</p>\n",
       "</div>"
      ],
      "text/plain": [
       "           id             date   price  bedrooms  bathrooms  sqft_living  \\\n",
       "0  7129300520  20141013T000000  221900         3       1.00         1180   \n",
       "1  6414100192  20141209T000000  538000         3       2.25         2570   \n",
       "2  5631500400  20150225T000000  180000         2       1.00          770   \n",
       "3  2487200875  20141209T000000  604000         4       3.00         1960   \n",
       "4  1954400510  20150218T000000  510000         3       2.00         1680   \n",
       "\n",
       "   sqft_lot  floors  waterfront  view  ...  grade  sqft_above  sqft_basement  \\\n",
       "0      5650     1.0           0     0  ...      7        1180              0   \n",
       "1      7242     2.0           0     0  ...      7        2170            400   \n",
       "2     10000     1.0           0     0  ...      6         770              0   \n",
       "3      5000     1.0           0     0  ...      7        1050            910   \n",
       "4      8080     1.0           0     0  ...      8        1680              0   \n",
       "\n",
       "   yr_built  yr_renovated  zipcode      lat     long  sqft_living15  \\\n",
       "0      1955             0    98178  47.5112 -122.257           1340   \n",
       "1      1951          1991    98125  47.7210 -122.319           1690   \n",
       "2      1933             0    98028  47.7379 -122.233           2720   \n",
       "3      1965             0    98136  47.5208 -122.393           1360   \n",
       "4      1987             0    98074  47.6168 -122.045           1800   \n",
       "\n",
       "   sqft_lot15  \n",
       "0        5650  \n",
       "1        7639  \n",
       "2        8062  \n",
       "3        5000  \n",
       "4        7503  \n",
       "\n",
       "[5 rows x 21 columns]"
      ]
     },
     "execution_count": 1,
     "metadata": {},
     "output_type": "execute_result"
    }
   ],
   "source": [
    "import pandas as pd\n",
    "\n",
    "df = pd.read_csv('housing.csv')\n",
    "df.head()"
   ]
  },
  {
   "cell_type": "code",
   "execution_count": 2,
   "metadata": {},
   "outputs": [
    {
     "data": {
      "text/plain": [
       "Index(['id', 'date', 'price', 'bedrooms', 'bathrooms', 'sqft_living',\n",
       "       'sqft_lot', 'floors', 'waterfront', 'view', 'condition', 'grade',\n",
       "       'sqft_above', 'sqft_basement', 'yr_built', 'yr_renovated', 'zipcode',\n",
       "       'lat', 'long', 'sqft_living15', 'sqft_lot15'],\n",
       "      dtype='object')"
      ]
     },
     "execution_count": 2,
     "metadata": {},
     "output_type": "execute_result"
    }
   ],
   "source": [
    "df.columns"
   ]
  },
  {
   "cell_type": "code",
   "execution_count": 3,
   "metadata": {},
   "outputs": [
    {
     "name": "stdout",
     "output_type": "stream",
     "text": [
      "Number of houses with a waterfront: 163\n"
     ]
    }
   ],
   "source": [
    "# 1. How many houses have a waterfront?\n",
    "# A. 140\n",
    "# B. 340\n",
    "# C. 323\n",
    "# D. 163\n",
    "\n",
    "# Count the number of houses with a waterfront\n",
    "houses_with_waterfront = df[df['waterfront'] == 1]\n",
    "num_houses_with_waterfront = len(houses_with_waterfront)\n",
    "\n",
    "print(f\"Number of houses with a waterfront: {num_houses_with_waterfront}\")"
   ]
  },
  {
   "cell_type": "code",
   "execution_count": 4,
   "metadata": {},
   "outputs": [
    {
     "data": {
      "text/plain": [
       "98102"
      ]
     },
     "execution_count": 4,
     "metadata": {},
     "output_type": "execute_result"
    }
   ],
   "source": [
    "# 2. Which zip code has the costliest house?\n",
    "# A. 98456\n",
    "# B. 98102\n",
    "# C. 98283\n",
    "# D. 89034\n",
    "\n",
    "df[df['price'] == df['price'].max()]['zipcode'].values[0]\n"
   ]
  },
  {
   "cell_type": "code",
   "execution_count": 5,
   "metadata": {},
   "outputs": [
    {
     "data": {
      "text/plain": [
       "1134"
      ]
     },
     "execution_count": 5,
     "metadata": {},
     "output_type": "execute_result"
    }
   ],
   "source": [
    "# 3. How many houses are having grade 10?\n",
    "# A. 1133\n",
    "# B. 1134\n",
    "# C. 1135\n",
    "# D. 1132\n",
    "\n",
    "df[df['grade']==10].shape[0]"
   ]
  },
  {
   "cell_type": "code",
   "execution_count": 6,
   "metadata": {},
   "outputs": [
    {
     "data": {
      "text/plain": [
       "0"
      ]
     },
     "execution_count": 6,
     "metadata": {},
     "output_type": "execute_result"
    }
   ],
   "source": [
    "# 4. How many null values are there in the dataset?\n",
    "# A. 20\n",
    "# B. 19\n",
    "# C. 0\n",
    "# D. 4\n",
    "\n",
    "df.isnull().sum().sum()"
   ]
  },
  {
   "cell_type": "code",
   "execution_count": 7,
   "metadata": {},
   "outputs": [
    {
     "data": {
      "text/plain": [
       "'No'"
      ]
     },
     "execution_count": 7,
     "metadata": {},
     "output_type": "execute_result"
    }
   ],
   "source": [
    "# 5. Does this 9126100861 customer have a waterfront?\n",
    "# A. Yes\n",
    "# B. No\n",
    "\n",
    "'Yes' if df[df['id'] == 9126100861]['waterfront'].values[0] == 1 else 'No'\n"
   ]
  },
  {
   "cell_type": "code",
   "execution_count": 8,
   "metadata": {},
   "outputs": [
    {
     "data": {
      "text/plain": [
       "510"
      ]
     },
     "execution_count": 8,
     "metadata": {},
     "output_type": "execute_result"
    }
   ],
   "source": [
    "# 6. How many houses have 3 views?\n",
    "# A. 340\n",
    "# B. 550\n",
    "# C. 510\n",
    "# D. 90\n",
    "\n",
    "df[df['view'] == 3].shape[0]"
   ]
  },
  {
   "cell_type": "code",
   "execution_count": 9,
   "metadata": {},
   "outputs": [
    {
     "data": {
      "text/plain": [
       "75000"
      ]
     },
     "execution_count": 9,
     "metadata": {},
     "output_type": "execute_result"
    }
   ],
   "source": [
    "# 7. What is the lowest price of the house?\n",
    "# A. 45000\n",
    "# B. 28000\n",
    "# C. 75000\n",
    "# D. 25000\n",
    "\n",
    "df['price'].min()"
   ]
  },
  {
   "cell_type": "code",
   "execution_count": 10,
   "metadata": {},
   "outputs": [
    {
     "data": {
      "text/plain": [
       "98022"
      ]
     },
     "execution_count": 10,
     "metadata": {},
     "output_type": "execute_result"
    }
   ],
   "source": [
    "# 8. Which zip code area has the cheapest house?\n",
    "# A. 98000\n",
    "# B. 98022\n",
    "# C. 80000\n",
    "# D. 94500\n",
    "\n",
    "df[df['price']==df['price'].min()]['zipcode'].values[0]"
   ]
  },
  {
   "cell_type": "code",
   "execution_count": 12,
   "metadata": {},
   "outputs": [
    {
     "data": {
      "text/plain": [
       "98102"
      ]
     },
     "execution_count": 12,
     "metadata": {},
     "output_type": "execute_result"
    }
   ],
   "source": [
    "# 9. Which area has the biggest sqft_living?\n",
    "# A. 98053\n",
    "# B. 98055\n",
    "# C. 98035\n",
    "# D. None of the above\n",
    "\n",
    "df[df['price']==df['price'].max()]['zipcode'].values[0]"
   ]
  },
  {
   "cell_type": "code",
   "execution_count": 18,
   "metadata": {},
   "outputs": [
    {
     "data": {
      "text/plain": [
       "1910"
      ]
     },
     "execution_count": 18,
     "metadata": {},
     "output_type": "execute_result"
    }
   ],
   "source": [
    "# 10. In which year the costliest house has been built?\n",
    "# A. 2000\n",
    "# B. 1992\n",
    "# C. 1911\n",
    "# D. 1910\n",
    "\n",
    "df[df[\"price\"]==df['price'].max()]['yr_built'].values[0]"
   ]
  },
  {
   "cell_type": "code",
   "execution_count": 19,
   "metadata": {},
   "outputs": [
    {
     "name": "stdout",
     "output_type": "stream",
     "text": [
      "D\n"
     ]
    }
   ],
   "source": [
    "# 11. Which of the following data types can a Pandas Series have?\n",
    "# A. Int\n",
    "# B. Str\n",
    "# C. Float\n",
    "# D. All of the above\n",
    "\n",
    "print('D')"
   ]
  },
  {
   "cell_type": "code",
   "execution_count": 20,
   "metadata": {},
   "outputs": [
    {
     "name": "stdout",
     "output_type": "stream",
     "text": [
      "A\n"
     ]
    }
   ],
   "source": [
    "# 12. Which of the following is having a one-dimensional array?\n",
    "# A. Series data type\n",
    "# B. DataFrame data type\n",
    "# C. Both of the above\n",
    "# D. None of the above\n",
    "\n",
    "print('A')"
   ]
  },
  {
   "cell_type": "code",
   "execution_count": 21,
   "metadata": {},
   "outputs": [
    {
     "name": "stdout",
     "output_type": "stream",
     "text": [
      "C\n"
     ]
    }
   ],
   "source": [
    "# 13. What value will you get on the left side after printing a series format data?\n",
    "# A. Data\n",
    "# B. Value\n",
    "# C. Index\n",
    "# D. All of the above\n",
    "\n",
    "print(\"C\")"
   ]
  },
  {
   "cell_type": "code",
   "execution_count": 22,
   "metadata": {},
   "outputs": [
    {
     "name": "stdout",
     "output_type": "stream",
     "text": [
      "D\n"
     ]
    }
   ],
   "source": [
    "# 14. Which of the following is considered as data in pandas?\n",
    "# A. Dictionary\n",
    "# B. Boolean\n",
    "# C. Nd-array\n",
    "# D. All of the above\n",
    "\n",
    "print(\"D\")"
   ]
  },
  {
   "cell_type": "code",
   "execution_count": 23,
   "metadata": {},
   "outputs": [
    {
     "name": "stdout",
     "output_type": "stream",
     "text": [
      "B\n"
     ]
    }
   ],
   "source": [
    "# 15. In what format the keys will get converted into when we convert the dictionary data into\n",
    "# data frame format?\n",
    "# A. Rows\n",
    "# B. Columns\n",
    "# C. Indexes\n",
    "# D. Records\n",
    "\n",
    "print(\"B\")"
   ]
  },
  {
   "cell_type": "code",
   "execution_count": 24,
   "metadata": {},
   "outputs": [
    {
     "name": "stdout",
     "output_type": "stream",
     "text": [
      "A\n"
     ]
    }
   ],
   "source": [
    "# 16. Write a function to perform the following operation:\n",
    "# Increase the grade of the house by 1 if the sqft of the house is greater than 0 and less than\n",
    "# equal to 400. If the total sqft of the house is greater than 400, increase the grade of the house\n",
    "# by 2.\n",
    "# After creating the above function, which syntax will be using when using apply function to run\n",
    "# the above created function in the dataset?\n",
    "# A. data.apply(your_function_name(arg1))\n",
    "# B. data.apply_fun(function_name())\n",
    "# C. data.app(data)\n",
    "# D. None of the above\n",
    "\n",
    "print(\"A\")"
   ]
  },
  {
   "cell_type": "code",
   "execution_count": 25,
   "metadata": {},
   "outputs": [
    {
     "name": "stdout",
     "output_type": "stream",
     "text": [
      "A\n"
     ]
    }
   ],
   "source": [
    "# 17. How to check the duplicate values on id,grade and location?\n",
    "# A. df.duplicated(subset=['id','zipcode','grade'])\n",
    "# B. df.duplicate(subset=['id','zipcode','grade'])\n",
    "# C. df[df.duplicated(['id','zipcode','grade’])]\n",
    "# D. All of the above\n",
    "\n",
    "print(\"A\")"
   ]
  },
  {
   "cell_type": "code",
   "execution_count": 27,
   "metadata": {},
   "outputs": [
    {
     "name": "stdout",
     "output_type": "stream",
     "text": [
      "C\n"
     ]
    }
   ],
   "source": [
    "# 18. Which of the following code will help to display the 3rd, 4th and 5th rows from the 6th to 9th\n",
    "# columns of data frame data?\n",
    "# A. data.loc[3:6, 6:10]\n",
    "# B. data.iloc[3;6,6;10]\n",
    "# C. data.iloc[3:6,6:10]\n",
    "# D. None of the above\n",
    "\n",
    "print(\"C\")"
   ]
  },
  {
   "cell_type": "code",
   "execution_count": 28,
   "metadata": {},
   "outputs": [
    {
     "name": "stdout",
     "output_type": "stream",
     "text": [
      "B\n"
     ]
    }
   ],
   "source": [
    "# 19. Which of the following syntax will display the last two records of df?\n",
    "# import pandas as pd\n",
    "# df = pd.DataFrame({'A':[34, 78, 54], 'B':[12, 67, 43]}, index=['r1', 'r2', 'r3'])\n",
    "# A. df.iloc[:'r3']\n",
    "# B. df.loc['r2':'r3']\n",
    "# C. df.iloc['r2':'r3']\n",
    "# D. df.loc[:'r3']\n",
    "\n",
    "print(\"B\")"
   ]
  },
  {
   "cell_type": "code",
   "execution_count": 30,
   "metadata": {},
   "outputs": [
    {
     "name": "stdout",
     "output_type": "stream",
     "text": [
      "C\n"
     ]
    }
   ],
   "source": [
    "# 20. Which of the following is/are true about loc in pandas:\n",
    "# A. Add new rows in the data frames\n",
    "# B. To change the values of a row to a particular value\n",
    "# C. To extract values from the particular rows\n",
    "# D. All of the above\n",
    "\n",
    "print(\"C\")"
   ]
  },
  {
   "cell_type": "code",
   "execution_count": 31,
   "metadata": {},
   "outputs": [
    {
     "name": "stdout",
     "output_type": "stream",
     "text": [
      "A\n"
     ]
    }
   ],
   "source": [
    "# 21. Change the date column in the format (dd/mm/year) using the pandas to_datetime()\n",
    "# Function.\n",
    "# A. pd.to_datetime(data['date'], format='%Y-%m-%d', utc=False, dayfirst=True)\n",
    "# B. pd.to_datetime(data['date'])\n",
    "# C. pd.to_datetime(data['dates'], format='%Y-%m-%d', utc=False, dayfirst=True)\n",
    "# D. pd.to_datetime(data['date'])\n",
    "\n",
    "print(\"A\")"
   ]
  },
  {
   "cell_type": "code",
   "execution_count": 32,
   "metadata": {},
   "outputs": [
    {
     "name": "stdout",
     "output_type": "stream",
     "text": [
      "B\n"
     ]
    }
   ],
   "source": [
    "# 22. Create a separate data frame that satisfies the conditions below.\n",
    "# 1. Houses built before 1980\n",
    "# 2. Have more than 2 bedrooms\n",
    "# 3. Have more than 2 floors.\n",
    "# A. data.loc[(data[\"yr_built\"] > 1980) & (data['floors'] > 2) & (data['bedrooms'] > 2)]\n",
    "# B. data.loc[(data[\"yr_built\"] < 1980) & (data['floors'] > 2) & (data['bedrooms'] > 2)]\n",
    "# C. data.loc[(data[\"yr_built\"] | 1980) & (data['floors'] > 2) | (data['bedrooms'] > 2)]\n",
    "# D. data.loc[(data[\"yr_built\"] < 1980) | (data['floors'] > 2) | (data['bedrooms'] < 2)]\n",
    "\n",
    "print(\"B\")"
   ]
  },
  {
   "cell_type": "code",
   "execution_count": 38,
   "metadata": {},
   "outputs": [
    {
     "name": "stdout",
     "output_type": "stream",
     "text": [
      "C\n"
     ]
    }
   ],
   "source": [
    "# 23. For a given nested list, convert the same into a dataframe.\n",
    "# sample_list = [['Carl', 22],\n",
    "# ['Martha', 25],\n",
    "# ['Calvin', 12],\n",
    "# ['Stuart', 15]\n",
    "# ]\n",
    "# The resulting dataframe must contain the column names as ‘Name’, and ‘Age’ with the\n",
    "# respective values from the sample_list.\n",
    "# A. pd.DataFrame(sample_list)\n",
    "# B. pd.DataFrame(sample_list, column_names=['Name', 'Age'])\n",
    "# C. pd.DataFrame(sample_list, columns=['Name', 'Age'])\n",
    "# D. pd.DataFrame(sample_list, column_name=['Name', 'Age'])\n",
    "\n",
    "print(\"C\")\n",
    "\n"
   ]
  },
  {
   "cell_type": "code",
   "execution_count": 35,
   "metadata": {},
   "outputs": [
    {
     "name": "stdout",
     "output_type": "stream",
     "text": [
      "B\n"
     ]
    }
   ],
   "source": [
    "# 24. For a given dictionary, convert the same into a dataframe.\n",
    "# sample_dict = {'Cristiano': ['Ronaldo','Man U', 801],\n",
    "# 'Lionel': ['Messi','PSG', 758],\n",
    "# 'Luis': ['Suarez','Atletico Madrid', 509],\n",
    "# 'Robert': ['Lewandowski','Bayern Munich', 527],\n",
    "# 'Zlatan': ['Ibrahimovic','AC Milan',553]\n",
    "# }\n",
    "# A. df1 = pd.Dataframe(sample_dict)\n",
    "# df1 = df1.transpose()\n",
    "# df1.reset_index(inplace = True)\n",
    "# df1.columns = ['First Name','Last Name', 'Club', 'Goals']\n",
    "# B. df1 = pd.DataFrame(sample_dict)\n",
    "# df1 = df1.transpose()\n",
    "# df1.reset_index(inplace = True)\n",
    "# df1.columns = ['First Name','Last Name', 'Club', 'Goals']\n",
    "# C. df1 = pd.DataFrame(sample_dict)\n",
    "# df1.reset_index(inplace = True)\n",
    "# df1.columns = ['First Name','Last Name', 'Club', 'Goals']\n",
    "# D. df1 = pd.DataFrame(sample_dict)\n",
    "# df1 = df1.transpose()\n",
    "# df1.columns = ['First Name','Last Name', 'Club', 'Goals']\n",
    "\n",
    "print(\"B\")\n"
   ]
  },
  {
   "cell_type": "code",
   "execution_count": 37,
   "metadata": {},
   "outputs": [
    {
     "name": "stdout",
     "output_type": "stream",
     "text": [
      "B\n"
     ]
    }
   ],
   "source": [
    "# 25. For a given tuple, convert the same into a dataframe.\n",
    "# sample_tuple = ([1, 'one', 3],\n",
    "# [2, 'two', 3],\n",
    "# [3, 'Three', 5],\n",
    "# [4, 'Four', 4],\n",
    "# [5, 'Five', 4])\n",
    "# A. pd.Dataframe(sample_tuple, columns=['Number', 'Number_text', 'txtlen'])\n",
    "# B. pd.DataFrame(sample_tuple, columns=['Number', 'Number_text', 'txtlen'])\n",
    "# C. pd.dataframe(sample_tuple, columns=['Number', 'Number_text', 'txtlen'])\n",
    "# D. pd.DataFrame(sample_tup, columns=['Number', 'Number_text', 'txtlen'])\n",
    "\n",
    "print(\"B\")\n"
   ]
  },
  {
   "cell_type": "code",
   "execution_count": 39,
   "metadata": {},
   "outputs": [
    {
     "name": "stdout",
     "output_type": "stream",
     "text": [
      "B\n"
     ]
    }
   ],
   "source": [
    "# 26. Create a separate dataframe that contains houses ordered in ascending or descending\n",
    "# order of the prices of each house.\n",
    "# A. ascending = housing.sort_values('price', ascending=False)\n",
    "# descending = housing.sort_values('price', ascending=False)\n",
    "# B. ascending = housing.sort_values('price', ascending=True)\n",
    "# descending = housing.sort_values('price', ascending=False)\n",
    "# C. ascending = housing.sort_values('price', ascending=False)\n",
    "# descending = housing.sort_values('price', ascending=True)\n",
    "# D. ascending = housing.sort_values('price', ascending=True)\n",
    "# descending = housing.sort_values('price', ascending=True)\n",
    "\n",
    "print(\"B\")"
   ]
  },
  {
   "cell_type": "code",
   "execution_count": 40,
   "metadata": {},
   "outputs": [
    {
     "name": "stdout",
     "output_type": "stream",
     "text": [
      "A\n"
     ]
    }
   ],
   "source": [
    "# 27. Calculate the mean and standard deviation of all the numerical values in the dataset. For\n",
    "# example - the mean for the bedrooms column is 3.370 and the standard deviation is 0.930.\n",
    "# A. housing.describe()\n",
    "# B. housing.info()\n",
    "# C. housing.corr()\n",
    "# D. housing.std()\n",
    "\n",
    "print(\"A\")"
   ]
  },
  {
   "cell_type": "code",
   "execution_count": 41,
   "metadata": {},
   "outputs": [
    {
     "name": "stdout",
     "output_type": "stream",
     "text": [
      "A\n"
     ]
    }
   ],
   "source": [
    "# 28. Perform the following operations on the pandas dataframe.\n",
    "# 1. Get the data starting from the rows 25 to 35.\n",
    "# 2. Get the price of the houses located at the longitude--122.045 latitude- 47.6168.\n",
    "# A. data[25:35], data.loc[(housing[\"lat\"] == 47.6168) | (data[\"long\"] == -122.045)]\n",
    "# B. data[25:35], data.loc[(housing[\"lat\"] == 48.6168) & (data[\"long\"] == -122.045)]\n",
    "# C. data[25:36], data.loc[(housing[\"lat\"] == 47.6168) & (data[\"long\"] == -122.045)]\n",
    "# D. data[24:36], data.loc[(housing[\"lat\"] == 47.6168) & (data[\"long\"] == -122.045)]\n",
    "\n",
    "print(\"A\")"
   ]
  },
  {
   "cell_type": "code",
   "execution_count": 42,
   "metadata": {},
   "outputs": [
    {
     "name": "stdout",
     "output_type": "stream",
     "text": [
      "B\n"
     ]
    }
   ],
   "source": [
    "# 29. Create a new column with the floor area(sqft_living, sqft_lot, sqft_above, sqft_basement, all\n",
    "# combined in one column).\n",
    "# A. data['Floor Area'] = data['sqft_living'], data['sqft_lot'], data['sqft_basement'],\n",
    "# data['sqft_above']\n",
    "# B. df['Floor Area'] = data['sqft_living'] + data['sqft_lot'] + data['sqft_basement'] +\n",
    "# data['sqft_above']\n",
    "# C. data['Floor Area'] = data['sqft_living', 'sqft_lot','sqft_basement','sqft_above']\n",
    "# D. data['Floor Area'] = data['sqft_liv', 'sqft_lot','sqft_base','sqft_above']\n",
    "\n",
    "print(\"B\")"
   ]
  },
  {
   "cell_type": "code",
   "execution_count": 43,
   "metadata": {},
   "outputs": [
    {
     "name": "stdout",
     "output_type": "stream",
     "text": [
      "C\n"
     ]
    }
   ],
   "source": [
    "# 30. Perform the following operations on the dataframes given below.\n",
    "# A = pd.DataFrame([['Carl', 22],['Martha', 25],['Calvin', 12],['Stuart', 15]], columns=[‘Name’, ‘Age’])\n",
    "# B = pd.DataFrame([['Melvin', 25],['Martha', 34],['Lewis', 32],['Leo', 25]], columns=[‘Name’, ‘Age’])\n",
    "# 1. Left Outer Join\n",
    "# 2. Outer Join\n",
    "# 3. Inner Join\n",
    "# 4. Right Outer Join\n",
    "# A. inner = pd.merge(A, B, on='Age', how='inner_join')\n",
    "# outer = pd.merge(A, B, on='Age', how='outer_join')\n",
    "# left_outer = pd.merge(A, B, on='Age', how='left_join')\n",
    "# right_outer = pd.merge(A, B, on='Age', how='right_join')\n",
    "# B. inner = pd.merge(A, B, on='Age', how='inner')\n",
    "# outer = pd.merge(A, B, on='Age', how='outer')\n",
    "# left_outer = pd.merge(A, B, on='Age', how='left_outer')\n",
    "# right_outer = pd.merge(A, B, on='Age', how='right_outer')\n",
    "# C. inner = pd.merge(A, B, on='Age', how='inner')\n",
    "# outer = pd.merge(A, B, on='Age', how='outer')\n",
    "# left_outer = pd.merge(A, B, on='Age', how='left')\n",
    "# right_outer = pd.merge(A, B, on='Age', how='right')\n",
    "# D. inner = pd.merge(A, B, on='Age', how='inner')\n",
    "# outer = pd.merge(A, B, on='Age', how='outer')\n",
    "# left_outer = pd.merge(A, B, on='Age', how='outer_left')\n",
    "# right_outer = pd.merge(A, B, on='Age', how='outer_right')\n",
    "\n",
    "\n",
    "print(\"C\")"
   ]
  },
  {
   "cell_type": "code",
   "execution_count": 45,
   "metadata": {},
   "outputs": [
    {
     "name": "stdout",
     "output_type": "stream",
     "text": [
      "0.8765965986813181\n",
      "C\n"
     ]
    }
   ],
   "source": [
    "# 31. What will be the correlation between the columns sqft_living and sqft_above?\n",
    "# A. 0.702035\n",
    "# B. 0.754665\n",
    "# C. 0.876597\n",
    "# D. 0.303093\n",
    "\n",
    "import numpy as np\n",
    "\n",
    "correlation = df[\"sqft_living\"].corr(df[\"sqft_above\"])\n",
    "\n",
    "print(correlation)\n",
    "print(\"C\")"
   ]
  },
  {
   "cell_type": "code",
   "execution_count": 46,
   "metadata": {},
   "outputs": [
    {
     "name": "stdout",
     "output_type": "stream",
     "text": [
      "A\n"
     ]
    }
   ],
   "source": [
    "# 32. If the correlation between the columns bathrooms and sqft_living is 0.754665, what all\n",
    "# interpretations can be made about the two columns?\n",
    "# A. A positive correlation between the two columns\n",
    "# B. The columns show perfect correlation.\n",
    "# C. A strong negative correlation between the two columns\n",
    "# D. No correlation between the two columns\n",
    "\n",
    "print(\"A\")"
   ]
  },
  {
   "cell_type": "code",
   "execution_count": null,
   "metadata": {},
   "outputs": [],
   "source": []
  }
 ],
 "metadata": {
  "kernelspec": {
   "display_name": "6.86x",
   "language": "python",
   "name": "python3"
  },
  "language_info": {
   "codemirror_mode": {
    "name": "ipython",
    "version": 3
   },
   "file_extension": ".py",
   "mimetype": "text/x-python",
   "name": "python",
   "nbconvert_exporter": "python",
   "pygments_lexer": "ipython3",
   "version": "3.8.16"
  },
  "orig_nbformat": 4
 },
 "nbformat": 4,
 "nbformat_minor": 2
}
