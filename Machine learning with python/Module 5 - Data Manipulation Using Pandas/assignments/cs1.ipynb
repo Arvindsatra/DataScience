{
 "cells": [
  {
   "cell_type": "code",
   "execution_count": 1,
   "metadata": {},
   "outputs": [
    {
     "name": "stdout",
     "output_type": "stream",
     "text": [
      "0     1\n",
      "1     2\n",
      "2     3\n",
      "3     4\n",
      "4     5\n",
      "5     6\n",
      "6     7\n",
      "7     8\n",
      "8     9\n",
      "9    10\n",
      "dtype: int64\n",
      "0     5\n",
      "1     6\n",
      "2     7\n",
      "3     8\n",
      "4     9\n",
      "5    10\n",
      "dtype: int64\n",
      "0      5\n",
      "1      6\n",
      "2      7\n",
      "3      8\n",
      "4      9\n",
      "5     10\n",
      "6     11\n",
      "7     12\n",
      "8     13\n",
      "9     14\n",
      "10    15\n",
      "dtype: int64\n"
     ]
    }
   ],
   "source": [
    "# Write a function that takes start and end of a range returns a pandas series\n",
    "# object containing numbers within that range.\n",
    "# In case the user does not pass start or end or both they should default to 1\n",
    "# and 10 respectively. E.g:\n",
    "# -> range_series() -> Should Return a pandas series from 1 to 10\n",
    "# range_series(5) -> Should Return a pandas series from 5 to 10\n",
    "# range_series(5, 10) -> Should Return a pandas series from 5 to 15\n",
    "\n",
    "import pandas as pd\n",
    "\n",
    "def range_series(start=1, end=10):\n",
    "    series_data = pd.Series(range(start, end +1))\n",
    "    return series_data\n",
    "\n",
    "print(range_series())         # Should return a pandas series from 1 to 10\n",
    "print(range_series(5))        # Should return a pandas series from 5 to 10\n",
    "print(range_series(5, 15))    # Should return a pandas series from 5 to 15"
   ]
  },
  {
   "cell_type": "code",
   "execution_count": 5,
   "metadata": {},
   "outputs": [
    {
     "name": "stdout",
     "output_type": "stream",
     "text": [
      "[[15 18]\n",
      " [21 24]]\n"
     ]
    }
   ],
   "source": [
    "# Create a method that takes n NumPy arrays of the same dimensions,\n",
    "# sums them and returns the answer.\n",
    "\n",
    "import numpy as np\n",
    "\n",
    "def sum_numpy_arrays(array):\n",
    "    if len(array) == 0:\n",
    "        return None\n",
    "    \n",
    "    result = array[0]\n",
    "    for i in range(1,len(array)):\n",
    "        result = np.add(result,array[i])\n",
    "\n",
    "    return result\n",
    "\n",
    "# Example usage\n",
    "array1 = np.array([[1, 2], [3, 4]])\n",
    "array2 = np.array([[5, 6], [7, 8]])\n",
    "array3 = np.array([[9, 10], [11, 12]])\n",
    "\n",
    "result = sum_numpy_arrays([array1, array2, array3])\n",
    "print(result)"
   ]
  },
  {
   "cell_type": "code",
   "execution_count": 12,
   "metadata": {},
   "outputs": [],
   "source": [
    "# 2. Create a function that takes in two lists named keys and values as\n",
    "# arguments\n",
    "# Keys would be strings and contain n string values\n",
    "# Values would be a list containing n lists\n",
    "# The methods should return a new pandas DataFrame with keys as column\n",
    "# names and values as their corresponding values, e.g:\n",
    "# ->create_dataframe([\"One\", \"Two\"], [[\"X\", \"Y\"], [\"A\", \"B\"]]) -> should return a\n",
    "# data frame\n",
    "# One Two\n",
    "# 0 X A\n",
    "# 1 Y B\n",
    "\n",
    "import pandas as pd\n",
    "\n",
    "def create_dataframe(keys, values):\n",
    "    data = {}\n",
    "\n",
    "    for i, key in enumerate(keys):\n",
    "        data[key] = values[i]\n",
    "\n",
    "    df = pd.DataFrame(data)\n",
    "    return df\n",
    "    \n"
   ]
  },
  {
   "cell_type": "code",
   "execution_count": 1,
   "metadata": {},
   "outputs": [
    {
     "name": "stdout",
     "output_type": "stream",
     "text": [
      "   One  Two Three Four\n",
      "0    X    A   NaN  NaN\n",
      "1    Y    B   NaN  NaN\n",
      "2  NaN  NaN     Z    C\n",
      "3  NaN  NaN     W    D\n"
     ]
    }
   ],
   "source": [
    "# 3. Create a function that concatenates two DataFrames. Use a previously\n",
    "# created function to create two DataFrames and pass them as parameters\n",
    "# Make sure that the indexes are reset before returning.\n",
    "\n",
    "import pandas as pd\n",
    "\n",
    "# Function to create a DataFrame\n",
    "def create_dataframe(keys, values):\n",
    "    data = {}\n",
    "    \n",
    "    for i, key in enumerate(keys):\n",
    "        data[key] = values[i]\n",
    "    \n",
    "    df = pd.DataFrame(data)\n",
    "    return df\n",
    "\n",
    "def concatenate_dfs(df1,df2):\n",
    "    concatenated_df = pd.concat([df1,df2],ignore_index=True)\n",
    "    return concatenated_df\n",
    "\n",
    "\n",
    "# Example usage\n",
    "keys1 = [\"One\", \"Two\"]\n",
    "values1 = [[\"X\", \"Y\"], [\"A\", \"B\"]]\n",
    "\n",
    "keys2 = [\"Three\", \"Four\"]\n",
    "values2 = [[\"Z\", \"W\"], [\"C\", \"D\"]]\n",
    "\n",
    "df1 = create_dataframe(keys1, values1)\n",
    "df2 = create_dataframe(keys2, values2)\n",
    "\n",
    "concatenated_result = concatenate_dfs(df1, df2)\n",
    "print(concatenated_result)\n"
   ]
  },
  {
   "cell_type": "code",
   "execution_count": 3,
   "metadata": {},
   "outputs": [
    {
     "name": "stdout",
     "output_type": "stream",
     "text": [
      "            S.No        mpg        cyl        disp          hp       drat  \\\n",
      "count  32.000000  32.000000  32.000000   32.000000   32.000000  32.000000   \n",
      "mean   16.500000  20.090625   6.187500  230.721875  146.687500   3.596563   \n",
      "std     9.380832   6.026948   1.785922  123.938694   68.562868   0.534679   \n",
      "min     1.000000  10.400000   4.000000   71.100000   52.000000   2.760000   \n",
      "25%     8.750000  15.425000   4.000000  120.825000   96.500000   3.080000   \n",
      "50%    16.500000  19.200000   6.000000  196.300000  123.000000   3.695000   \n",
      "75%    24.250000  22.800000   8.000000  326.000000  180.000000   3.920000   \n",
      "max    32.000000  33.900000   8.000000  472.000000  335.000000   4.930000   \n",
      "\n",
      "              wt       qsec         vs         am       gear     carb  \n",
      "count  32.000000  29.000000  32.000000  32.000000  32.000000  32.0000  \n",
      "mean    3.217250  17.674828   0.437500   0.406250   3.687500   2.8125  \n",
      "std     0.978457   1.780394   0.504016   0.498991   0.737804   1.6152  \n",
      "min     1.513000  14.500000   0.000000   0.000000   3.000000   1.0000  \n",
      "25%     2.581250  16.870000   0.000000   0.000000   3.000000   2.0000  \n",
      "50%     3.325000  17.420000   0.000000   0.000000   4.000000   2.0000  \n",
      "75%     3.610000  18.600000   1.000000   1.000000   4.000000   4.0000  \n",
      "max     5.424000  22.900000   1.000000   1.000000   5.000000   8.0000  \n"
     ]
    }
   ],
   "source": [
    "# 4. Write code to load data from cars.csv into a dataframe and print its details.\n",
    "# Details like: 'count', 'mean', 'std', 'min', '25%', '50%', '75%', 'max'.\n",
    "def details(file_path):\n",
    "    # Load data from cars.csv into a DataFrame\n",
    "    df = pd.read_csv(file_path)\n",
    "\n",
    "    # Print details of the DataFrame\n",
    "    details = df.describe()\n",
    "    print(details)\n",
    "\n",
    "details('cars.csv')\n"
   ]
  },
  {
   "cell_type": "code",
   "execution_count": 14,
   "metadata": {},
   "outputs": [
    {
     "name": "stderr",
     "output_type": "stream",
     "text": [
      "C:\\Users\\arvin\\AppData\\Local\\Temp\\ipykernel_9140\\3329553432.py:5: FutureWarning: The default value of numeric_only in DataFrame.corr is deprecated. In a future version, it will default to False. Select only valid columns or specify the value of numeric_only to silence this warning.\n",
      "  df.corr()['mpg'].drop('mpg').idxmax()\n"
     ]
    },
    {
     "data": {
      "text/plain": [
       "'drat'"
      ]
     },
     "execution_count": 14,
     "metadata": {},
     "output_type": "execute_result"
    }
   ],
   "source": [
    "import pandas as pd\n",
    "\n",
    "# Load data from cars.csv into a DataFrame\n",
    "df = pd.read_csv(\"cars.csv\")\n"
   ]
  },
  {
   "cell_type": "code",
   "execution_count": 19,
   "metadata": {},
   "outputs": [
    {
     "name": "stdout",
     "output_type": "stream",
     "text": [
      "The column with the highest correlation to 'mpg' is 'drat'\n"
     ]
    },
    {
     "name": "stderr",
     "output_type": "stream",
     "text": [
      "C:\\Users\\arvin\\AppData\\Local\\Temp\\ipykernel_9140\\2669136928.py:14: FutureWarning: The default value of numeric_only in DataFrame.corr is deprecated. In a future version, it will default to False. Select only valid columns or specify the value of numeric_only to silence this warning.\n",
      "  correlation = df.corr()[col_name].drop(col_name)\n"
     ]
    }
   ],
   "source": [
    "# 5. Write a method that will take a column name as argument and return the\n",
    "# name of the column with which the given column has the highest\n",
    "# correlation.\n",
    "# The data to be used is the cars dataset.\n",
    "# The returned value should not the column named that was passed as the\n",
    "# parameters, e.g. : get_max_correlated_column('mpg') -> should return 'drat\n",
    "\n",
    "import pandas as pd\n",
    "\n",
    "# Load data from cars.csv into a DataFrame\n",
    "df = pd.read_csv(\"cars.csv\")\n",
    "\n",
    "def get_max_correlated_column(col_name):\n",
    "    correlation = df.corr()[col_name].drop(col_name)\n",
    "    max_corr = correlation.idxmax()\n",
    "    return max_corr\n",
    "    \n",
    "# Example usage\n",
    "column_name = 'mpg'\n",
    "max_corr_column = get_max_correlated_column(column_name)\n",
    "\n",
    "print(f\"The column with the highest correlation to '{column_name}' is '{max_corr_column}'\")"
   ]
  },
  {
   "cell_type": "code",
   "execution_count": null,
   "metadata": {},
   "outputs": [],
   "source": []
  }
 ],
 "metadata": {
  "kernelspec": {
   "display_name": "6.86x",
   "language": "python",
   "name": "python3"
  },
  "language_info": {
   "codemirror_mode": {
    "name": "ipython",
    "version": 3
   },
   "file_extension": ".py",
   "mimetype": "text/x-python",
   "name": "python",
   "nbconvert_exporter": "python",
   "pygments_lexer": "ipython3",
   "version": "3.8.16"
  },
  "orig_nbformat": 4
 },
 "nbformat": 4,
 "nbformat_minor": 2
}
