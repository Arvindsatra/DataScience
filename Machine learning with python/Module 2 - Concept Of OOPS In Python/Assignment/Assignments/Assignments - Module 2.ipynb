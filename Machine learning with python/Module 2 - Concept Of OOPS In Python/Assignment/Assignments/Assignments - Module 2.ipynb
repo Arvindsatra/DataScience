{
 "cells": [
  {
   "cell_type": "code",
   "execution_count": 17,
   "id": "93ba8049",
   "metadata": {},
   "outputs": [
    {
     "name": "stdout",
     "output_type": "stream",
     "text": [
      "Factorial of 5 is: 120\n"
     ]
    }
   ],
   "source": [
    "# Module 2: Function and Class Assignment\n",
    "\n",
    "#1. Create a function named ‘factor’ that can only accepts 1 argument. The function should return the factorial of that number.\n",
    "\n",
    "def factor(n):\n",
    "    result = 1\n",
    "    if n < 0:\n",
    "        print(\"Invalid integer\")\n",
    "    elif n < 2:\n",
    "        return 1\n",
    "    else:\n",
    "        for i in range(2, n + 1):\n",
    "            result *= i\n",
    "        return result\n",
    "\n",
    "# Example usage:\n",
    "num = 5\n",
    "factorial = factor(num)\n",
    "print(\"Factorial of\", num, \"is:\", factorial)\n"
   ]
  },
  {
   "cell_type": "code",
   "execution_count": 18,
   "id": "c01e4c17",
   "metadata": {},
   "outputs": [],
   "source": [
    "#2. Create a function named ‘check_string’, the function should accept a string data from the user and the function\n",
    "#  should check if the user input contains the letter ‘s’ in it. If it contains the letter ‘s’ then print- \n",
    "#  ‘The string is containing the letter ‘s’’, if not then print- ‘The string doesn’t contain the letter ‘s’’.\n",
    "\n",
    "def check_string(a: str):\n",
    "    if \"s\" in a:\n",
    "        print(\"The string is containing the letter ‘s’\")\n",
    "    else:\n",
    "        print(\"The string doesn’t contain the letter ‘s’\")\n"
   ]
  },
  {
   "cell_type": "code",
   "execution_count": 19,
   "id": "a269c2d4",
   "metadata": {},
   "outputs": [
    {
     "name": "stdout",
     "output_type": "stream",
     "text": [
      "70 Marks\n"
     ]
    }
   ],
   "source": [
    "#3. Create a class named ‘student’ and inside the class, create a function named ‘fun1’- this method should accepts the user\n",
    "# defined input and return that value.\n",
    "# a. Create another method named- message() and that method should print the user \n",
    "#    defined input that we have defined in ‘fun1’.\n",
    "\n",
    "\n",
    "\n",
    "class student:\n",
    "    def fun1(self, x=input(\"please define input :\" )):\n",
    "        self.x=x\n",
    "        \n",
    "    def message(self):\n",
    "        print(self.x)\n",
    "        \n",
    "S=student()\n",
    "S.fun1()\n",
    "S.message()\n"
   ]
  },
  {
   "cell_type": "code",
   "execution_count": 20,
   "id": "47e932b2",
   "metadata": {},
   "outputs": [],
   "source": [
    "#4. Create a lambda function that should double or multiply the number (that we will be passing in the lambda function) \n",
    "#by 2. Store the lambda function in a variable named ‘double_num’.\n",
    "\n",
    "double_num= (lambda x: x*2)"
   ]
  },
  {
   "cell_type": "code",
   "execution_count": 21,
   "id": "94b9ac86",
   "metadata": {},
   "outputs": [
    {
     "name": "stdout",
     "output_type": "stream",
     "text": [
      "string is not palindrome\n"
     ]
    }
   ],
   "source": [
    "#5. Take user input string and check whether that string is palindrome or not\n",
    "\n",
    "string=input(\"input string: \")\n",
    "if string==string[::-1]:\n",
    "    print(\"string is palindrome\")\n",
    "else:\n",
    "    print(\"string is not palindrome\")"
   ]
  },
  {
   "cell_type": "code",
   "execution_count": 22,
   "id": "0e307138",
   "metadata": {},
   "outputs": [],
   "source": [
    "#Module 2: Functions Assignment\n",
    "\n",
    "#1. Create a class named ‘Super’ and inside that class define a user-defined function named fun1.\n",
    "#a. Inside the ‘fun1’ function, pass the message “This is function 1 in the Super class.” in the print statement.\n",
    "\n",
    "class Super:\n",
    "    def fun(self):\n",
    "        print(\"This is function 1 in the Super class.\")\n",
    "\n",
    "        "
   ]
  },
  {
   "cell_type": "code",
   "execution_count": 23,
   "id": "653580eb",
   "metadata": {},
   "outputs": [
    {
     "name": "stdout",
     "output_type": "stream",
     "text": [
      "This is function 1 in the Modified Super class.\n"
     ]
    }
   ],
   "source": [
    "# 2. Create another classed named ‘Modified_Super’ and inherit this class from the Super class.\n",
    "# a. Inside the Modified_Super class, create a function named ‘fun1’ and pass the following message inside \n",
    "# the print statement: ‘This is function 1 in the Modified Super class.’\n",
    "# b. Create another user-defined function named ‘fun2’ and pass the message: ‘This is the 2nd function from \n",
    "# the Modified Super class’ in the print statement.\n",
    "# c. After that, now create an object for the Modified_Super class and call the fun1().\n",
    "\n",
    "class Modified_Super(Super):\n",
    "    def fun1(self):\n",
    "        print(\"This is function 1 in the Modified Super class.\")\n",
    "        \n",
    "    def fun2(self):\n",
    "        print(\"This is the 2nd function from the Modified Super class.\")\n",
    "\n",
    "# Create an object of Modified_Super class\n",
    "obj = Modified_Super()\n",
    "obj.fun1()\n",
    "\n",
    "    "
   ]
  },
  {
   "cell_type": "code",
   "execution_count": 24,
   "id": "5aabe3ae",
   "metadata": {},
   "outputs": [
    {
     "name": "stdout",
     "output_type": "stream",
     "text": [
      "this function is having 2 arguments\n"
     ]
    },
    {
     "ename": "TypeError",
     "evalue": "hello() missing 1 required positional argument: 'b'",
     "output_type": "error",
     "traceback": [
      "\u001b[1;31m---------------------------------------------------------------------------\u001b[0m",
      "\u001b[1;31mTypeError\u001b[0m                                 Traceback (most recent call last)",
      "Cell \u001b[1;32mIn[24], line 17\u001b[0m\n\u001b[0;32m     15\u001b[0m c \u001b[39m=\u001b[39m \u001b[39mcls\u001b[39m()\n\u001b[0;32m     16\u001b[0m c\u001b[39m.\u001b[39mhello(\u001b[39m1\u001b[39m, \u001b[39m2\u001b[39m)\n\u001b[1;32m---> 17\u001b[0m c\u001b[39m.\u001b[39;49mhello(\u001b[39m1\u001b[39;49m)\n\u001b[0;32m     19\u001b[0m \u001b[39m# The methods should have distinct names to differentiate between them.\u001b[39;00m\n\u001b[0;32m     20\u001b[0m \u001b[39m# Currently, both methods are named hello, which causes the second method to override the first method.\u001b[39;00m\n",
      "\u001b[1;31mTypeError\u001b[0m: hello() missing 1 required positional argument: 'b'"
     ]
    }
   ],
   "source": [
    "#3. Create 2 methods named ‘Hello’. In the 1st Hello method, pass only one argument and pass \n",
    "#  this message: ‘This function is only having 1 argument’. And in the 2nd Hello method, pass \n",
    "#  two arguments and pass this message: ‘This function is having 2 arguments’.\n",
    "#a. Try to call both the methods and analyze the output of both the method\n",
    "\n",
    "class cls:\n",
    "    def hello(self, a):\n",
    "        \"\"\"this function is only having 1 argument\"\"\"\n",
    "        print(\"this function is only having 1 argument\")\n",
    "        \n",
    "    def hello(self, a, b):\n",
    "        \"\"\"this function is having 2 arguments\"\"\"\n",
    "        print(\"this function is having 2 arguments\")\n",
    "\n",
    "c = cls()\n",
    "c.hello(1, 2)\n",
    "c.hello(1)\n",
    "\n",
    "# The methods should have distinct names to differentiate between them.\n",
    "# Currently, both methods are named hello, which causes the second method to override the first method."
   ]
  },
  {
   "cell_type": "code",
   "execution_count": 25,
   "id": "789217f5",
   "metadata": {},
   "outputs": [],
   "source": [
    "#4 Create a method named ‘Sum’ that can accept multiple user inputs. Now add those user defined input \n",
    "#values using for loop and the function should return the addition of the numbers.\n",
    "\n",
    "def Sum(num, *args):\n",
    "    total = num\n",
    "    for i in args:\n",
    "        total += i\n",
    "    return total"
   ]
  },
  {
   "cell_type": "code",
   "execution_count": 26,
   "id": "cc88e278",
   "metadata": {},
   "outputs": [
    {
     "name": "stdout",
     "output_type": "stream",
     "text": [
      "10\n"
     ]
    },
    {
     "data": {
      "text/plain": [
       "20"
      ]
     },
     "execution_count": 26,
     "metadata": {},
     "output_type": "execute_result"
    }
   ],
   "source": [
    "#5. Create a class named ‘Encapsulation’:\n",
    "#a. Inside the class, first create a constructor. Inside the constructor, initialize originalValue variable as 10.\n",
    "#b. After creating the constructor, define a function named ‘Value’ and this function should return the variable\n",
    "#   that we have initialized in the constructor.\n",
    "#c. Now create 2nd function named setValue, and pass an argument named ‘newValue’. The task of this function will\n",
    "#   be to replace the value of the originalValue variable by the value of newValue variable\n",
    "\n",
    "class Encapsulation:\n",
    "    \n",
    "    def __init__(self, originalvalue):\n",
    "        self.originalvalue = originalvalue\n",
    "        \n",
    "    def Value(self):\n",
    "        print(self.originalvalue)\n",
    "        \n",
    "    def setValue(self,newValue):\n",
    "        self.originalvalue= newValue\n",
    "\n",
    "        \n",
    "e=Encapsulation(10)\n",
    "e.Value()\n",
    "e.setValue(20)\n",
    "e.originalvalue\n",
    "    \n"
   ]
  },
  {
   "cell_type": "code",
   "execution_count": 27,
   "id": "35681517",
   "metadata": {},
   "outputs": [
    {
     "name": "stdout",
     "output_type": "stream",
     "text": [
      "10\n"
     ]
    }
   ],
   "source": [
    "# Module 2: Inheritance Assignment\n",
    "\n",
    "#1. Create a class named parent_Class and inside the class, initialize a global variable num as 10.\n",
    "#a. Create another class named child_Class and this class should be inherited from the parent class.\n",
    "#b. Now create an object for the child_Class and with the help of child_Class object, display the value of ‘num’.\n",
    "\n",
    "class ParentClass:\n",
    "    global num\n",
    "    num = 10\n",
    "\n",
    "class ChildClass(ParentClass):\n",
    "    def print_num(self):\n",
    "        print(num)\n",
    "        \n",
    "        \n",
    "obj1= ChildClass()\n",
    "obj1.print_num()"
   ]
  },
  {
   "cell_type": "code",
   "execution_count": 28,
   "id": "816b2c0a",
   "metadata": {},
   "outputs": [
    {
     "data": {
      "text/plain": [
       "'Ram'"
      ]
     },
     "execution_count": 28,
     "metadata": {},
     "output_type": "execute_result"
    }
   ],
   "source": [
    "#2. Create three class named A, B, and C.\n",
    "#a. Inside the A class, create a constructor. Inside the constructor, initilize 2 global variables name and age.\n",
    "#b. After initializing the global variables inside the constructor, now create a funtion named ‘details’ and \n",
    "#   that function should return the ‘name’ variable.\n",
    "#c. Inside the B class, create a constructor. Inside the contructor, initialize 2 global veriables name and id.\n",
    "#d. After initializing the global variables inside the constructor, now create a funtion named ‘details’ and \n",
    "#   that function should return the ‘name’ variable.\n",
    "#e. The C class should inherit from class A, and B. Inside the class C, create a constructor, and inside the\n",
    "#   constructor, call the contructor of class A.\n",
    "#f. Now, create a method inside the class C, as get_details, and this fucntion should return the vaue of name.\n",
    "#g. Atlast, create an object of class C, and with the help of the object, call the get_details()\n",
    "\n",
    "class A:\n",
    "    def __init__(self):\n",
    "        self.name= \"Ram\"\n",
    "        self.age= 25\n",
    "        \n",
    "    def details(self):\n",
    "        return self.name \n",
    "\n",
    "\n",
    "class B:\n",
    "    def __init__(self):\n",
    "        self.name= \"sham\"\n",
    "        self.Id= 1001\n",
    "        \n",
    "    def details(self):\n",
    "        return self.name\n",
    "\n",
    "\n",
    "class C(A,B):\n",
    "    def __init__(self, *args, **kwargs):\n",
    "        super().__init__(*args, **kwargs)\n",
    "        \n",
    "    def get_details(self):\n",
    "        return self.name\n",
    "    \n",
    "OC=C()\n",
    "OC.get_details()"
   ]
  },
  {
   "cell_type": "code",
   "execution_count": 29,
   "id": "26c75edb",
   "metadata": {},
   "outputs": [
    {
     "name": "stdout",
     "output_type": "stream",
     "text": [
      "this is the final method from the super class\n",
      "this is the first function from sub 1 class\n",
      "this is the second function from the sub 2 class\n"
     ]
    }
   ],
   "source": [
    "# 3. Create a class named ‘Sub1’, inside the class, generate a user defined function named ‘first’ \n",
    "#and inside the function, pass the following statement in the print()- ‘This is the first function from Sub 1 class’.\n",
    "#a. Now create another class named ‘Sub2’, and inside the class, create a function \n",
    "#named ‘second’, and pass the following message in the print()- ‘This is the second function from the Sub 2 class’.\n",
    "#b. After that, create another class named ‘Super’ and inside that class, create a \n",
    "#method named ‘final’, and pass the below message in the print()- ‘This is the final method from the super class’\n",
    "#c. Now, create an object for the Super class and call all the 3 user defined methods, i.e., first(), second(), and final().\n",
    "\n",
    "\n",
    "class Sub1:\n",
    "    def first(self):\n",
    "        print(\"this is the first function from sub 1 class\")\n",
    "        \n",
    "class Sub2:\n",
    "    def second(self):\n",
    "        print(\"this is the second function from the sub 2 class\")\n",
    "    \n",
    "class Super(Sub1, Sub2):\n",
    "    def final(self):\n",
    "        print(\"this is the final method from the super class\")\n",
    "        self.first()\n",
    "        self.second()\n",
    "        \n",
    "S=Super()\n",
    "S.final()"
   ]
  },
  {
   "cell_type": "code",
   "execution_count": 30,
   "id": "9f3c6943",
   "metadata": {},
   "outputs": [
    {
     "name": "stdout",
     "output_type": "stream",
     "text": [
      "this is the message from the fun1\n"
     ]
    }
   ],
   "source": [
    "#4. Create a class named ‘Parent’, and inside the class, create a function named ‘fun1’ and pass \n",
    "# the following message in the print()- ‘This is the message from the fun1’.\n",
    "#a. Now create a class named ‘Child1’ and inside the class, create a method named ‘fun2’ \n",
    "# and pass the following message in the print()- ‘This is the message from the fun2’.\n",
    "#b. After that, create another class named ‘Child2’ and inside the class, create a method \n",
    "# named ‘fun3’ and pass the following message in the print()- ‘This is the message from the fun3’.\n",
    "#c. Now, create an object of Child2 class and with the help of the object, call the ‘fun1’ \n",
    "#method from the ‘Parent’ class.\n",
    "\n",
    "\n",
    "\n",
    "class Parent:\n",
    "    def fun1(self):\n",
    "        print(\"this is the message from the fun1\")\n",
    "\n",
    "class Child1:\n",
    "    def fun2(self):\n",
    "        print(\"this is the message from the fun2\")\n",
    "        \n",
    "class Child2(Parent):\n",
    "    def fun3(self):\n",
    "        print(\"this is the message from the fun3\")\n",
    "        \n",
    "        \n",
    "C2=Child2()\n",
    "C2.fun1()"
   ]
  },
  {
   "cell_type": "code",
   "execution_count": 31,
   "id": "529aa558",
   "metadata": {},
   "outputs": [
    {
     "name": "stdout",
     "output_type": "stream",
     "text": [
      "this is the message from the fun1\n",
      "this is the message from the fun2\n",
      "this is the message from the fun3\n"
     ]
    }
   ],
   "source": [
    "#5. Create a class named ‘Parent’, and inside the class, create a function named ‘fun1’ and pass \n",
    "#the following message in the print()- ‘This is the message from the fun1’.\n",
    "#a. Now create a class named ‘Child’ and inside the class, create a method named ‘fun2’ and \n",
    "#pass the following message in the print()- ‘This is the message from the fun2’.\n",
    "#b. After that, create another class named ‘Hybrid’ and inside the class, create a method \n",
    "#named ‘fun3’ and pass the following message in the print()- ‘This is the message from the fun3’.\n",
    "#c. Now, create an object of Hybrid class and with the help of the object, call the ‘fun1’, \n",
    "#‘fun2’, and ‘fun3’ methods.\n",
    "\n",
    "\n",
    "class Parent:\n",
    "    def fun1(self):\n",
    "        print(\"this is the message from the fun1\")\n",
    "    \n",
    "class Child:\n",
    "    def fun2(self):\n",
    "        print(\"this is the message from the fun2\")\n",
    "        \n",
    "class Hybrid(Parent, Child):\n",
    "    def fun3(self):\n",
    "        print(\"this is the message from the fun3\")\n",
    "\n",
    "H= Hybrid()\n",
    "H.fun1()\n",
    "H.fun2()\n",
    "H.fun3()"
   ]
  },
  {
   "cell_type": "code",
   "execution_count": 32,
   "id": "2e266645",
   "metadata": {},
   "outputs": [],
   "source": [
    "#Module 1: OOPs with Python Assignment-1\n",
    "\n",
    "#1. Create a class names Employee, with a constructor ‘__init__’ method that accepts name and \n",
    "#salary as parameters and set properties named name and salary.\n",
    "\n",
    "class Employee:\n",
    "    def __init__(self, name, salary):\n",
    "        self.name= name\n",
    "        self.salary= salary\n",
    "        "
   ]
  },
  {
   "cell_type": "code",
   "execution_count": 33,
   "id": "1fdaa453",
   "metadata": {},
   "outputs": [
    {
     "name": "stdout",
     "output_type": "stream",
     "text": [
      "employee_name: Ram, employee_Salary: 10000\n"
     ]
    }
   ],
   "source": [
    "#2. Define __str__ method in Employee class so that when someone tries to print the object the \n",
    "#string Name: employee_name, Salary: employee_salary is printed with the actual employee \n",
    "#name and salary.\n",
    "\n",
    "class Employee:\n",
    "    def __init__(self, name, salary):\n",
    "        self.name= name\n",
    "        self.salary= salary\n",
    "        \n",
    "    def __str__(self):\n",
    "        return f\"employee_name: {self.name}, employee_Salary: {self.salary}\"\n",
    "\n",
    "E=Employee(\"Ram\", 10000)\n",
    "print(E)"
   ]
  },
  {
   "cell_type": "code",
   "execution_count": 34,
   "id": "b82ee844",
   "metadata": {},
   "outputs": [
    {
     "name": "stdout",
     "output_type": "stream",
     "text": [
      "8\n",
      "24\n"
     ]
    }
   ],
   "source": [
    "#3. Create another class named Calculator, with methods to add, subtract, multiply and divide two numbers.\n",
    "#4. These methods take two numbers as parameters.\n",
    "#5. These methods will be called by method named execute command.\n",
    "#6. Execute command takes in 3 parameters command which is string that can be either ‘add’, ‘sub’, \n",
    "#‘mul’, ‘div’, and two numbers and it will call the appropriate method based on command \n",
    "#parameter\n",
    "\n",
    "\n",
    "class Calculator:\n",
    "    def addition(self, a, b):\n",
    "        return a + b\n",
    "\n",
    "    def subtraction(self, a, b):\n",
    "        return a - b\n",
    "\n",
    "    def multiplication(self, a, b):\n",
    "        return a * b\n",
    "\n",
    "    def division(self, a, b):\n",
    "        return a / b\n",
    "\n",
    "    def execute_command(self, command, a, b):\n",
    "        if command == \"add\":\n",
    "            return self.addition(a, b)\n",
    "        elif command == \"sub\":\n",
    "            return self.subtraction(a, b)\n",
    "        elif command == \"mul\":\n",
    "            return self.multiplication(a, b)\n",
    "        elif command == \"div\":\n",
    "            return self.division(a, b)\n",
    "        else:\n",
    "            return \"Invalid command\"\n",
    "\n",
    "# Creating an instance of the Calculator class\n",
    "c = Calculator()\n",
    "\n",
    "# Testing the execute_command method\n",
    "result = c.execute_command(\"add\", 5, 3)\n",
    "print(result)  # Output: 8\n",
    "\n",
    "result = c.execute_command(\"mul\", 4, 6)\n",
    "print(result)  # Output: 24\n"
   ]
  }
 ],
 "metadata": {
  "kernelspec": {
   "display_name": "Python 3 (ipykernel)",
   "language": "python",
   "name": "python3"
  },
  "language_info": {
   "codemirror_mode": {
    "name": "ipython",
    "version": 3
   },
   "file_extension": ".py",
   "mimetype": "text/x-python",
   "name": "python",
   "nbconvert_exporter": "python",
   "pygments_lexer": "ipython3",
   "version": "3.8.16"
  }
 },
 "nbformat": 4,
 "nbformat_minor": 5
}
