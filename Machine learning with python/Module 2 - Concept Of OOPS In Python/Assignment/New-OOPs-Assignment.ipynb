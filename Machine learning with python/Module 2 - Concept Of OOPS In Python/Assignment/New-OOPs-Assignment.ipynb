{
 "cells": [
  {
   "cell_type": "code",
   "execution_count": 1,
   "id": "52f7df73",
   "metadata": {},
   "outputs": [
    {
     "name": "stdout",
     "output_type": "stream",
     "text": [
      "Total Fare: 750\n"
     ]
    }
   ],
   "source": [
    "#Q.2 Write a Python program to demonstrate Polymorphism.\n",
    "#1. Class Vehicle with a parameterized function Fare, that takes input value as fare and returns it to calling Objects.\n",
    "#2. Create five separate variables Bus, Car, Train, Truck and Ship that call the Fare function.\n",
    "#3. Use a third variable TotalFare to store the sum of fare for each Vehicle Type.\n",
    "#4. Print the TotalFare.\n",
    "\n",
    "class Vehicle:\n",
    "    def Fare(self, fare):\n",
    "        return fare\n",
    "\n",
    "\n",
    "Bus = Vehicle()\n",
    "Car = Vehicle()\n",
    "Train = Vehicle()\n",
    "Truck = Vehicle()\n",
    "Ship = Vehicle()\n",
    "\n",
    "TotalFare = Bus.Fare(50) + Car.Fare(100) + Train.Fare(150) + Truck.Fare(200) + Ship.Fare(250)\n",
    "\n",
    "print(\"Total Fare:\", TotalFare)\n"
   ]
  },
  {
   "cell_type": "code",
   "execution_count": 2,
   "id": "2c2d902b",
   "metadata": {},
   "outputs": [
    {
     "name": "stdout",
     "output_type": "stream",
     "text": [
      "Top Player: Balaji, Top Score: 174\n"
     ]
    }
   ],
   "source": [
    "#Q3. Consider an ongoing test cricket series. Following are the names of the players and their scores in the test1 and 2.\n",
    "#Test Match 1 :\n",
    "#Dhoni : 56 , Balaji : 94\n",
    "#Test Match 2 :\n",
    "#Balaji : 80 , Dravid : 105\n",
    "#Calculate the highest number of runs scored by an individual cricketer in both of the matches.\n",
    "#Create a python function Max_Score (M) that reads a dictionary M that recognizes the player\n",
    "#with the highest total score. This function will return ( Top player , Total Score ) . You can\n",
    "#consider the Top player as String who is the highest scorer and Top score as Integer .\n",
    "#Input : Max_Score({‘test1’:{‘Dhoni’:56, ‘Balaji : 85}, ‘test2’:{‘Dhoni’ 87, ‘Balaji’’:200}})\n",
    "#Output : (‘Balaji ‘ , 200)\n",
    "\n",
    "M= {\n",
    "    \"test1\":{\n",
    "        \"Dhoni\" : 56,\n",
    "        \"Balaji\" : 94\n",
    "        },\n",
    "    \"test2\":{\n",
    "        \"Balaji\" : 80,\n",
    "        \"Dravid\" : 105\n",
    "        }\n",
    "}\n",
    "\n",
    "def Max_Score(M):\n",
    "    player_scores = {}\n",
    "    \n",
    "    for test_match in M.values():\n",
    "        for player, score in test_match.items():\n",
    "            if player in player_scores:\n",
    "                player_scores[player] += score\n",
    "            else:\n",
    "                player_scores[player] = score\n",
    "                \n",
    "    top_player = max(player_scores, key=player_scores.get)\n",
    "    top_score = player_scores[top_player]\n",
    "    \n",
    "    return top_player, top_score\n",
    "\n",
    "\n",
    "# Example usage\n",
    "M = {\n",
    "    'test1': {'Dhoni': 56, 'Balaji': 94},\n",
    "    'test2': {'Balaji': 80, 'Dravid': 105}\n",
    "}\n",
    "\n",
    "top_player, top_score = Max_Score(M)\n",
    "print(f\"Top Player: {top_player}, Top Score: {top_score}\")"
   ]
  },
  {
   "cell_type": "code",
   "execution_count": 4,
   "id": "3c0d753c",
   "metadata": {},
   "outputs": [
    {
     "name": "stdout",
     "output_type": "stream",
     "text": [
      "Current Card: 1\n",
      "Your prediction: higher\n",
      "Next Card: 7\n",
      "Correct prediction!\n",
      "Points: 20\n"
     ]
    }
   ],
   "source": [
    "# Q4. Create a simple Card game in which there are 8 cards which are randomly chosen from a\n",
    "# deck. The first card is shown face up. The game asks the player to predict whether the next card\n",
    "# in the selection will have a higher or lower value than the currently showing card.\n",
    "\n",
    "# For example, say the card that’s shown is a 3. The player chooses “higher,” and the next card is\n",
    "# shown. If that card has a higher value, the player is correct. In this example, if the player had\n",
    "# chosen “lower,” they would have been incorrect. If the player guesses correctly, they get 20\n",
    "# points. If they choose incorrectly, they lose 15 points. If the next card to be turned over has the\n",
    "# same value as the previous card, the player is incorrect.\n",
    "\n",
    "import random\n",
    "\n",
    "def play_card_game():\n",
    "    # Generate a deck of cards\n",
    "    deck = list(range(1, 9))\n",
    "\n",
    "    # Shuffle the deck\n",
    "    random.shuffle(deck)\n",
    "\n",
    "    # Show the first card\n",
    "    current_card = deck.pop(0)\n",
    "    print(\"Current Card:\", current_card)\n",
    "\n",
    "    # Prompt for prediction\n",
    "    prediction = input(\"Predict if the next card will be 'higher' or 'lower': \")\n",
    "\n",
    "    # Show the next card\n",
    "    next_card = deck.pop(0)\n",
    "    print(\"Your prediction:\", prediction)\n",
    "    print(\"Next Card:\", next_card)\n",
    "\n",
    "    # Check the prediction and update points\n",
    "    points = 0\n",
    "    if (prediction == \"higher\" and next_card > current_card) or (prediction == \"lower\" and next_card < current_card):\n",
    "        points += 20\n",
    "        print(\"Correct prediction!\")\n",
    "    else:\n",
    "        points -= 15\n",
    "        print(\"Incorrect prediction!\")\n",
    "\n",
    "    # Print the result and points\n",
    "    print(\"Points:\", points)\n",
    "\n",
    "# Call the function to play the card game\n",
    "play_card_game()\n"
   ]
  },
  {
   "cell_type": "code",
   "execution_count": 5,
   "id": "f6745fff",
   "metadata": {},
   "outputs": [
    {
     "name": "stdout",
     "output_type": "stream",
     "text": [
      "{'x_position': 19, 'y_position': 72, 'speed': 'medium'}\n"
     ]
    }
   ],
   "source": [
    "#Q5. Create an empty dictionary called Car_0 . Then fill the dictionary with Keys : color , speed\n",
    "#, X_position and Y_position.\n",
    "#car_0 = {'x_position': 10, 'y_position': 72, 'speed': 'medium'} .\n",
    "#a) If the speed is slow the coordinates of the X_pos get incremented by 2.\n",
    "#b) If the speed is Medium the coordinates of the X_pos gets incremented by 9\n",
    "#c) Now if the speed is Fast the coordinates of the X_pos gets incremented by 22.\n",
    "#Print the modified dictionary.\n",
    "\n",
    "\n",
    "Car_0 = {'x_position': 10, 'y_position': 72, 'speed': 'medium'}\n",
    "\n",
    "if Car_0['speed'] == \"slow\":\n",
    "    Car_0['x_position'] += 2\n",
    "elif Car_0['speed'] == \"medium\":\n",
    "    Car_0['x_position'] += 9\n",
    "elif Car_0['speed'] == \"Fast\":\n",
    "    Car_0['x_position'] += 22\n",
    "\n",
    "print(Car_0)\n",
    "\n",
    "    \n"
   ]
  },
  {
   "cell_type": "code",
   "execution_count": 6,
   "id": "d9b8f2d7",
   "metadata": {},
   "outputs": [
    {
     "name": "stdout",
     "output_type": "stream",
     "text": [
      "Child Method\n"
     ]
    }
   ],
   "source": [
    "#Q6. Show a basic implementation of abstraction in python using the abstract classes.\n",
    "#1. Create an abstract class in python.\n",
    "#2. Implement abstraction with the other classes and base class as abstract class.\n",
    "\n",
    "from abc import ABC, abstractmethod\n",
    "\n",
    "class A1(ABC):\n",
    "    \n",
    "    @abstractmethod\n",
    "    def Abstract_method(self):\n",
    "        print(\"Abstract method\")\n",
    "\n",
    "class B1(A1):\n",
    "    \n",
    "    def Abstract_method(self):\n",
    "        print(\"Child Method\")\n",
    "        \n",
    "b = B1()\n",
    "b.Abstract_method()\n"
   ]
  },
  {
   "cell_type": "code",
   "execution_count": 7,
   "id": "1fb9b85f",
   "metadata": {},
   "outputs": [
    {
     "name": "stdout",
     "output_type": "stream",
     "text": [
      "This is a protected member\n",
      "This is a private member\n",
      "This is a protected method\n",
      "This is a private method\n"
     ]
    }
   ],
   "source": [
    "#Q7. Create a program in python to demonstrate Polymorphism.\n",
    "#1. Make use of private and protected members using python name mangling techniques.\n",
    "\n",
    "class MyClass:\n",
    "    def __init__(self):\n",
    "        self._protected_member = \"This is a protected member\"\n",
    "        self.__private_member = \"This is a private member\"\n",
    "\n",
    "    def _protected_method(self):\n",
    "        print(\"This is a protected method\")\n",
    "\n",
    "    def __private_method(self):\n",
    "        print(\"This is a private method\")\n",
    "\n",
    "    def access_members(self):\n",
    "        print(self._protected_member)\n",
    "        print(self.__private_member)\n",
    "        self._protected_method()\n",
    "        self.__private_method()\n",
    "\n",
    "obj = MyClass()\n",
    "obj.access_members()\n"
   ]
  },
  {
   "cell_type": "code",
   "execution_count": 8,
   "id": "739c4da3",
   "metadata": {},
   "outputs": [
    {
     "name": "stdout",
     "output_type": "stream",
     "text": [
      "[1, 4, 9, 16, 25, 36, 49, 64, 81, 100, 121, 144, 169, 196, 225, 256, 289, 324, 361, 400, 441, 484, 529, 576, 625, 676, 729, 784, 841, 900, 961, 1024, 1089, 1156, 1225, 1296, 1369, 1444, 1521, 1600, 1681, 1764, 1849, 1936, 2025, 2116, 2209, 2304, 2401, 2500]\n"
     ]
    }
   ],
   "source": [
    "#Q8. Given a list of 50 natural numbers from 1-50. Create a function that will take every element\n",
    "#from the list and return the square of each element. Use the python map and filter methods to\n",
    "#implement the function on the given list.\n",
    "\n",
    "num50=[]\n",
    "\n",
    "for i in range(1,51):\n",
    "    num50.append(i)\n",
    "\n",
    "def squared(num):\n",
    "    return num**2\n",
    "\n",
    "num_list_squared = (map(squared, num50))\n",
    "print(list(num_list_squared))"
   ]
  },
  {
   "cell_type": "code",
   "execution_count": 9,
   "id": "586eedd5",
   "metadata": {},
   "outputs": [
    {
     "name": "stdout",
     "output_type": "stream",
     "text": [
      "Angles belong to a triangle\n",
      "It is an acute triangle\n"
     ]
    }
   ],
   "source": [
    "#Q9. Create a class, Triangle. Its init() method should take self, angle1, angle2, and angle3 as arguments\n",
    "#Q10. Create a class variable named number_of_sides and set it equal to 3.\n",
    "\n",
    "#Q11. Create a method named check_angles. The sum of a triangle's three angles should return\n",
    "#True if the sum is equal to 180, and False otherwise. The method should print whether the\n",
    "#angles belong to a triangle or not\n",
    "#11.1 Write methods to verify if the triangle is an acute triangle or obtuse triangle.\n",
    "#11.2 Create an instance of the triangle class and call all the defined methods.\n",
    "\n",
    "\n",
    "class Triangle:\n",
    "    number_of_sides = 3\n",
    "\n",
    "    def __init__(self, angle1, angle2, angle3):\n",
    "        self.angle1 = angle1\n",
    "        self.angle2 = angle2\n",
    "        self.angle3 = angle3\n",
    "\n",
    "    def check_angles(self):\n",
    "        if self.angle1 + self.angle2 + self.angle3 == 180:\n",
    "            print(\"Angles belong to a triangle\")\n",
    "            if self.angle1 > 90 or self.angle2 > 90 or self.angle3 > 90:\n",
    "                print(\"It is an obtuse triangle\")\n",
    "            else:\n",
    "                print(\"It is an acute triangle\")\n",
    "        else:\n",
    "            print(\"Angles do not belong to a triangle\")\n",
    "\n",
    "T = Triangle(60, 60, 60)\n",
    "T.check_angles()\n",
    "\n",
    "\n"
   ]
  },
  {
   "cell_type": "code",
   "execution_count": 10,
   "id": "3df00a78",
   "metadata": {},
   "outputs": [
    {
     "name": "stdout",
     "output_type": "stream",
     "text": [
      "Angles belong to a triangle\n",
      "It is an acute triangle\n",
      "It is an isosceles triangle\n",
      "It is a right-angled triangle\n",
      "It is an equilateral triangle\n",
      "It is an isosceles triangle\n",
      "Angles belong to a triangle\n",
      "It is an acute triangle\n"
     ]
    }
   ],
   "source": [
    "#11.3 Create three child classes of triangle class - isosceles_triangle, right_triangle and equilateral_triangle.\n",
    "#11.4 Define methods which check for their properties.\n",
    "#Q12. Create a class isosceles_right_triangle which inherits from isosceles_triangle and right_triangle.\n",
    "#12.1 Define methods which check for their properties\n",
    "\n",
    "class IsoscelesTriangle(Triangle):\n",
    "    def __init__(self, angle1, angle2, angle3):\n",
    "        super().__init__(angle1, angle2, angle3)\n",
    "\n",
    "    def check_properties(self):\n",
    "        if self.angle1 == self.angle2 or self.angle2 == self.angle3 or self.angle3 == self.angle1:\n",
    "            print(\"It is an isosceles triangle\")\n",
    "        else:\n",
    "            print(\"It is not an isosceles triangle\")\n",
    "\n",
    "\n",
    "class RightTriangle(Triangle):\n",
    "    def __init__(self, angle1, angle2, angle3):\n",
    "        super().__init__(angle1, angle2, angle3)\n",
    "\n",
    "    def check_properties(self):\n",
    "        if self.angle1 == 90 or self.angle2 == 90 or self.angle3 == 90:\n",
    "            print(\"It is a right-angled triangle\")\n",
    "        else:\n",
    "            print(\"It is not a right-angled triangle\")\n",
    "\n",
    "\n",
    "class EquilateralTriangle(Triangle):\n",
    "    def __init__(self, angle1, angle2, angle3):\n",
    "        super().__init__(angle1, angle2, angle3)\n",
    "\n",
    "    def check_properties(self):\n",
    "        if self.angle1 == self.angle2 == self.angle3:\n",
    "            print(\"It is an equilateral triangle\")\n",
    "        else:\n",
    "            print(\"It is not an equilateral triangle\")\n",
    "\n",
    "\n",
    "class IsoscelesRightTriangle(IsoscelesTriangle, RightTriangle):\n",
    "    def __init__(self, angle1, angle2, angle3):\n",
    "        super().__init__(angle1, angle2, angle3)\n",
    "\n",
    "    def check_properties(self):\n",
    "        super().check_properties()\n",
    "        super().check_angles()\n",
    "\n",
    "\n",
    "#Example\n",
    "T = Triangle(60, 60, 60)\n",
    "T.check_angles()\n",
    "\n",
    "I = IsoscelesTriangle(45, 45, 90)\n",
    "I.check_properties()\n",
    "\n",
    "R = RightTriangle(30, 60, 90)\n",
    "R.check_properties()\n",
    "\n",
    "E = EquilateralTriangle(60, 60, 60)\n",
    "E.check_properties()\n",
    "\n",
    "IR = IsoscelesRightTriangle(45, 45, 90)\n",
    "IR.check_properties()\n"
   ]
  },
  {
   "cell_type": "code",
   "execution_count": null,
   "id": "28ef420e",
   "metadata": {},
   "outputs": [],
   "source": []
  }
 ],
 "metadata": {
  "kernelspec": {
   "display_name": "Python 3 (ipykernel)",
   "language": "python",
   "name": "python3"
  },
  "language_info": {
   "codemirror_mode": {
    "name": "ipython",
    "version": 3
   },
   "file_extension": ".py",
   "mimetype": "text/x-python",
   "name": "python",
   "nbconvert_exporter": "python",
   "pygments_lexer": "ipython3",
   "version": "3.8.16"
  }
 },
 "nbformat": 4,
 "nbformat_minor": 5
}
