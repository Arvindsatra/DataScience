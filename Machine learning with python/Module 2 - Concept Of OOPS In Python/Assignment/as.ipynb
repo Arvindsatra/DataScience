{
 "cells": [
  {
   "cell_type": "markdown",
   "metadata": {},
   "source": [
    "Assignment 1 – Function And Class"
   ]
  },
  {
   "cell_type": "code",
   "execution_count": 1,
   "metadata": {},
   "outputs": [],
   "source": [
    "# 1. Create a function named ‘factor’ that can only accept 1 argument. The\n",
    "# function should return the factorial of that number\n",
    "\n",
    "def factor(n):\n",
    "    if n == 0 or n == 1:\n",
    "        return 1\n",
    "    else:\n",
    "        return n * factor(n-1)"
   ]
  },
  {
   "cell_type": "code",
   "execution_count": 2,
   "metadata": {},
   "outputs": [
    {
     "name": "stdout",
     "output_type": "stream",
     "text": [
      "the factorial of 5 is 120\n"
     ]
    }
   ],
   "source": [
    "# Task1 : Factorial function\n",
    "user_input = int(input(\"enter a number to calculate its factorial: \"))\n",
    "result = factor(user_input)\n",
    "print(f\"the factorial of {user_input} is {result}\")\n"
   ]
  },
  {
   "cell_type": "code",
   "execution_count": 3,
   "metadata": {},
   "outputs": [],
   "source": [
    "# 2. Create a function named ‘check_string’, the function should accept a string\n",
    "# data from the user and the function should check if the user input contains\n",
    "# the letter ‘s’ in it. If it contains the letter ‘s’ then print- ‘The string is\n",
    "# containing the letter ‘s’’, if not then print- ‘The string doesn’t contain the\n",
    "# letter ‘s’’.\n",
    "\n",
    "def check_string(user_input):\n",
    "    if 's' in user_input.lower():\n",
    "        return True\n",
    "    else:\n",
    "        return False"
   ]
  },
  {
   "cell_type": "code",
   "execution_count": 4,
   "metadata": {},
   "outputs": [
    {
     "name": "stdout",
     "output_type": "stream",
     "text": [
      "the string doesn't containing the letter 's'\n"
     ]
    }
   ],
   "source": [
    "# Task2 : check string function\n",
    "user_input = input(\"enter a string to check if letter 's' exists: \")\n",
    "if check_string(user_input):\n",
    "    print(\"the string is containing the letter 's'\")\n",
    "else:\n",
    "    print(\"the string doesn't containing the letter 's'\")\n"
   ]
  },
  {
   "cell_type": "code",
   "execution_count": 6,
   "metadata": {},
   "outputs": [],
   "source": [
    "# 3. Create a class named ‘student’ and inside the class, create a function\n",
    "# named ‘fun1’- this method should accept the user defined input and return\n",
    "# that value:\n",
    "# a. Create another method named- message() and that method should print\n",
    "# the user defined input that we have defined in ‘fun1’.\n",
    "\n",
    "class student:\n",
    "    def fun1(self):\n",
    "        name = input(\"Enter your name: \")\n",
    "        self.name = name\n",
    "        return name\n",
    "\n",
    "    def message(self):\n",
    "        print(\"Your name is:\", self.name)\n",
    "\n",
    "# Task3 : student class\n",
    "# Create an object of the student class\n",
    "student1 = student()\n",
    "\n",
    "# Call the fun1() method on the student1 object\n",
    "name = student1.fun1()\n"
   ]
  },
  {
   "cell_type": "code",
   "execution_count": 7,
   "metadata": {},
   "outputs": [
    {
     "name": "stdout",
     "output_type": "stream",
     "text": [
      "Your name is: vishnu\n"
     ]
    }
   ],
   "source": [
    "# Call the message() method on the student1 object\n",
    "student1.message()"
   ]
  },
  {
   "cell_type": "code",
   "execution_count": 8,
   "metadata": {},
   "outputs": [],
   "source": [
    "# 4. Create a lambda function that should double or multiply the number (that\n",
    "# we will be passing in the lambda function) by 2. Store the lambda function\n",
    "# in a variable named ‘double_num’.\n",
    "\n",
    "double_num = lambda x: x*2\n"
   ]
  },
  {
   "cell_type": "code",
   "execution_count": 9,
   "metadata": {},
   "outputs": [],
   "source": [
    "# 5. Take user input string and check whether that string is palindrome or not.\n",
    "\n",
    "def is_palindrome(string):\n",
    "    cleaned_string = ''.join(char.lower() for char in string if char.isalnum())\n",
    "    return cleaned_string == cleaned_string[::-1]\n"
   ]
  },
  {
   "cell_type": "code",
   "execution_count": 10,
   "metadata": {},
   "outputs": [
    {
     "name": "stdout",
     "output_type": "stream",
     "text": [
      "string: TENET\n",
      "the string is a palindrome.\n"
     ]
    }
   ],
   "source": [
    "# Task5 : palindrome check function\n",
    "user_input = input(\"enter a string to check if its a palindrome: \")\n",
    "print(f'string: {user_input}')\n",
    "\n",
    "if is_palindrome(user_input):\n",
    "    print(\"the string is a palindrome.\")\n",
    "else:\n",
    "    print(\"the string is not a palindrome.\")\n",
    "\n"
   ]
  },
  {
   "cell_type": "markdown",
   "metadata": {},
   "source": [
    "Assignment 2 – Functions"
   ]
  },
  {
   "cell_type": "code",
   "execution_count": 11,
   "metadata": {},
   "outputs": [],
   "source": [
    "# 1. Create a class named ‘Super’ and inside that class define a user-defined\n",
    "# function named fun1\n",
    "# a. Inside the ‘fun1’ function, pass the message “This is function 1 in the\n",
    "# Super class.” in the print statement.\n",
    "\n",
    "\n",
    "class Super:\n",
    "    def fun1(self):\n",
    "        print(\"This is function 1 in the Super class.\")\n"
   ]
  },
  {
   "cell_type": "code",
   "execution_count": 12,
   "metadata": {},
   "outputs": [
    {
     "name": "stdout",
     "output_type": "stream",
     "text": [
      "This is function 1 in the Modified Super class.\n"
     ]
    }
   ],
   "source": [
    "# 2. Create another class named ‘Modified_Super’ and inherit this class from\n",
    "# the Super class\n",
    "# a. Inside the Modified_Super class, create a function named ‘fun1’ and\n",
    "# pass the following message inside the print statement: ‘This is function 1 in\n",
    "# the Modified Super class.’\n",
    "# b. Create another user-defined function named ‘fun2’ and pass the\n",
    "# message: ‘This is the 2 nd function from the Modified Super class’ in the\n",
    "# print statement.\n",
    "# c. After that, now create an object for the Modified_Super class and call the\n",
    "# fun1().\n",
    "\n",
    "class Modified_Super(Super):\n",
    "    def fun1(self):\n",
    "        print(\"This is function 1 in the Modified Super class.\")\n",
    "\n",
    "    def fun2(self):\n",
    "        print(\"This is the 2nd function from the Modified Super class.\")\n",
    "\n",
    "modified_obj = Modified_Super()\n",
    "modified_obj.fun1()\n"
   ]
  },
  {
   "cell_type": "code",
   "execution_count": 13,
   "metadata": {},
   "outputs": [
    {
     "ename": "TypeError",
     "evalue": "Hello() missing 1 required positional argument: 'arg2'",
     "output_type": "error",
     "traceback": [
      "\u001b[1;31m---------------------------------------------------------------------------\u001b[0m",
      "\u001b[1;31mTypeError\u001b[0m                                 Traceback (most recent call last)",
      "Cell \u001b[1;32mIn[13], line 15\u001b[0m\n\u001b[0;32m     12\u001b[0m         \u001b[39mprint\u001b[39m(\u001b[39m\"\u001b[39m\u001b[39mThis function is having 2 arguments\u001b[39m\u001b[39m\"\u001b[39m)\n\u001b[0;32m     14\u001b[0m my_obj \u001b[39m=\u001b[39m MyClass()\n\u001b[1;32m---> 15\u001b[0m my_obj\u001b[39m.\u001b[39;49mHello(\u001b[39m1\u001b[39;49m) \u001b[39m# This will call the first Hello() method with two arguments\u001b[39;00m\n\u001b[0;32m     16\u001b[0m \u001b[39m# my_obj.Hello(1,2)  # This will call the second Hello() method with two arguments\u001b[39;00m\n\u001b[0;32m     17\u001b[0m \n\u001b[0;32m     18\u001b[0m \u001b[39m# OVERRIDING methods in a class\u001b[39;00m\n",
      "\u001b[1;31mTypeError\u001b[0m: Hello() missing 1 required positional argument: 'arg2'"
     ]
    }
   ],
   "source": [
    "# 3. Create 2 methods named ‘Hello’. In the 1st Hello method, pass only one\n",
    "# argument and pass this message: ‘This function is only having 1\n",
    "# argument’. And in the 2nd Hello method, pass two arguments and pass\n",
    "# this message: ‘This function is having 2 arguments’.\n",
    "# a. Try to call both the methods and analyze the output of both the methods.\n",
    "\n",
    "class MyClass:\n",
    "    def Hello(self, arg1):\n",
    "        print(\"This function is only having 1 argument\")\n",
    "\n",
    "    def Hello(self, arg1, arg2):\n",
    "        print(\"This function is having 2 arguments\")\n",
    "\n",
    "my_obj = MyClass()\n",
    "my_obj.Hello(1) # This will call the first Hello() method with two arguments\n",
    "# my_obj.Hello(1,2)  # This will call the second Hello() method with two arguments\n",
    "\n",
    "# OVERRIDING methods in a class"
   ]
  },
  {
   "cell_type": "code",
   "execution_count": 14,
   "metadata": {},
   "outputs": [],
   "source": [
    "# 4. Create a method named ‘Sum’ that can accept multiple user inputs. Now\n",
    "# add those user defined input values using for loop and the function should\n",
    "# return the addition of the numbers.\n",
    "\n",
    "class MathOperations:\n",
    "    def Sum(self, *args):\n",
    "        total = 0\n",
    "        for num in args:\n",
    "            total += num\n",
    "        return total\n"
   ]
  },
  {
   "cell_type": "code",
   "execution_count": 15,
   "metadata": {},
   "outputs": [
    {
     "name": "stdout",
     "output_type": "stream",
     "text": [
      "Sum of the numbers: 60\n"
     ]
    }
   ],
   "source": [
    "# Execution part\n",
    "\n",
    "math_obj = MathOperations()\n",
    "user_inputs = []\n",
    "while True:\n",
    "    user_input = input(\"Enter numbers one by one (type 'done' to stop): \")\n",
    "    if user_input.lower() == 'done':\n",
    "        break\n",
    "    try:\n",
    "        num = int(user_input)\n",
    "        user_inputs.append(num)\n",
    "    except ValueError:\n",
    "        print(\"Invalid input! Please enter a valid number.\")\n",
    "\n",
    "result = math_obj.Sum(*user_inputs)\n",
    "print(\"Sum of the numbers:\", result)\n"
   ]
  },
  {
   "cell_type": "code",
   "execution_count": 16,
   "metadata": {},
   "outputs": [],
   "source": [
    "# 5. Create a class named ‘Encapsulation’:\n",
    "# a. Inside the class, first create a constructor. Inside the constructor,\n",
    "# initialize originalValue variable as 10.\n",
    "# b. After creating the constructor, define a function named ‘Value’ and this\n",
    "# function should return the variable that we have initialized in the\n",
    "# constructor\n",
    "# c. Now create a 2nd function named setValue, and pass an argument\n",
    "# named ‘newValue’. The task of this function will be to replace the value of\n",
    "# the originalValue variable by the value of newValue variable.\n",
    "\n",
    "class Encapsulation:\n",
    "    def __init__(self):\n",
    "        # Initialize originalValue variable as 10 by default\n",
    "        self.originalValue = 10\n",
    "\n",
    "    def Value(self):\n",
    "        return self.originalValue\n"
   ]
  },
  {
   "cell_type": "code",
   "execution_count": 17,
   "metadata": {},
   "outputs": [
    {
     "name": "stdout",
     "output_type": "stream",
     "text": [
      "Creating an Encapsulation object with an initial value.\n",
      "Encapsulation object created with default initial value 10.\n",
      "Current value of originalValue: 10\n"
     ]
    }
   ],
   "source": [
    "# Execution part\n",
    "\n",
    "print(\"Creating an Encapsulation object with an initial value.\")\n",
    "user_input = input(\"Enter a custom initial value (press Enter for the default value 10): \")\n",
    "\n",
    "try:\n",
    "    if user_input.strip() != \"\":\n",
    "        initial_value = int(user_input)\n",
    "        encap_obj = Encapsulation()\n",
    "        encap_obj.originalValue = initial_value\n",
    "        print(\"Encapsulation object created with custom initial value:\", encap_obj.Value())\n",
    "    else:\n",
    "        encap_obj = Encapsulation()\n",
    "        print(\"Encapsulation object created with default initial value 10.\")\n",
    "        print(\"Current value of originalValue:\", encap_obj.Value())\n",
    "except ValueError:\n",
    "    print(\"Invalid input! Please enter a valid integer as the initial value.\")\n"
   ]
  },
  {
   "cell_type": "markdown",
   "metadata": {},
   "source": [
    "Assignment 3 – Import"
   ]
  },
  {
   "cell_type": "code",
   "execution_count": 18,
   "metadata": {},
   "outputs": [],
   "source": [
    "# 1. Create a Python file named Module:\n",
    "# a. Inside the file, define 4 methods named – addition, subtraction,\n",
    "# multiplication, and division.\n",
    "# b. Each method should only accept 2 arguments and should return the\n",
    "# result of operation performed in each method. For e.g., addition() should\n",
    "# return the sum of two arguments.\n",
    "# c. Save the Module file in .py format.\n",
    "\n",
    "# def addition(a,b):\n",
    "#     return a+b\n",
    "# def subtraction(a,b):\n",
    "#     return a-b\n",
    "# def multiplication(a,b):\n",
    "#     return a*b\n",
    "# def division(a,b):\n",
    "#     if b == 0:\n",
    "#         return \"Error division by zero is not allowed\"\n",
    "#     return  a/b\n"
   ]
  },
  {
   "cell_type": "code",
   "execution_count": 19,
   "metadata": {},
   "outputs": [
    {
     "name": "stdout",
     "output_type": "stream",
     "text": [
      "Result of addition: 15\n",
      "Result of subtraction: 5\n",
      "Result of multiplication: 50\n",
      "Result of division: 2.0\n"
     ]
    }
   ],
   "source": [
    "# 2. Open a new python file and import the Module.py file\n",
    "# a. Now call the 4 methods from the Module.py file, i.e., addition(),\n",
    "# subtraction(), multiplication(), and division().\n",
    "\n",
    "import  Module\n",
    "\n",
    "print(\"Result of addition:\", Module.addition(10,5))\n",
    "print(\"Result of subtraction:\", Module.subtraction(10,5))\n",
    "print(\"Result of multiplication:\", Module.multiplication(10,5))\n",
    "print(\"Result of division:\",Module.division(10,5))"
   ]
  },
  {
   "cell_type": "code",
   "execution_count": 20,
   "metadata": {},
   "outputs": [
    {
     "name": "stdout",
     "output_type": "stream",
     "text": [
      "Result from import addition(): 22\n"
     ]
    }
   ],
   "source": [
    "# 3. From the Module file, import only the addition() and pass the arguments so\n",
    "# that it can display the result from the method.\n",
    "\n",
    "from Module import addition\n",
    "result = addition(15,7)\n",
    "print(\"Result from import addition():\",result)\n"
   ]
  },
  {
   "cell_type": "code",
   "execution_count": 21,
   "metadata": {},
   "outputs": [
    {
     "name": "stdout",
     "output_type": "stream",
     "text": [
      "Result from import subtraction(): 8\n"
     ]
    }
   ],
   "source": [
    "# 4. From the Module file, import only the subtraction() and pass the arguments\n",
    "# so that it can display the result from the method.\n",
    "\n",
    "from Module import subtraction\n",
    "result = subtraction(15,7)\n",
    "print(\"Result from import subtraction():\",result)\n"
   ]
  },
  {
   "cell_type": "code",
   "execution_count": 22,
   "metadata": {},
   "outputs": [
    {
     "name": "stdout",
     "output_type": "stream",
     "text": [
      "Result from import multiplication(): 32\n",
      "Result from import division(): 5.0\n"
     ]
    }
   ],
   "source": [
    "# 5. From the Module file, import both the multiplication() and division() and\n",
    "# pass the arguments so that it can display the result from the methods.\n",
    "\n",
    "from Module import multiplication, division\n",
    "result_mul = multiplication(8,4)\n",
    "result_div = division(15,3)\n",
    "print(\"Result from import multiplication():\",result_mul)\n",
    "print(\"Result from import division():\",result_div)\n"
   ]
  },
  {
   "cell_type": "markdown",
   "metadata": {},
   "source": [
    "Assignment 4 – Inheritance"
   ]
  },
  {
   "cell_type": "code",
   "execution_count": 23,
   "metadata": {},
   "outputs": [
    {
     "name": "stdout",
     "output_type": "stream",
     "text": [
      "Value of 'num' from child_class: 10\n"
     ]
    }
   ],
   "source": [
    "# 1. Create a class named parent_Class and inside the class, initialize a global\n",
    "# variable num as 10\n",
    "# a. Create another class named child_Class and this class should be\n",
    "# inherited from the parent class.\n",
    "# b. Now create an object for the child_Class and with the help of\n",
    "# child_Class object, display the value of ‘num’.\n",
    "\n",
    "# Task 1\n",
    "class parent_class:\n",
    "    num=10\n",
    "\n",
    "class child_class(parent_class):\n",
    "    pass\n",
    "\n",
    "child_obj = child_class()\n",
    "print(\"Value of 'num' from child_class:\", child_obj.num)\n"
   ]
  },
  {
   "cell_type": "code",
   "execution_count": 24,
   "metadata": {},
   "outputs": [
    {
     "name": "stdout",
     "output_type": "stream",
     "text": [
      "Name from the class C: John\n"
     ]
    }
   ],
   "source": [
    "# 2. Create three classes named A, B and C\n",
    "# a. Inside the A class, create a constructor. Inside the constructor, initialize\n",
    "# 2 global variables name and age.\n",
    "# b. After initializing the global variables inside the constructor, now create a\n",
    "# function named ‘details’ and that function should return the ‘name’ variable.\n",
    "\n",
    "class A:\n",
    "    def __init__(self):\n",
    "        self.name = \"John\"\n",
    "        self.age = 30\n",
    "\n",
    "    def details(self):\n",
    "        return self.name\n",
    "\n",
    "# c. Inside the B class, create a constructor. Inside the constructor, initialize 2\n",
    "# global variables name and id.\n",
    "# d. After initializing the global variables inside the constructor, now create a\n",
    "# function named ‘details’ and that function should return the ‘name’ variable.\n",
    "\n",
    "class B:\n",
    "    def __init__(self):\n",
    "        self.name = \"Jane\"\n",
    "        self.id = 123\n",
    "\n",
    "    def details(self):\n",
    "        return  self.name\n",
    "\n",
    "\n",
    "# e. The C class should inherit from class A, and B. Inside the class C,\n",
    "# create a constructor, and inside the constructor, call the constructor of\n",
    "# class A.\n",
    "# f. Now, create a method inside the class C, as get_details, and this function\n",
    "# should return the value of name.\n",
    "# g. Atlast, create an object of class C, and with the help of the object, call\n",
    "# the get_details().\n",
    "\n",
    "class C(A,B):\n",
    "    def __init__(self):\n",
    "        super().__init__()\n",
    "\n",
    "    def get_details(self):\n",
    "        return self.name\n",
    "c_obj=C()\n",
    "print(\"Name from the class C:\", c_obj.get_details())\n",
    "\n",
    "# overloading"
   ]
  },
  {
   "cell_type": "code",
   "execution_count": 25,
   "metadata": {},
   "outputs": [
    {
     "name": "stdout",
     "output_type": "stream",
     "text": [
      "This is the first function from sub 1 class\n",
      "This is the second function from the sub 2 class\n",
      "This is the final method from the super class\n"
     ]
    }
   ],
   "source": [
    "# 3. Create a class named ‘Sub1’, inside the class, generate a user defined\n",
    "# function named ‘first’ and inside the function, pass the following statement\n",
    "# in the print()- ‘This is the first function from Sub 1 class’.\n",
    "\n",
    "class sub1:\n",
    "    def first(self):\n",
    "        print(\"This is the first function from sub 1 class\")\n",
    "\n",
    "# a. Now create another class named ‘Sub2’, and inside the class, create a\n",
    "# function named ‘second’, and pass the following message in the print()-\n",
    "# ‘This is the second function from the Sub 2 class’.\n",
    "\n",
    "class sub2:\n",
    "    def second(self):\n",
    "        print(\"This is the second function from the sub 2 class\")\n",
    "\n",
    "# b. After that, create another class named ‘Super’ and inside that class,\n",
    "# create a method named ‘final’, and pass the below message in the print()-\n",
    "# ‘This is the final method from the super class’\n",
    "\n",
    "class Super(sub1,sub2):\n",
    "    def final(self):\n",
    "        print(\"This is the final method from the super class\")\n",
    "\n",
    "# c. Now, create an object for the Super class and call all the 3 user defined\n",
    "# methods, i.e., first(), second(), and final().\n",
    "\n",
    "super_obj = Super()\n",
    "super_obj.first()\n",
    "super_obj.second()\n",
    "super_obj.final()\n",
    "\n",
    "# Inheritance"
   ]
  },
  {
   "cell_type": "code",
   "execution_count": 26,
   "metadata": {},
   "outputs": [
    {
     "name": "stdout",
     "output_type": "stream",
     "text": [
      "This is the message from fun1\n"
     ]
    }
   ],
   "source": [
    "# 4. Create a class named ‘Parent’, and inside the class, create a function\n",
    "# named ‘fun1’ and pass the following message in the print()- ‘This is the\n",
    "# message from the fun1’.\n",
    "\n",
    "class Parent:\n",
    "    def fun1(self):\n",
    "        print(\"This is the message from fun1\")\n",
    "\n",
    "# a. Now create a class named ‘Child1’ and inside the class, create a\n",
    "# method named ‘fun2’ and pass the following message in the print()- ‘This is\n",
    "# the message from the fun2’\n",
    "\n",
    "class Child1(Parent):\n",
    "    def fun2(self):\n",
    "        print(\"This is the message from the fun2\")\n",
    "\n",
    "# b. After that, create another class named ‘Child2’ and inside the class,\n",
    "# create a method named ‘fun3’ and pass the following message in the\n",
    "# print()- ‘This is the message from the fun3’.\n",
    "\n",
    "class Child2(Parent):\n",
    "    def fun3(self):\n",
    "        print(\"This is the message from the fun3\")\n",
    "\n",
    "# c. Now, create an object of Child2 class and with the help of the object, call\n",
    "# the ‘fun1’ method from the ‘Parent’ class.\n",
    "child2_obj = Child2()\n",
    "child2_obj.fun1()\n"
   ]
  },
  {
   "cell_type": "code",
   "execution_count": 27,
   "metadata": {},
   "outputs": [
    {
     "name": "stdout",
     "output_type": "stream",
     "text": [
      "This is the message from the fun1\n",
      "This is the message from the fun2\n",
      "This si the message from the fun3\n"
     ]
    }
   ],
   "source": [
    "# 5. Create a class named ‘Parent’, and inside the class, create a function\n",
    "# named ‘fun1’ and pass the following message in the print()- ‘This is the\n",
    "# message from the fun1’.\n",
    "\n",
    "class Parent:\n",
    "    def fun1(self):\n",
    "        print(\"This is the message from the fun1\")\n",
    "\n",
    "# a. Now create a class named ‘Child’ and inside the class, create a method\n",
    "# named ‘fun2’ and pass the following message in the print()- ‘This is the\n",
    "# message from the fun2’.\n",
    "\n",
    "class Child:\n",
    "    def fun2(self):\n",
    "        print(\"This is the message from the fun2\")\n",
    "\n",
    "# b. After that, create another class named ‘Hybrid’ and inside the class,\n",
    "# create a method named ‘fun3’ and pass the following message in the\n",
    "# print()- ‘This is the message from the fun3’.\n",
    "\n",
    "class Hybrid(Parent,Child):\n",
    "    def fun3(self):\n",
    "        print(\"This si the message from the fun3\")\n",
    "\n",
    "# c. Now create an object of Hybrid class and with the help of the object, call\n",
    "# the ‘fun1’, ‘fun2’ and ‘fun3’ methods.\n",
    "\n",
    "hybcls_obj = Hybrid()\n",
    "hybcls_obj.fun1()\n",
    "hybcls_obj.fun2()\n",
    "hybcls_obj.fun3()"
   ]
  },
  {
   "cell_type": "code",
   "execution_count": null,
   "metadata": {},
   "outputs": [],
   "source": []
  }
 ],
 "metadata": {
  "kernelspec": {
   "display_name": "6.86x",
   "language": "python",
   "name": "python3"
  },
  "language_info": {
   "codemirror_mode": {
    "name": "ipython",
    "version": 3
   },
   "file_extension": ".py",
   "mimetype": "text/x-python",
   "name": "python",
   "nbconvert_exporter": "python",
   "pygments_lexer": "ipython3",
   "version": "3.8.16"
  },
  "orig_nbformat": 4
 },
 "nbformat": 4,
 "nbformat_minor": 2
}
