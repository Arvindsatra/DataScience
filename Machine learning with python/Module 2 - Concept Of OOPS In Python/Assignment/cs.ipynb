{
 "cells": [
  {
   "cell_type": "markdown",
   "metadata": {},
   "source": [
    "Case Study 1 – Concept Of OOPs"
   ]
  },
  {
   "cell_type": "code",
   "execution_count": 7,
   "metadata": {},
   "outputs": [],
   "source": [
    "# 1. Create a class named Employee, with a constructor ‘__init__’ method that\n",
    "# accepts name and salary as parameters and set properties named name\n",
    "# and salary\n",
    "\n",
    "# 2. Define __str__ method in Employee class so that when someone tries to\n",
    "# print the object the string Name: employee_name, Salary:\n",
    "# employee_salary is printed with the actual employee name and salary.\n",
    "\n",
    "class Employee:\n",
    "    def __init__(self, name, salary):\n",
    "        self.name = name\n",
    "        self.salary = salary\n",
    "\n",
    "    def __str__(self):\n",
    "        return f\"EmployeeName: {self.name}, Salary: {self.salary}\"\n"
   ]
  },
  {
   "cell_type": "code",
   "execution_count": 8,
   "metadata": {},
   "outputs": [
    {
     "name": "stdout",
     "output_type": "stream",
     "text": [
      "creating an employee object.\n",
      "EmployeeName: John, Salary: 500000.0\n"
     ]
    }
   ],
   "source": [
    "# Execution part\n",
    "\n",
    "print(\"creating an employee object.\")\n",
    "name = input(\"Enter the name of the employee: \")\n",
    "salary = float(input((\"Enter the salary of the employee: \")))\n",
    "emp_obj = Employee(name, salary)\n",
    "print(emp_obj)"
   ]
  },
  {
   "cell_type": "code",
   "execution_count": 9,
   "metadata": {},
   "outputs": [],
   "source": [
    "# # 3. Create another class named Calculator, with methods to add, subtract,\n",
    "# # multiply and divide two numbers.\n",
    "# # 4. These methods take two numbers as parameters.\n",
    "# 5. These methods will be called by a method named execute command.\n",
    "# 6. Execute command takes in 3 parameters command which is string that can\n",
    "# be either ‘add’, ‘sub’, ‘mul’, ‘div’, and two numbers and it will call the\n",
    "# appropriate method based on command parameter.\n",
    "\n",
    "\n",
    "class Calculator:\n",
    "    def add(self,num1,num2):\n",
    "        return num1+num2\n",
    "    def sub(self,num1,num2):\n",
    "        return num1-num2\n",
    "    def mul(self,num1,num2):\n",
    "        return num1*num2\n",
    "    def div(self,num1,num2):\n",
    "        if num2 == 0:\n",
    "            return \"Error Division by zero is not allowed.\"\n",
    "        return num1/num2\n",
    "\n",
    "    def execute_command(self,command,num1,num2):\n",
    "        if command == 'add':\n",
    "            return self.add(num1,num2)\n",
    "        elif command == 'sub':\n",
    "            return self.sub(num1,num2)\n",
    "        elif command == 'mul':\n",
    "            return self.mul(num1,num2)\n",
    "        elif command == 'div':\n",
    "            return self.div(num1,num2)\n",
    "        else:\n",
    "            return \"Invalid command. please use 'add', 'sub', 'mul' or 'div'.\"\n"
   ]
  },
  {
   "cell_type": "code",
   "execution_count": 10,
   "metadata": {},
   "outputs": [
    {
     "name": "stdout",
     "output_type": "stream",
     "text": [
      "\n",
      "Using Calculator to perfomr arthmetic operations.\n",
      "Result of add: 50.0\n"
     ]
    }
   ],
   "source": [
    "# Execution part\n",
    "\n",
    "print(\"\\nUsing Calculator to perfomr arthmetic operations.\")\n",
    "calc_obj = Calculator()\n",
    "command = input(\"Enter the command ('add', 'sub', 'mul', 'div'): \")\n",
    "num1 = float(input(\"Enter the first number: \"))\n",
    "num2 = float(input(\"Enter the second number: \"))\n",
    "result = calc_obj.execute_command(command, num1, num2)\n",
    "print(f\"Result of {command}: {result}\")\n"
   ]
  },
  {
   "cell_type": "code",
   "execution_count": null,
   "metadata": {},
   "outputs": [],
   "source": []
  }
 ],
 "metadata": {
  "kernelspec": {
   "display_name": "6.86x",
   "language": "python",
   "name": "python3"
  },
  "language_info": {
   "codemirror_mode": {
    "name": "ipython",
    "version": 3
   },
   "file_extension": ".py",
   "mimetype": "text/x-python",
   "name": "python",
   "nbconvert_exporter": "python",
   "pygments_lexer": "ipython3",
   "version": "3.8.16"
  },
  "orig_nbformat": 4
 },
 "nbformat": 4,
 "nbformat_minor": 2
}
