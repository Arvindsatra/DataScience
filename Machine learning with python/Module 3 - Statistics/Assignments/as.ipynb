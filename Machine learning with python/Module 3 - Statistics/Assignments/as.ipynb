{
 "cells": [
  {
   "cell_type": "code",
   "execution_count": 1,
   "metadata": {},
   "outputs": [],
   "source": [
    "# 1. Create a table in excel, table should have 2 columns named x and y:\n",
    "# a. ‘x’ column should have numbers from 1-5\n",
    "# b. ‘y’ should have numbers 2, 4, 5, 4, 2\n",
    "# c. Now calculate the mean of columns x and y\n",
    "# d. Calculate the mode of column x\n",
    "# e. Calculate the standard deviation of column y\n",
    "# f. At last calculate the range of columns x and y separately\n"
   ]
  },
  {
   "cell_type": "code",
   "execution_count": 2,
   "metadata": {},
   "outputs": [],
   "source": [
    "\n",
    "import pandas as pd\n",
    "import numpy as np\n",
    "\n",
    "# Create the table in Excel format\n",
    "data = {'x': [1, 2, 3, 4, 5], 'y': [2, 4, 5, 4, 2]}\n",
    "df = pd.DataFrame(data)\n"
   ]
  },
  {
   "cell_type": "code",
   "execution_count": 5,
   "metadata": {},
   "outputs": [
    {
     "name": "stdout",
     "output_type": "stream",
     "text": [
      "Mean of column x: 3.0\n",
      "Mean of column y: 3.4\n"
     ]
    }
   ],
   "source": [
    "# Calculate the mean of columns x and y\n",
    "mean_x = round(df['x'].mean(), 2)\n",
    "mean_y = round(df['y'].mean(), 2)\n",
    "print(\"Mean of column x:\", mean_x)\n",
    "print(\"Mean of column y:\", mean_y)"
   ]
  },
  {
   "cell_type": "code",
   "execution_count": 6,
   "metadata": {},
   "outputs": [
    {
     "name": "stdout",
     "output_type": "stream",
     "text": [
      "Mode of column x: 1\n"
     ]
    }
   ],
   "source": [
    "# Calculate the mode of column x\n",
    "mode_x = df['x'].mode().values[0]\n",
    "print(\"Mode of column x:\", mode_x)\n"
   ]
  },
  {
   "cell_type": "code",
   "execution_count": 7,
   "metadata": {},
   "outputs": [
    {
     "name": "stdout",
     "output_type": "stream",
     "text": [
      "Standard deviation of column y: 1.34\n"
     ]
    }
   ],
   "source": [
    "# Calculate the standard deviation of column y\n",
    "std_dev_y = round(df['y'].std(), 2)\n",
    "print(\"Standard deviation of column y:\", std_dev_y)\n"
   ]
  },
  {
   "cell_type": "code",
   "execution_count": 8,
   "metadata": {},
   "outputs": [
    {
     "name": "stdout",
     "output_type": "stream",
     "text": [
      "Range of column x: 4\n",
      "Range of column y: 3\n"
     ]
    }
   ],
   "source": [
    "# Calculate the range of columns x and y separately\n",
    "range_x = df['x'].max() - df['x'].min()\n",
    "range_y = df['y'].max() - df['y'].min()\n",
    "print(\"Range of column x:\", range_x)\n",
    "print(\"Range of column y:\", range_y)\n"
   ]
  },
  {
   "cell_type": "code",
   "execution_count": null,
   "metadata": {},
   "outputs": [],
   "source": []
  }
 ],
 "metadata": {
  "kernelspec": {
   "display_name": "6.86x",
   "language": "python",
   "name": "python3"
  },
  "language_info": {
   "codemirror_mode": {
    "name": "ipython",
    "version": 3
   },
   "file_extension": ".py",
   "mimetype": "text/x-python",
   "name": "python",
   "nbconvert_exporter": "python",
   "pygments_lexer": "ipython3",
   "version": "3.8.16"
  },
  "orig_nbformat": 4
 },
 "nbformat": 4,
 "nbformat_minor": 2
}
