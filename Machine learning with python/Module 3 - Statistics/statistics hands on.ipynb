{
 "cells": [
  {
   "cell_type": "code",
   "execution_count": 1,
   "id": "3abf1284",
   "metadata": {},
   "outputs": [],
   "source": [
    "import pandas as pd\n"
   ]
  },
  {
   "cell_type": "code",
   "execution_count": 2,
   "id": "bfaec355",
   "metadata": {},
   "outputs": [],
   "source": [
    "data= pd.read_csv(r\"country_profile_variables (1).csv\")"
   ]
  },
  {
   "cell_type": "code",
   "execution_count": 3,
   "id": "58d219ab",
   "metadata": {},
   "outputs": [
    {
     "data": {
      "text/html": [
       "<div>\n",
       "<style scoped>\n",
       "    .dataframe tbody tr th:only-of-type {\n",
       "        vertical-align: middle;\n",
       "    }\n",
       "\n",
       "    .dataframe tbody tr th {\n",
       "        vertical-align: top;\n",
       "    }\n",
       "\n",
       "    .dataframe thead th {\n",
       "        text-align: right;\n",
       "    }\n",
       "</style>\n",
       "<table border=\"1\" class=\"dataframe\">\n",
       "  <thead>\n",
       "    <tr style=\"text-align: right;\">\n",
       "      <th></th>\n",
       "      <th>country</th>\n",
       "      <th>Region</th>\n",
       "      <th>Surface area (km2)</th>\n",
       "      <th>Population in thousands (2017)</th>\n",
       "      <th>Population density (per km2, 2017)</th>\n",
       "      <th>Sex ratio (m per 100 f, 2017)</th>\n",
       "      <th>GDP: Gross domestic product (million current US$)</th>\n",
       "      <th>GDP growth rate (annual %, const. 2005 prices)</th>\n",
       "      <th>GDP per capita (current US$)</th>\n",
       "      <th>Economy: Agriculture (% of GVA)</th>\n",
       "      <th>...</th>\n",
       "      <th>Mobile-cellular subscriptions (per 100 inhabitants).1</th>\n",
       "      <th>Individuals using the Internet (per 100 inhabitants)</th>\n",
       "      <th>Threatened species (number)</th>\n",
       "      <th>Forested area (% of land area)</th>\n",
       "      <th>CO2 emission estimates (million tons/tons per capita)</th>\n",
       "      <th>Energy production, primary (Petajoules)</th>\n",
       "      <th>Energy supply per capita (Gigajoules)</th>\n",
       "      <th>Pop. using improved drinking water (urban/rural, %)</th>\n",
       "      <th>Pop. using improved sanitation facilities (urban/rural, %)</th>\n",
       "      <th>Net Official Development Assist. received (% of GNI)</th>\n",
       "    </tr>\n",
       "  </thead>\n",
       "  <tbody>\n",
       "    <tr>\n",
       "      <th>0</th>\n",
       "      <td>Afghanistan</td>\n",
       "      <td>SouthernAsia</td>\n",
       "      <td>652864</td>\n",
       "      <td>35530</td>\n",
       "      <td>54.4</td>\n",
       "      <td>106.3</td>\n",
       "      <td>20270</td>\n",
       "      <td>-2.4</td>\n",
       "      <td>623.2</td>\n",
       "      <td>23.3</td>\n",
       "      <td>...</td>\n",
       "      <td>8.3</td>\n",
       "      <td>42</td>\n",
       "      <td>2.1</td>\n",
       "      <td>9.8/0.3</td>\n",
       "      <td>63</td>\n",
       "      <td>5</td>\n",
       "      <td>78.2/47.0</td>\n",
       "      <td>45.1/27.0</td>\n",
       "      <td>21.43</td>\n",
       "      <td>-99</td>\n",
       "    </tr>\n",
       "    <tr>\n",
       "      <th>1</th>\n",
       "      <td>Albania</td>\n",
       "      <td>SouthernEurope</td>\n",
       "      <td>28748</td>\n",
       "      <td>2930</td>\n",
       "      <td>106.9</td>\n",
       "      <td>101.9</td>\n",
       "      <td>11541</td>\n",
       "      <td>2.6</td>\n",
       "      <td>3984.2</td>\n",
       "      <td>22.4</td>\n",
       "      <td>...</td>\n",
       "      <td>63.3</td>\n",
       "      <td>130</td>\n",
       "      <td>28.2</td>\n",
       "      <td>5.7/2.0</td>\n",
       "      <td>84</td>\n",
       "      <td>36</td>\n",
       "      <td>94.9/95.2</td>\n",
       "      <td>95.5/90.2</td>\n",
       "      <td>2.96</td>\n",
       "      <td>-99</td>\n",
       "    </tr>\n",
       "    <tr>\n",
       "      <th>2</th>\n",
       "      <td>Algeria</td>\n",
       "      <td>NorthernAfrica</td>\n",
       "      <td>2381741</td>\n",
       "      <td>41318</td>\n",
       "      <td>17.3</td>\n",
       "      <td>102.0</td>\n",
       "      <td>164779</td>\n",
       "      <td>3.8</td>\n",
       "      <td>4154.1</td>\n",
       "      <td>12.2</td>\n",
       "      <td>...</td>\n",
       "      <td>38.2</td>\n",
       "      <td>135</td>\n",
       "      <td>0.8</td>\n",
       "      <td>145.4/3.7</td>\n",
       "      <td>5900</td>\n",
       "      <td>55</td>\n",
       "      <td>84.3/81.8</td>\n",
       "      <td>89.8/82.2</td>\n",
       "      <td>0.05</td>\n",
       "      <td>-99</td>\n",
       "    </tr>\n",
       "    <tr>\n",
       "      <th>3</th>\n",
       "      <td>American Samoa</td>\n",
       "      <td>Polynesia</td>\n",
       "      <td>199</td>\n",
       "      <td>56</td>\n",
       "      <td>278.2</td>\n",
       "      <td>103.6</td>\n",
       "      <td>-99</td>\n",
       "      <td>-99</td>\n",
       "      <td>-99.0</td>\n",
       "      <td>-99</td>\n",
       "      <td>...</td>\n",
       "      <td>-99</td>\n",
       "      <td>92</td>\n",
       "      <td>87.9</td>\n",
       "      <td>-99</td>\n",
       "      <td>-99</td>\n",
       "      <td>-99</td>\n",
       "      <td>100.0/100.0</td>\n",
       "      <td>62.5/62.5</td>\n",
       "      <td>-99</td>\n",
       "      <td>-99</td>\n",
       "    </tr>\n",
       "    <tr>\n",
       "      <th>4</th>\n",
       "      <td>Andorra</td>\n",
       "      <td>SouthernEurope</td>\n",
       "      <td>468</td>\n",
       "      <td>77</td>\n",
       "      <td>163.8</td>\n",
       "      <td>102.3</td>\n",
       "      <td>2812</td>\n",
       "      <td>0.8</td>\n",
       "      <td>39896.4</td>\n",
       "      <td>0.5</td>\n",
       "      <td>...</td>\n",
       "      <td>96.9</td>\n",
       "      <td>13</td>\n",
       "      <td>34.0</td>\n",
       "      <td>0.5/6.4</td>\n",
       "      <td>1</td>\n",
       "      <td>119</td>\n",
       "      <td>100.0/100.0</td>\n",
       "      <td>100.0/100.0</td>\n",
       "      <td>-99</td>\n",
       "      <td>-99</td>\n",
       "    </tr>\n",
       "    <tr>\n",
       "      <th>5</th>\n",
       "      <td>Angola</td>\n",
       "      <td>MiddleAfrica</td>\n",
       "      <td>1246700</td>\n",
       "      <td>29784</td>\n",
       "      <td>23.9</td>\n",
       "      <td>96.2</td>\n",
       "      <td>117955</td>\n",
       "      <td>3.0</td>\n",
       "      <td>4714.1</td>\n",
       "      <td>6.8</td>\n",
       "      <td>...</td>\n",
       "      <td>12.4</td>\n",
       "      <td>146</td>\n",
       "      <td>46.5</td>\n",
       "      <td>34.8/1.4</td>\n",
       "      <td>3902</td>\n",
       "      <td>25</td>\n",
       "      <td>75.4/28.2</td>\n",
       "      <td>88.6/22.5</td>\n",
       "      <td>0.42</td>\n",
       "      <td>-99</td>\n",
       "    </tr>\n",
       "    <tr>\n",
       "      <th>6</th>\n",
       "      <td>Anguilla</td>\n",
       "      <td>Caribbean</td>\n",
       "      <td>91</td>\n",
       "      <td>15</td>\n",
       "      <td>165.7</td>\n",
       "      <td>97.6</td>\n",
       "      <td>320</td>\n",
       "      <td>2.9</td>\n",
       "      <td>21879.6</td>\n",
       "      <td>2.3</td>\n",
       "      <td>...</td>\n",
       "      <td>76.0</td>\n",
       "      <td>52</td>\n",
       "      <td>61.1</td>\n",
       "      <td>0.1/9.8</td>\n",
       "      <td>0</td>\n",
       "      <td>136</td>\n",
       "      <td>94.6/...</td>\n",
       "      <td>97.9/...</td>\n",
       "      <td>-99</td>\n",
       "      <td>-99</td>\n",
       "    </tr>\n",
       "    <tr>\n",
       "      <th>7</th>\n",
       "      <td>Antigua and Barbuda</td>\n",
       "      <td>Caribbean</td>\n",
       "      <td>442</td>\n",
       "      <td>102</td>\n",
       "      <td>231.8</td>\n",
       "      <td>92.3</td>\n",
       "      <td>1356</td>\n",
       "      <td>4.1</td>\n",
       "      <td>14764.5</td>\n",
       "      <td>1.9</td>\n",
       "      <td>...</td>\n",
       "      <td>65.2</td>\n",
       "      <td>55</td>\n",
       "      <td>22.3</td>\n",
       "      <td>0.5/5.8</td>\n",
       "      <td>-99</td>\n",
       "      <td>84</td>\n",
       "      <td>97.9/97.9</td>\n",
       "      <td>91.4/91.4</td>\n",
       "      <td>0.12</td>\n",
       "      <td>-99</td>\n",
       "    </tr>\n",
       "    <tr>\n",
       "      <th>8</th>\n",
       "      <td>Argentina</td>\n",
       "      <td>SouthAmerica</td>\n",
       "      <td>2780400</td>\n",
       "      <td>44271</td>\n",
       "      <td>16.2</td>\n",
       "      <td>95.9</td>\n",
       "      <td>632343</td>\n",
       "      <td>2.4</td>\n",
       "      <td>14564.5</td>\n",
       "      <td>6.0</td>\n",
       "      <td>...</td>\n",
       "      <td>69.4</td>\n",
       "      <td>256</td>\n",
       "      <td>10.0</td>\n",
       "      <td>204.0/4.7</td>\n",
       "      <td>3167</td>\n",
       "      <td>85</td>\n",
       "      <td>99.0/100.0</td>\n",
       "      <td>96.2/98.3</td>\n",
       "      <td>0.01</td>\n",
       "      <td>-99</td>\n",
       "    </tr>\n",
       "    <tr>\n",
       "      <th>9</th>\n",
       "      <td>Armenia</td>\n",
       "      <td>WesternAsia</td>\n",
       "      <td>29743</td>\n",
       "      <td>2930</td>\n",
       "      <td>102.9</td>\n",
       "      <td>88.8</td>\n",
       "      <td>10529</td>\n",
       "      <td>3.0</td>\n",
       "      <td>3489.1</td>\n",
       "      <td>19.0</td>\n",
       "      <td>...</td>\n",
       "      <td>58.2</td>\n",
       "      <td>114</td>\n",
       "      <td>11.7</td>\n",
       "      <td>5.5/1.8</td>\n",
       "      <td>48</td>\n",
       "      <td>46</td>\n",
       "      <td>100.0/100.0</td>\n",
       "      <td>96.2/78.2</td>\n",
       "      <td>3.17</td>\n",
       "      <td>-99</td>\n",
       "    </tr>\n",
       "  </tbody>\n",
       "</table>\n",
       "<p>10 rows × 50 columns</p>\n",
       "</div>"
      ],
      "text/plain": [
       "               country          Region Surface area (km2)  \\\n",
       "0          Afghanistan    SouthernAsia             652864   \n",
       "1              Albania  SouthernEurope              28748   \n",
       "2              Algeria  NorthernAfrica            2381741   \n",
       "3       American Samoa       Polynesia                199   \n",
       "4              Andorra  SouthernEurope                468   \n",
       "5               Angola    MiddleAfrica            1246700   \n",
       "6             Anguilla       Caribbean                 91   \n",
       "7  Antigua and Barbuda       Caribbean                442   \n",
       "8            Argentina    SouthAmerica            2780400   \n",
       "9              Armenia     WesternAsia              29743   \n",
       "\n",
       "   Population in thousands (2017)  Population density (per km2, 2017)  \\\n",
       "0                           35530                                54.4   \n",
       "1                            2930                               106.9   \n",
       "2                           41318                                17.3   \n",
       "3                              56                               278.2   \n",
       "4                              77                               163.8   \n",
       "5                           29784                                23.9   \n",
       "6                              15                               165.7   \n",
       "7                             102                               231.8   \n",
       "8                           44271                                16.2   \n",
       "9                            2930                               102.9   \n",
       "\n",
       "   Sex ratio (m per 100 f, 2017)  \\\n",
       "0                          106.3   \n",
       "1                          101.9   \n",
       "2                          102.0   \n",
       "3                          103.6   \n",
       "4                          102.3   \n",
       "5                           96.2   \n",
       "6                           97.6   \n",
       "7                           92.3   \n",
       "8                           95.9   \n",
       "9                           88.8   \n",
       "\n",
       "   GDP: Gross domestic product (million current US$)  \\\n",
       "0                                              20270   \n",
       "1                                              11541   \n",
       "2                                             164779   \n",
       "3                                                -99   \n",
       "4                                               2812   \n",
       "5                                             117955   \n",
       "6                                                320   \n",
       "7                                               1356   \n",
       "8                                             632343   \n",
       "9                                              10529   \n",
       "\n",
       "  GDP growth rate (annual %, const. 2005 prices)  \\\n",
       "0                                           -2.4   \n",
       "1                                            2.6   \n",
       "2                                            3.8   \n",
       "3                                            -99   \n",
       "4                                            0.8   \n",
       "5                                            3.0   \n",
       "6                                            2.9   \n",
       "7                                            4.1   \n",
       "8                                            2.4   \n",
       "9                                            3.0   \n",
       "\n",
       "   GDP per capita (current US$) Economy: Agriculture (% of GVA)  ...  \\\n",
       "0                         623.2                            23.3  ...   \n",
       "1                        3984.2                            22.4  ...   \n",
       "2                        4154.1                            12.2  ...   \n",
       "3                         -99.0                             -99  ...   \n",
       "4                       39896.4                             0.5  ...   \n",
       "5                        4714.1                             6.8  ...   \n",
       "6                       21879.6                             2.3  ...   \n",
       "7                       14764.5                             1.9  ...   \n",
       "8                       14564.5                             6.0  ...   \n",
       "9                        3489.1                            19.0  ...   \n",
       "\n",
       "   Mobile-cellular subscriptions (per 100 inhabitants).1  \\\n",
       "0                                                8.3       \n",
       "1                                               63.3       \n",
       "2                                               38.2       \n",
       "3                                                -99       \n",
       "4                                               96.9       \n",
       "5                                               12.4       \n",
       "6                                               76.0       \n",
       "7                                               65.2       \n",
       "8                                               69.4       \n",
       "9                                               58.2       \n",
       "\n",
       "   Individuals using the Internet (per 100 inhabitants)  \\\n",
       "0                                                 42      \n",
       "1                                                130      \n",
       "2                                                135      \n",
       "3                                                 92      \n",
       "4                                                 13      \n",
       "5                                                146      \n",
       "6                                                 52      \n",
       "7                                                 55      \n",
       "8                                                256      \n",
       "9                                                114      \n",
       "\n",
       "  Threatened species (number) Forested area (% of land area)  \\\n",
       "0                         2.1                        9.8/0.3   \n",
       "1                        28.2                        5.7/2.0   \n",
       "2                         0.8                      145.4/3.7   \n",
       "3                        87.9                            -99   \n",
       "4                        34.0                        0.5/6.4   \n",
       "5                        46.5                       34.8/1.4   \n",
       "6                        61.1                        0.1/9.8   \n",
       "7                        22.3                        0.5/5.8   \n",
       "8                        10.0                      204.0/4.7   \n",
       "9                        11.7                        5.5/1.8   \n",
       "\n",
       "  CO2 emission estimates (million tons/tons per capita)  \\\n",
       "0                                                 63      \n",
       "1                                                 84      \n",
       "2                                               5900      \n",
       "3                                                -99      \n",
       "4                                                  1      \n",
       "5                                               3902      \n",
       "6                                                  0      \n",
       "7                                                -99      \n",
       "8                                               3167      \n",
       "9                                                 48      \n",
       "\n",
       "  Energy production, primary (Petajoules)  \\\n",
       "0                                       5   \n",
       "1                                      36   \n",
       "2                                      55   \n",
       "3                                     -99   \n",
       "4                                     119   \n",
       "5                                      25   \n",
       "6                                     136   \n",
       "7                                      84   \n",
       "8                                      85   \n",
       "9                                      46   \n",
       "\n",
       "  Energy supply per capita (Gigajoules)  \\\n",
       "0                             78.2/47.0   \n",
       "1                             94.9/95.2   \n",
       "2                             84.3/81.8   \n",
       "3                           100.0/100.0   \n",
       "4                           100.0/100.0   \n",
       "5                             75.4/28.2   \n",
       "6                              94.6/...   \n",
       "7                             97.9/97.9   \n",
       "8                            99.0/100.0   \n",
       "9                           100.0/100.0   \n",
       "\n",
       "   Pop. using improved drinking water (urban/rural, %)  \\\n",
       "0                                          45.1/27.0     \n",
       "1                                          95.5/90.2     \n",
       "2                                          89.8/82.2     \n",
       "3                                          62.5/62.5     \n",
       "4                                        100.0/100.0     \n",
       "5                                          88.6/22.5     \n",
       "6                                           97.9/...     \n",
       "7                                          91.4/91.4     \n",
       "8                                          96.2/98.3     \n",
       "9                                          96.2/78.2     \n",
       "\n",
       "   Pop. using improved sanitation facilities (urban/rural, %)  \\\n",
       "0                                              21.43            \n",
       "1                                               2.96            \n",
       "2                                               0.05            \n",
       "3                                                -99            \n",
       "4                                                -99            \n",
       "5                                               0.42            \n",
       "6                                                -99            \n",
       "7                                               0.12            \n",
       "8                                               0.01            \n",
       "9                                               3.17            \n",
       "\n",
       "  Net Official Development Assist. received (% of GNI)  \n",
       "0                                                -99    \n",
       "1                                                -99    \n",
       "2                                                -99    \n",
       "3                                                -99    \n",
       "4                                                -99    \n",
       "5                                                -99    \n",
       "6                                                -99    \n",
       "7                                                -99    \n",
       "8                                                -99    \n",
       "9                                                -99    \n",
       "\n",
       "[10 rows x 50 columns]"
      ]
     },
     "execution_count": 3,
     "metadata": {},
     "output_type": "execute_result"
    }
   ],
   "source": [
    "data.head(10)"
   ]
  },
  {
   "cell_type": "code",
   "execution_count": 4,
   "id": "ed9e92a6",
   "metadata": {},
   "outputs": [
    {
     "data": {
      "text/plain": [
       "Index(['country', 'Region', 'Surface area (km2)',\n",
       "       'Population in thousands (2017)', 'Population density (per km2, 2017)',\n",
       "       'Sex ratio (m per 100 f, 2017)',\n",
       "       'GDP: Gross domestic product (million current US$)',\n",
       "       'GDP growth rate (annual %, const. 2005 prices)',\n",
       "       'GDP per capita (current US$)', 'Economy: Agriculture (% of GVA)',\n",
       "       'Economy: Industry (% of GVA)',\n",
       "       'Economy: Services and other activity (% of GVA)',\n",
       "       'Employment: Agriculture (% of employed)',\n",
       "       'Employment: Industry (% of employed)',\n",
       "       'Employment: Services (% of employed)',\n",
       "       'Unemployment (% of labour force)',\n",
       "       'Labour force participation (female/male pop. %)',\n",
       "       'Agricultural production index (2004-2006=100)',\n",
       "       'Food production index (2004-2006=100)',\n",
       "       'International trade: Exports (million US$)',\n",
       "       'International trade: Imports (million US$)',\n",
       "       'International trade: Balance (million US$)',\n",
       "       'Balance of payments, current account (million US$)',\n",
       "       'Population growth rate (average annual %)',\n",
       "       'Urban population (% of total population)',\n",
       "       'Urban population growth rate (average annual %)',\n",
       "       'Fertility rate, total (live births per woman)',\n",
       "       'Life expectancy at birth (females/males, years)',\n",
       "       'Population age distribution (0-14 / 60+ years, %)',\n",
       "       'International migrant stock (000/% of total pop.)',\n",
       "       'Refugees and others of concern to UNHCR (in thousands)',\n",
       "       'Infant mortality rate (per 1000 live births',\n",
       "       'Health: Total expenditure (% of GDP)',\n",
       "       'Health: Physicians (per 1000 pop.)',\n",
       "       'Education: Government expenditure (% of GDP)',\n",
       "       'Education: Primary gross enrol. ratio (f/m per 100 pop.)',\n",
       "       'Education: Secondary gross enrol. ratio (f/m per 100 pop.)',\n",
       "       'Education: Tertiary gross enrol. ratio (f/m per 100 pop.)',\n",
       "       'Seats held by women in national parliaments %',\n",
       "       'Mobile-cellular subscriptions (per 100 inhabitants)',\n",
       "       'Mobile-cellular subscriptions (per 100 inhabitants).1',\n",
       "       'Individuals using the Internet (per 100 inhabitants)',\n",
       "       'Threatened species (number)', 'Forested area (% of land area)',\n",
       "       'CO2 emission estimates (million tons/tons per capita)',\n",
       "       'Energy production, primary (Petajoules)',\n",
       "       'Energy supply per capita (Gigajoules)',\n",
       "       'Pop. using improved drinking water (urban/rural, %)',\n",
       "       'Pop. using improved sanitation facilities (urban/rural, %)',\n",
       "       'Net Official Development Assist. received (% of GNI)'],\n",
       "      dtype='object')"
      ]
     },
     "execution_count": 4,
     "metadata": {},
     "output_type": "execute_result"
    }
   ],
   "source": [
    "data.columns"
   ]
  },
  {
   "cell_type": "code",
   "execution_count": 5,
   "id": "80e6c323",
   "metadata": {},
   "outputs": [
    {
     "data": {
      "text/plain": [
       "(229, 50)"
      ]
     },
     "execution_count": 5,
     "metadata": {},
     "output_type": "execute_result"
    }
   ],
   "source": [
    "data.shape\n"
   ]
  },
  {
   "cell_type": "code",
   "execution_count": 6,
   "id": "94b4c768",
   "metadata": {},
   "outputs": [
    {
     "name": "stdout",
     "output_type": "stream",
     "text": [
      "<class 'pandas.core.frame.DataFrame'>\n",
      "RangeIndex: 229 entries, 0 to 228\n",
      "Data columns (total 50 columns):\n",
      " #   Column                                                      Non-Null Count  Dtype  \n",
      "---  ------                                                      --------------  -----  \n",
      " 0   country                                                     229 non-null    object \n",
      " 1   Region                                                      229 non-null    object \n",
      " 2   Surface area (km2)                                          229 non-null    object \n",
      " 3   Population in thousands (2017)                              229 non-null    int64  \n",
      " 4   Population density (per km2, 2017)                          229 non-null    float64\n",
      " 5   Sex ratio (m per 100 f, 2017)                               229 non-null    float64\n",
      " 6   GDP: Gross domestic product (million current US$)           229 non-null    int64  \n",
      " 7   GDP growth rate (annual %, const. 2005 prices)              229 non-null    object \n",
      " 8   GDP per capita (current US$)                                229 non-null    float64\n",
      " 9   Economy: Agriculture (% of GVA)                             229 non-null    object \n",
      " 10  Economy: Industry (% of GVA)                                229 non-null    float64\n",
      " 11  Economy: Services and other activity (% of GVA)             229 non-null    float64\n",
      " 12  Employment: Agriculture (% of employed)                     229 non-null    object \n",
      " 13  Employment: Industry (% of employed)                        229 non-null    object \n",
      " 14  Employment: Services (% of employed)                        229 non-null    object \n",
      " 15  Unemployment (% of labour force)                            229 non-null    object \n",
      " 16  Labour force participation (female/male pop. %)             229 non-null    object \n",
      " 17  Agricultural production index (2004-2006=100)               229 non-null    int64  \n",
      " 18  Food production index (2004-2006=100)                       229 non-null    int64  \n",
      " 19  International trade: Exports (million US$)                  229 non-null    object \n",
      " 20  International trade: Imports (million US$)                  229 non-null    object \n",
      " 21  International trade: Balance (million US$)                  229 non-null    object \n",
      " 22  Balance of payments, current account (million US$)          229 non-null    object \n",
      " 23  Population growth rate (average annual %)                   229 non-null    object \n",
      " 24  Urban population (% of total population)                    229 non-null    float64\n",
      " 25  Urban population growth rate (average annual %)             229 non-null    object \n",
      " 26  Fertility rate, total (live births per woman)               229 non-null    object \n",
      " 27  Life expectancy at birth (females/males, years)             229 non-null    object \n",
      " 28  Population age distribution (0-14 / 60+ years, %)           229 non-null    object \n",
      " 29  International migrant stock (000/% of total pop.)           229 non-null    object \n",
      " 30  Refugees and others of concern to UNHCR (in thousands)      229 non-null    object \n",
      " 31  Infant mortality rate (per 1000 live births                 229 non-null    object \n",
      " 32  Health: Total expenditure (% of GDP)                        229 non-null    float64\n",
      " 33  Health: Physicians (per 1000 pop.)                          229 non-null    object \n",
      " 34  Education: Government expenditure (% of GDP)                229 non-null    object \n",
      " 35  Education: Primary gross enrol. ratio (f/m per 100 pop.)    229 non-null    object \n",
      " 36  Education: Secondary gross enrol. ratio (f/m per 100 pop.)  229 non-null    object \n",
      " 37  Education: Tertiary gross enrol. ratio (f/m per 100 pop.)   229 non-null    object \n",
      " 38  Seats held by women in national parliaments %               229 non-null    float64\n",
      " 39  Mobile-cellular subscriptions (per 100 inhabitants)         229 non-null    object \n",
      " 40  Mobile-cellular subscriptions (per 100 inhabitants).1       229 non-null    object \n",
      " 41  Individuals using the Internet (per 100 inhabitants)        229 non-null    int64  \n",
      " 42  Threatened species (number)                                 229 non-null    object \n",
      " 43  Forested area (% of land area)                              229 non-null    object \n",
      " 44  CO2 emission estimates (million tons/tons per capita)       229 non-null    int64  \n",
      " 45  Energy production, primary (Petajoules)                     229 non-null    int64  \n",
      " 46  Energy supply per capita (Gigajoules)                       229 non-null    object \n",
      " 47  Pop. using improved drinking water (urban/rural, %)         229 non-null    object \n",
      " 48  Pop. using improved sanitation facilities (urban/rural, %)  229 non-null    object \n",
      " 49  Net Official Development Assist. received (% of GNI)        229 non-null    int64  \n",
      "dtypes: float64(8), int64(8), object(34)\n",
      "memory usage: 89.6+ KB\n"
     ]
    }
   ],
   "source": [
    "data.info()"
   ]
  },
  {
   "cell_type": "code",
   "execution_count": 7,
   "id": "52e2e166",
   "metadata": {},
   "outputs": [
    {
     "data": {
      "text/plain": [
       "country                                                       0\n",
       "Region                                                        0\n",
       "Surface area (km2)                                            0\n",
       "Population in thousands (2017)                                0\n",
       "Population density (per km2, 2017)                            0\n",
       "Sex ratio (m per 100 f, 2017)                                 0\n",
       "GDP: Gross domestic product (million current US$)             0\n",
       "GDP growth rate (annual %, const. 2005 prices)                0\n",
       "GDP per capita (current US$)                                  0\n",
       "Economy: Agriculture (% of GVA)                               0\n",
       "Economy: Industry (% of GVA)                                  0\n",
       "Economy: Services and other activity (% of GVA)               0\n",
       "Employment: Agriculture (% of employed)                       0\n",
       "Employment: Industry (% of employed)                          0\n",
       "Employment: Services (% of employed)                          0\n",
       "Unemployment (% of labour force)                              0\n",
       "Labour force participation (female/male pop. %)               0\n",
       "Agricultural production index (2004-2006=100)                 0\n",
       "Food production index (2004-2006=100)                         0\n",
       "International trade: Exports (million US$)                    0\n",
       "International trade: Imports (million US$)                    0\n",
       "International trade: Balance (million US$)                    0\n",
       "Balance of payments, current account (million US$)            0\n",
       "Population growth rate (average annual %)                     0\n",
       "Urban population (% of total population)                      0\n",
       "Urban population growth rate (average annual %)               0\n",
       "Fertility rate, total (live births per woman)                 0\n",
       "Life expectancy at birth (females/males, years)               0\n",
       "Population age distribution (0-14 / 60+ years, %)             0\n",
       "International migrant stock (000/% of total pop.)             0\n",
       "Refugees and others of concern to UNHCR (in thousands)        0\n",
       "Infant mortality rate (per 1000 live births                   0\n",
       "Health: Total expenditure (% of GDP)                          0\n",
       "Health: Physicians (per 1000 pop.)                            0\n",
       "Education: Government expenditure (% of GDP)                  0\n",
       "Education: Primary gross enrol. ratio (f/m per 100 pop.)      0\n",
       "Education: Secondary gross enrol. ratio (f/m per 100 pop.)    0\n",
       "Education: Tertiary gross enrol. ratio (f/m per 100 pop.)     0\n",
       "Seats held by women in national parliaments %                 0\n",
       "Mobile-cellular subscriptions (per 100 inhabitants)           0\n",
       "Mobile-cellular subscriptions (per 100 inhabitants).1         0\n",
       "Individuals using the Internet (per 100 inhabitants)          0\n",
       "Threatened species (number)                                   0\n",
       "Forested area (% of land area)                                0\n",
       "CO2 emission estimates (million tons/tons per capita)         0\n",
       "Energy production, primary (Petajoules)                       0\n",
       "Energy supply per capita (Gigajoules)                         0\n",
       "Pop. using improved drinking water (urban/rural, %)           0\n",
       "Pop. using improved sanitation facilities (urban/rural, %)    0\n",
       "Net Official Development Assist. received (% of GNI)          0\n",
       "dtype: int64"
      ]
     },
     "execution_count": 7,
     "metadata": {},
     "output_type": "execute_result"
    }
   ],
   "source": [
    "data.isnull().sum()"
   ]
  },
  {
   "cell_type": "code",
   "execution_count": 8,
   "id": "38d3c751",
   "metadata": {},
   "outputs": [
    {
     "data": {
      "text/plain": [
       "country                                                       0\n",
       "Region                                                        0\n",
       "Surface area (km2)                                            0\n",
       "Population in thousands (2017)                                0\n",
       "Population density (per km2, 2017)                            0\n",
       "Sex ratio (m per 100 f, 2017)                                 0\n",
       "GDP: Gross domestic product (million current US$)             0\n",
       "GDP growth rate (annual %, const. 2005 prices)                0\n",
       "GDP per capita (current US$)                                  0\n",
       "Economy: Agriculture (% of GVA)                               0\n",
       "Economy: Industry (% of GVA)                                  0\n",
       "Economy: Services and other activity (% of GVA)               0\n",
       "Employment: Agriculture (% of employed)                       0\n",
       "Employment: Industry (% of employed)                          0\n",
       "Employment: Services (% of employed)                          0\n",
       "Unemployment (% of labour force)                              0\n",
       "Labour force participation (female/male pop. %)               0\n",
       "Agricultural production index (2004-2006=100)                 0\n",
       "Food production index (2004-2006=100)                         0\n",
       "International trade: Exports (million US$)                    0\n",
       "International trade: Imports (million US$)                    0\n",
       "International trade: Balance (million US$)                    0\n",
       "Balance of payments, current account (million US$)            0\n",
       "Population growth rate (average annual %)                     0\n",
       "Urban population (% of total population)                      0\n",
       "Urban population growth rate (average annual %)               0\n",
       "Fertility rate, total (live births per woman)                 0\n",
       "Life expectancy at birth (females/males, years)               0\n",
       "Population age distribution (0-14 / 60+ years, %)             0\n",
       "International migrant stock (000/% of total pop.)             0\n",
       "Refugees and others of concern to UNHCR (in thousands)        0\n",
       "Infant mortality rate (per 1000 live births                   0\n",
       "Health: Total expenditure (% of GDP)                          0\n",
       "Health: Physicians (per 1000 pop.)                            0\n",
       "Education: Government expenditure (% of GDP)                  0\n",
       "Education: Primary gross enrol. ratio (f/m per 100 pop.)      0\n",
       "Education: Secondary gross enrol. ratio (f/m per 100 pop.)    0\n",
       "Education: Tertiary gross enrol. ratio (f/m per 100 pop.)     0\n",
       "Seats held by women in national parliaments %                 0\n",
       "Mobile-cellular subscriptions (per 100 inhabitants)           0\n",
       "Mobile-cellular subscriptions (per 100 inhabitants).1         0\n",
       "Individuals using the Internet (per 100 inhabitants)          0\n",
       "Threatened species (number)                                   0\n",
       "Forested area (% of land area)                                0\n",
       "CO2 emission estimates (million tons/tons per capita)         0\n",
       "Energy production, primary (Petajoules)                       0\n",
       "Energy supply per capita (Gigajoules)                         0\n",
       "Pop. using improved drinking water (urban/rural, %)           0\n",
       "Pop. using improved sanitation facilities (urban/rural, %)    0\n",
       "Net Official Development Assist. received (% of GNI)          0\n",
       "dtype: int64"
      ]
     },
     "execution_count": 8,
     "metadata": {},
     "output_type": "execute_result"
    }
   ],
   "source": [
    "data.isna().sum()"
   ]
  },
  {
   "attachments": {},
   "cell_type": "markdown",
   "id": "602d2c90",
   "metadata": {},
   "source": [
    "                Measure of central tendency"
   ]
  },
  {
   "cell_type": "code",
   "execution_count": 9,
   "id": "d1447dd9",
   "metadata": {},
   "outputs": [
    {
     "data": {
      "text/plain": [
       "32756.794759825327"
      ]
     },
     "execution_count": 9,
     "metadata": {},
     "output_type": "execute_result"
    }
   ],
   "source": [
    "data['Population in thousands (2017)'].mean()"
   ]
  },
  {
   "cell_type": "code",
   "execution_count": 11,
   "id": "d9c10d14",
   "metadata": {},
   "outputs": [
    {
     "data": {
      "text/plain": [
       "5448.0"
      ]
     },
     "execution_count": 11,
     "metadata": {},
     "output_type": "execute_result"
    }
   ],
   "source": [
    "data['Population in thousands (2017)'].median()"
   ]
  },
  {
   "cell_type": "code",
   "execution_count": 12,
   "id": "a0e4d91a",
   "metadata": {},
   "outputs": [
    {
     "data": {
      "text/plain": [
       "0        1\n",
       "1       11\n",
       "2       35\n",
       "3       55\n",
       "4       56\n",
       "5      105\n",
       "6      108\n",
       "7      276\n",
       "8      283\n",
       "9     2890\n",
       "10    2930\n",
       "Name: Population in thousands (2017), dtype: int64"
      ]
     },
     "execution_count": 12,
     "metadata": {},
     "output_type": "execute_result"
    }
   ],
   "source": [
    "data['Population in thousands (2017)'].mode()"
   ]
  },
  {
   "cell_type": "code",
   "execution_count": 13,
   "id": "3fa20382",
   "metadata": {},
   "outputs": [
    {
     "data": {
      "text/plain": [
       "2890     2\n",
       "55       2\n",
       "11       2\n",
       "56       2\n",
       "276      2\n",
       "        ..\n",
       "82114    1\n",
       "28834    1\n",
       "11160    1\n",
       "450      1\n",
       "16530    1\n",
       "Name: Population in thousands (2017), Length: 218, dtype: int64"
      ]
     },
     "execution_count": 13,
     "metadata": {},
     "output_type": "execute_result"
    }
   ],
   "source": [
    "data['Population in thousands (2017)'].value_counts()"
   ]
  },
  {
   "cell_type": "code",
   "execution_count": 14,
   "id": "c83e616b",
   "metadata": {},
   "outputs": [
    {
     "data": {
      "text/plain": [
       "0      35530\n",
       "1       2930\n",
       "2      41318\n",
       "3         56\n",
       "4         77\n",
       "       ...  \n",
       "224       12\n",
       "225      553\n",
       "226    28250\n",
       "227    17094\n",
       "228    16530\n",
       "Name: Population in thousands (2017), Length: 229, dtype: int64"
      ]
     },
     "execution_count": 14,
     "metadata": {},
     "output_type": "execute_result"
    }
   ],
   "source": [
    "data['Population in thousands (2017)']"
   ]
  },
  {
   "cell_type": "code",
   "execution_count": 15,
   "id": "0e4af62a",
   "metadata": {},
   "outputs": [],
   "source": [
    "#the mode() functions in pandas retunr the set of values that apper most often,\n",
    "#and can return multiple values as well."
   ]
  },
  {
   "cell_type": "code",
   "execution_count": 19,
   "id": "8e9886e4",
   "metadata": {},
   "outputs": [
    {
     "name": "stdout",
     "output_type": "stream",
     "text": [
      "the Minimum value of column is:1\n",
      "the Minimum value of column is:1\n"
     ]
    }
   ],
   "source": [
    "print('the Minimum value of column is:{}'.format(data[\"Population in thousands (2017)\"].min()))\n",
    "print('the Minimum value of column is:{}'.format(data['Population in thousands (2017)'].min()))\n"
   ]
  },
  {
   "cell_type": "code",
   "execution_count": 20,
   "id": "3770a9c2",
   "metadata": {},
   "outputs": [
    {
     "data": {
      "text/plain": [
       "1"
      ]
     },
     "execution_count": 20,
     "metadata": {},
     "output_type": "execute_result"
    }
   ],
   "source": [
    "data['Population in thousands (2017)'].min()"
   ]
  },
  {
   "cell_type": "code",
   "execution_count": 21,
   "id": "67159ca9",
   "metadata": {},
   "outputs": [
    {
     "data": {
      "text/plain": [
       "1409517"
      ]
     },
     "execution_count": 21,
     "metadata": {},
     "output_type": "execute_result"
    }
   ],
   "source": [
    "data['Population in thousands (2017)'].max()"
   ]
  },
  {
   "cell_type": "code",
   "execution_count": 22,
   "id": "1fb621fc",
   "metadata": {},
   "outputs": [
    {
     "data": {
      "text/plain": [
       "229"
      ]
     },
     "execution_count": 22,
     "metadata": {},
     "output_type": "execute_result"
    }
   ],
   "source": [
    "data['Population in thousands (2017)'].count()"
   ]
  },
  {
   "cell_type": "code",
   "execution_count": 23,
   "id": "83873829",
   "metadata": {},
   "outputs": [
    {
     "data": {
      "text/plain": [
       "218"
      ]
     },
     "execution_count": 23,
     "metadata": {},
     "output_type": "execute_result"
    }
   ],
   "source": [
    "data['Population in thousands (2017)'].nunique()"
   ]
  },
  {
   "cell_type": "code",
   "execution_count": 24,
   "id": "9dc8c237",
   "metadata": {},
   "outputs": [
    {
     "data": {
      "text/plain": [
       "11"
      ]
     },
     "execution_count": 24,
     "metadata": {},
     "output_type": "execute_result"
    }
   ],
   "source": [
    "data['Population in thousands (2017)'].duplicated().sum()"
   ]
  },
  {
   "attachments": {},
   "cell_type": "markdown",
   "id": "92334d30",
   "metadata": {},
   "source": [
    "                        Measure of variation"
   ]
  },
  {
   "cell_type": "code",
   "execution_count": 25,
   "id": "caa04b47",
   "metadata": {},
   "outputs": [
    {
     "data": {
      "text/plain": [
       "133275.07991351312"
      ]
     },
     "execution_count": 25,
     "metadata": {},
     "output_type": "execute_result"
    }
   ],
   "source": [
    "#standard deviation\n",
    "data['Population in thousands (2017)'].std()"
   ]
  },
  {
   "cell_type": "code",
   "execution_count": 26,
   "id": "95dbe47e",
   "metadata": {},
   "outputs": [
    {
     "data": {
      "text/plain": [
       "17762246925.953312"
      ]
     },
     "execution_count": 26,
     "metadata": {},
     "output_type": "execute_result"
    }
   ],
   "source": [
    "#Varince\n",
    "data['Population in thousands (2017)'].var()"
   ]
  },
  {
   "cell_type": "code",
   "execution_count": 27,
   "id": "8c1d9eb7",
   "metadata": {},
   "outputs": [],
   "source": [
    "# percentile 25,50,75\n",
    "\n",
    "import numpy as np\n",
    "\n",
    "sev = np.percentile(data['Population in thousands (2017)'],75)\n",
    "fif = np.percentile(data['Population in thousands (2017)'],50)\n",
    "twe = np.percentile(data['Population in thousands (2017)'],25)"
   ]
  },
  {
   "cell_type": "code",
   "execution_count": 28,
   "id": "4e2acd31",
   "metadata": {},
   "outputs": [
    {
     "name": "stdout",
     "output_type": "stream",
     "text": [
      "75th percentile is: 19193.0\n",
      "50th percentile is: 5448.0\n",
      "25th percentile is: 431.0\n"
     ]
    }
   ],
   "source": [
    "print(\"75th percentile is: {}\".format(sev))\n",
    "print(\"50th percentile is: {}\".format(fif))\n",
    "print(\"25th percentile is: {}\".format(twe))"
   ]
  },
  {
   "cell_type": "code",
   "execution_count": 29,
   "id": "ac9dc223",
   "metadata": {},
   "outputs": [
    {
     "name": "stdout",
     "output_type": "stream",
     "text": [
      "IQR value is 18762.0\n"
     ]
    }
   ],
   "source": [
    "#IQR range\n",
    "IQR = sev- twe\n",
    "print(\"IQR value is {}\".format(IQR))"
   ]
  },
  {
   "cell_type": "code",
   "execution_count": 30,
   "id": "d4441cc7",
   "metadata": {},
   "outputs": [
    {
     "name": "stdout",
     "output_type": "stream",
     "text": [
      "count    2.290000e+02\n",
      "mean     3.275679e+04\n",
      "std      1.332751e+05\n",
      "min      1.000000e+00\n",
      "25%      4.310000e+02\n",
      "50%      5.448000e+03\n",
      "75%      1.919300e+04\n",
      "max      1.409517e+06\n",
      "Name: Population in thousands (2017), dtype: float64\n"
     ]
    }
   ],
   "source": [
    "#or we can use the dexcribe() to do the all above calculations except few .\n",
    "\n",
    "print(data['Population in thousands (2017)'].describe())"
   ]
  },
  {
   "cell_type": "code",
   "execution_count": 31,
   "id": "00846e4c",
   "metadata": {},
   "outputs": [],
   "source": [
    "import matplotlib.pyplot as plt\n",
    "%matplotlib inline\n",
    "import seaborn as sns"
   ]
  },
  {
   "cell_type": "code",
   "execution_count": 32,
   "id": "f522e436",
   "metadata": {},
   "outputs": [
    {
     "data": {
      "text/plain": [
       "<seaborn.axisgrid.FacetGrid at 0x218ed463fd0>"
      ]
     },
     "execution_count": 32,
     "metadata": {},
     "output_type": "execute_result"
    },
    {
     "data": {
      "image/png": "[encoded data removed]",
      "text/plain": [
       "<Figure size 500x500 with 1 Axes>"
      ]
     },
     "metadata": {},
     "output_type": "display_data"
    }
   ],
   "source": [
    "sns.displot(data['Population in thousands (2017)'], kind = 'kde')\n"
   ]
  },
  {
   "cell_type": "code",
   "execution_count": 33,
   "id": "3b88a22f",
   "metadata": {},
   "outputs": [
    {
     "data": {
      "text/plain": [
       "2890     2\n",
       "55       2\n",
       "11       2\n",
       "56       2\n",
       "276      2\n",
       "        ..\n",
       "82114    1\n",
       "28834    1\n",
       "11160    1\n",
       "450      1\n",
       "16530    1\n",
       "Name: Population in thousands (2017), Length: 218, dtype: int64"
      ]
     },
     "execution_count": 33,
     "metadata": {},
     "output_type": "execute_result"
    }
   ],
   "source": [
    "data['Population in thousands (2017)'].value_counts()"
   ]
  },
  {
   "cell_type": "code",
   "execution_count": 34,
   "id": "4355c1f1",
   "metadata": {},
   "outputs": [
    {
     "data": {
      "text/plain": [
       "<seaborn.axisgrid.FacetGrid at 0x218ec572880>"
      ]
     },
     "execution_count": 34,
     "metadata": {},
     "output_type": "execute_result"
    },
    {
     "data": {
      "image/png": "[encoded data removed]",
      "text/plain": [
       "<Figure size 500x500 with 1 Axes>"
      ]
     },
     "metadata": {},
     "output_type": "display_data"
    }
   ],
   "source": [
    "sns.displot(data['Agricultural production index (2004-2006=100)'], kind='kde')"
   ]
  },
  {
   "cell_type": "code",
   "execution_count": 35,
   "id": "09a3a1f1",
   "metadata": {},
   "outputs": [
    {
     "data": {
      "text/plain": [
       "-99     18\n",
       " 102     8\n",
       " 111     7\n",
       " 112     7\n",
       " 103     6\n",
       "        ..\n",
       " 80      1\n",
       " 144     1\n",
       " 85      1\n",
       " 82      1\n",
       " 179     1\n",
       "Name: Agricultural production index (2004-2006=100), Length: 84, dtype: int64"
      ]
     },
     "execution_count": 35,
     "metadata": {},
     "output_type": "execute_result"
    }
   ],
   "source": [
    "data['Agricultural production index (2004-2006=100)'].value_counts()"
   ]
  },
  {
   "cell_type": "code",
   "execution_count": 36,
   "id": "222f3080",
   "metadata": {},
   "outputs": [
    {
     "data": {
      "text/plain": [
       "Index(['country', 'Region', 'Surface area (km2)',\n",
       "       'Population in thousands (2017)', 'Population density (per km2, 2017)',\n",
       "       'Sex ratio (m per 100 f, 2017)',\n",
       "       'GDP: Gross domestic product (million current US$)',\n",
       "       'GDP growth rate (annual %, const. 2005 prices)',\n",
       "       'GDP per capita (current US$)', 'Economy: Agriculture (% of GVA)',\n",
       "       'Economy: Industry (% of GVA)',\n",
       "       'Economy: Services and other activity (% of GVA)',\n",
       "       'Employment: Agriculture (% of employed)',\n",
       "       'Employment: Industry (% of employed)',\n",
       "       'Employment: Services (% of employed)',\n",
       "       'Unemployment (% of labour force)',\n",
       "       'Labour force participation (female/male pop. %)',\n",
       "       'Agricultural production index (2004-2006=100)',\n",
       "       'Food production index (2004-2006=100)',\n",
       "       'International trade: Exports (million US$)',\n",
       "       'International trade: Imports (million US$)',\n",
       "       'International trade: Balance (million US$)',\n",
       "       'Balance of payments, current account (million US$)',\n",
       "       'Population growth rate (average annual %)',\n",
       "       'Urban population (% of total population)',\n",
       "       'Urban population growth rate (average annual %)',\n",
       "       'Fertility rate, total (live births per woman)',\n",
       "       'Life expectancy at birth (females/males, years)',\n",
       "       'Population age distribution (0-14 / 60+ years, %)',\n",
       "       'International migrant stock (000/% of total pop.)',\n",
       "       'Refugees and others of concern to UNHCR (in thousands)',\n",
       "       'Infant mortality rate (per 1000 live births',\n",
       "       'Health: Total expenditure (% of GDP)',\n",
       "       'Health: Physicians (per 1000 pop.)',\n",
       "       'Education: Government expenditure (% of GDP)',\n",
       "       'Education: Primary gross enrol. ratio (f/m per 100 pop.)',\n",
       "       'Education: Secondary gross enrol. ratio (f/m per 100 pop.)',\n",
       "       'Education: Tertiary gross enrol. ratio (f/m per 100 pop.)',\n",
       "       'Seats held by women in national parliaments %',\n",
       "       'Mobile-cellular subscriptions (per 100 inhabitants)',\n",
       "       'Mobile-cellular subscriptions (per 100 inhabitants).1',\n",
       "       'Individuals using the Internet (per 100 inhabitants)',\n",
       "       'Threatened species (number)', 'Forested area (% of land area)',\n",
       "       'CO2 emission estimates (million tons/tons per capita)',\n",
       "       'Energy production, primary (Petajoules)',\n",
       "       'Energy supply per capita (Gigajoules)',\n",
       "       'Pop. using improved drinking water (urban/rural, %)',\n",
       "       'Pop. using improved sanitation facilities (urban/rural, %)',\n",
       "       'Net Official Development Assist. received (% of GNI)'],\n",
       "      dtype='object')"
      ]
     },
     "execution_count": 36,
     "metadata": {},
     "output_type": "execute_result"
    }
   ],
   "source": [
    "data.columns"
   ]
  },
  {
   "cell_type": "code",
   "execution_count": 37,
   "id": "afb658a5",
   "metadata": {},
   "outputs": [
    {
     "data": {
      "text/plain": [
       "<seaborn.axisgrid.FacetGrid at 0x218ea0fe250>"
      ]
     },
     "execution_count": 37,
     "metadata": {},
     "output_type": "execute_result"
    },
    {
     "data": {
      "image/png": "[encoded data removed]",
      "text/plain": [
       "<Figure size 500x500 with 1 Axes>"
      ]
     },
     "metadata": {},
     "output_type": "display_data"
    }
   ],
   "source": [
    "sns.displot(data['Sex ratio (m per 100 f, 2017)'], kind='kde')"
   ]
  },
  {
   "cell_type": "code",
   "execution_count": 38,
   "id": "a115522a",
   "metadata": {},
   "outputs": [
    {
     "data": {
      "text/plain": [
       "100.2    7\n",
       "98.2     5\n",
       "99.3     5\n",
       "99.0     5\n",
       "100.7    4\n",
       "        ..\n",
       "98.7     1\n",
       "102.5    1\n",
       "101.2    1\n",
       "101.4    1\n",
       "95.0     1\n",
       "Name: Sex ratio (m per 100 f, 2017), Length: 129, dtype: int64"
      ]
     },
     "execution_count": 38,
     "metadata": {},
     "output_type": "execute_result"
    }
   ],
   "source": [
    "data['Sex ratio (m per 100 f, 2017)'].value_counts()"
   ]
  },
  {
   "cell_type": "code",
   "execution_count": 39,
   "id": "5e8b8989",
   "metadata": {},
   "outputs": [
    {
     "data": {
      "text/plain": [
       "<seaborn.axisgrid.FacetGrid at 0x218f1c4ff40>"
      ]
     },
     "execution_count": 39,
     "metadata": {},
     "output_type": "execute_result"
    },
    {
     "data": {
      "image/png": "[encoded data removed]",
      "text/plain": [
       "<Figure size 500x500 with 1 Axes>"
      ]
     },
     "metadata": {},
     "output_type": "display_data"
    }
   ],
   "source": [
    "sns.displot(data['Seats held by women in national parliaments %'], kind='kde')"
   ]
  },
  {
   "cell_type": "code",
   "execution_count": 40,
   "id": "ed196f43",
   "metadata": {},
   "outputs": [
    {
     "data": {
      "text/plain": [
       "-99.0    37\n",
       " 16.0     5\n",
       " 0.0      4\n",
       " 20.0     3\n",
       " 26.7     3\n",
       "         ..\n",
       " 31.9     1\n",
       " 21.9     1\n",
       " 13.7     1\n",
       " 33.3     1\n",
       " 32.6     1\n",
       "Name: Seats held by women in national parliaments %, Length: 152, dtype: int64"
      ]
     },
     "execution_count": 40,
     "metadata": {},
     "output_type": "execute_result"
    }
   ],
   "source": [
    "data['Seats held by women in national parliaments %'].value_counts()"
   ]
  },
  {
   "cell_type": "code",
   "execution_count": 41,
   "id": "f982519a",
   "metadata": {},
   "outputs": [
    {
     "data": {
      "text/plain": [
       "<seaborn.axisgrid.FacetGrid at 0x218f2d0b970>"
      ]
     },
     "execution_count": 41,
     "metadata": {},
     "output_type": "execute_result"
    },
    {
     "data": {
      "image/png": "[encoded data removed]",
      "text/plain": [
       "<Figure size 500x500 with 1 Axes>"
      ]
     },
     "metadata": {},
     "output_type": "display_data"
    }
   ],
   "source": [
    "sns.displot(data['Urban population (% of total population)'], kind='kde')"
   ]
  },
  {
   "cell_type": "code",
   "execution_count": 42,
   "id": "53f63c33",
   "metadata": {},
   "outputs": [
    {
     "data": {
      "text/plain": [
       "<seaborn.axisgrid.FacetGrid at 0x218f2da9df0>"
      ]
     },
     "execution_count": 42,
     "metadata": {},
     "output_type": "execute_result"
    },
    {
     "data": {
      "image/png": "[encoded data removed]",
      "text/plain": [
       "<Figure size 500x500 with 1 Axes>"
      ]
     },
     "metadata": {},
     "output_type": "display_data"
    }
   ],
   "source": [
    "sns.displot(data['Health: Total expenditure (% of GDP)'], kind='kde')"
   ]
  },
  {
   "attachments": {},
   "cell_type": "markdown",
   "id": "8ab938ad",
   "metadata": {},
   "source": [
    "                            probability"
   ]
  },
  {
   "attachments": {},
   "cell_type": "markdown",
   "id": "8b4763a8",
   "metadata": {},
   "source": [
    "what is the probability that the population in thousands(2017) is more than 50,000 given that polulation density ( per km2, 2017) is 100.0 or more"
   ]
  },
  {
   "cell_type": "code",
   "execution_count": 43,
   "id": "cba3cae8",
   "metadata": {},
   "outputs": [],
   "source": [
    "data['population']= np.where(data['Population in thousands (2017)']>50000, 0,1)"
   ]
  },
  {
   "cell_type": "code",
   "execution_count": 44,
   "id": "91426dde",
   "metadata": {},
   "outputs": [],
   "source": [
    "data['density'] = np.where(data['Population density (per km2, 2017)'] >=100, 1,0)"
   ]
  },
  {
   "cell_type": "code",
   "execution_count": null,
   "id": "96ef085d",
   "metadata": {},
   "outputs": [],
   "source": []
  }
 ],
 "metadata": {
  "kernelspec": {
   "display_name": "Python 3 (ipykernel)",
   "language": "python",
   "name": "python3"
  },
  "language_info": {
   "codemirror_mode": {
    "name": "ipython",
    "version": 3
   },
   "file_extension": ".py",
   "mimetype": "text/x-python",
   "name": "python",
   "nbconvert_exporter": "python",
   "pygments_lexer": "ipython3",
   "version": "3.8.16"
  }
 },
 "nbformat": 4,
 "nbformat_minor": 5
}
