{
 "cells": [
  {
   "cell_type": "code",
   "execution_count": 1,
   "metadata": {},
   "outputs": [
    {
     "name": "stdout",
     "output_type": "stream",
     "text": [
      "b is greater than a.\n"
     ]
    }
   ],
   "source": [
    "# Assignment 1 – If-Else Statement\n",
    "\n",
    "# 1. Input the values of a and b as 10 and 20 respectively. Now check if a is\n",
    "# greater or b is greater using if condition. Think about all the edge cases,\n",
    "# and print the statements accordingly.\n",
    "\n",
    "\n",
    "a = 10\n",
    "b = 20\n",
    "\n",
    "if a>b:\n",
    "    print('a is greater than b.')\n",
    "elif a<b:\n",
    "    print(\"b is greater than a.\")\n",
    "else:\n",
    "    print(\"a and b are equal.\")\n"
   ]
  },
  {
   "cell_type": "code",
   "execution_count": 3,
   "metadata": {},
   "outputs": [
    {
     "name": "stdout",
     "output_type": "stream",
     "text": [
      "the greatest number among 1 and 2 and 3 is: 3\n"
     ]
    }
   ],
   "source": [
    "# Assignment 2 – Conditional Statements\n",
    "\n",
    "# 1. Take three user inputs and print the greatest number from those inputs\n",
    "# using if-else condition. Edge cases, if any, should also be handled.\n",
    "\n",
    "def find_greatest_number(a, b, c):\n",
    "    if a >b and a> c:\n",
    "        return a\n",
    "    elif b>a and b>c:\n",
    "        return b\n",
    "    else:\n",
    "        return c\n",
    "    \n",
    "try:\n",
    "    num1 = input('enter the first number :')\n",
    "    num2 = input('enter the second number :')\n",
    "    num3 = input('enter the third number :')\n",
    "\n",
    "    greatest_number = find_greatest_number(num1,num2,num3)\n",
    "\n",
    "    print(f\"the greatest number among {num1} and {num2} and {num3} is: {greatest_number}\")\n",
    "\n",
    "except ValueError:\n",
    "    print(\"Invalid input! please enter valid numbers.\")\n"
   ]
  },
  {
   "cell_type": "code",
   "execution_count": 4,
   "metadata": {},
   "outputs": [
    {
     "name": "stdout",
     "output_type": "stream",
     "text": [
      "0\n",
      "1\n",
      "2\n",
      "3\n",
      "4\n",
      "5\n",
      "6\n",
      "7\n",
      "8\n",
      "9\n",
      "10\n"
     ]
    }
   ],
   "source": [
    "# Assignment 3 – Loops\n",
    "# 1. Print the numbers from 1 to 10 using while loop.\n",
    "\n",
    "for i in range(0,11):\n",
    "    print(i)\n",
    "    "
   ]
  },
  {
   "cell_type": "code",
   "execution_count": 5,
   "metadata": {},
   "outputs": [
    {
     "name": "stdout",
     "output_type": "stream",
     "text": [
      "Even numbers in the list:\n",
      "10\n",
      "4\n",
      "26\n",
      "4\n",
      "24\n",
      "54\n"
     ]
    }
   ],
   "source": [
    "# Assignment 4 – Loops\n",
    "\n",
    "# 1. Create a list that has 10, 23, 4, 26, 4, 75, 24, 54 values and with the help\n",
    "# of while loop fetch the even numbers and print the numbers.\n",
    "\n",
    "l = [10,23,4,26,4,75,24,54]\n",
    "\n",
    "i = 0\n",
    "\n",
    "print(\"Even numbers in the list:\")\n",
    "while i < len(l):\n",
    "    if l[i] % 2 == 0:\n",
    "        print(l[i])\n",
    "    i += 1\n"
   ]
  },
  {
   "cell_type": "code",
   "execution_count": null,
   "metadata": {},
   "outputs": [],
   "source": []
  },
  {
   "cell_type": "code",
   "execution_count": null,
   "metadata": {},
   "outputs": [],
   "source": []
  }
 ],
 "metadata": {
  "kernelspec": {
   "display_name": "6.86x",
   "language": "python",
   "name": "python3"
  },
  "language_info": {
   "codemirror_mode": {
    "name": "ipython",
    "version": 3
   },
   "file_extension": ".py",
   "mimetype": "text/x-python",
   "name": "python",
   "nbconvert_exporter": "python",
   "pygments_lexer": "ipython3",
   "version": "3.8.16"
  },
  "orig_nbformat": 4
 },
 "nbformat": 4,
 "nbformat_minor": 2
}
