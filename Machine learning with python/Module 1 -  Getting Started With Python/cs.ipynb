{
 "cells": [
  {
   "cell_type": "markdown",
   "metadata": {},
   "source": [
    "Case Study 1 – Getting Started With Python"
   ]
  },
  {
   "cell_type": "code",
   "execution_count": 1,
   "metadata": {},
   "outputs": [
    {
     "name": "stdout",
     "output_type": "stream",
     "text": [
      "[1, 4, 9, 16, 25, 36, 49, 64, 81, 100]\n"
     ]
    }
   ],
   "source": [
    "# 1. Create a list containing squares of numbers from 1 to 10 (HINT: use List\n",
    "# Comprehension).\n",
    "\n",
    "# Task 1: Create a list containing squares of numbers from 1 to 10 (using List Comprehension)\n",
    "squares_list = [x**2 for x in range(1,11)]\n",
    "print(squares_list)"
   ]
  },
  {
   "cell_type": "code",
   "execution_count": 2,
   "metadata": {},
   "outputs": [],
   "source": [
    "# 2. Write a function to check if the year number is a leap year.\n",
    "\n",
    "# Task 2: Function to check if the year number is a leap year\n",
    "def is_leap_year(year):\n",
    "    if (year % 4 == 0 and year % 100 != 0) or (year % 400 == 0):\n",
    "        return True\n",
    "    return False"
   ]
  },
  {
   "cell_type": "code",
   "execution_count": 3,
   "metadata": {},
   "outputs": [
    {
     "name": "stdout",
     "output_type": "stream",
     "text": [
      "2004 is a leap year.\n"
     ]
    }
   ],
   "source": [
    "#task2\n",
    "\n",
    "year = int(input(\"enter a year for a task2: \"))\n",
    "if is_leap_year(year):\n",
    "    print(f\"{year} is a leap year.\")\n",
    "else:\n",
    "    print(f\"{year} is not a leap year\")\n"
   ]
  },
  {
   "cell_type": "code",
   "execution_count": 4,
   "metadata": {},
   "outputs": [],
   "source": [
    "# 3. Write a function to take an array and return another array that contains the\n",
    "# members of the first array that are even\n",
    "\n",
    "# Task 3: Function to return an array that contains even numbers from the input array\n",
    "def get_even_numbers(input_array):\n",
    "    return [num for num in input_array if num % 2 == 0]\n"
   ]
  },
  {
   "cell_type": "code",
   "execution_count": 5,
   "metadata": {},
   "outputs": [
    {
     "name": "stdout",
     "output_type": "stream",
     "text": [
      "Enter numbers in the array:  [2]\n"
     ]
    }
   ],
   "source": [
    "#task3\n",
    "n = int(input(\"enter the number of elements in the array for task3: \"))\n",
    "input_array = []\n",
    "for i in range(n):\n",
    "    num = int(input(f\"enter element {i+1}: \"))\n",
    "    input_array.append(num)\n",
    "\n",
    "get_even_numbers = get_even_numbers(input_array)\n",
    "print(\"Enter numbers in the array: \", get_even_numbers)\n"
   ]
  },
  {
   "cell_type": "code",
   "execution_count": 6,
   "metadata": {},
   "outputs": [],
   "source": [
    "# 4. Write a function that takes 2 arrays and prints the members of the first\n",
    "# array that are present in the second array. (HINT: use Membership\n",
    "# Comprehension)\n",
    "\n",
    "# Task 4: Function to print members of the first array that are present in the second array (using Membership Comprehension)\n",
    "def print_common_elements(array1, array2):\n",
    "    common_elements = [num for num in array1 if num in array2]\n",
    "    print(common_elements)\n"
   ]
  },
  {
   "cell_type": "code",
   "execution_count": 10,
   "metadata": {},
   "outputs": [
    {
     "name": "stdout",
     "output_type": "stream",
     "text": [
      "common elements in the first array: [2]\n"
     ]
    }
   ],
   "source": [
    "#task4\n",
    "\n",
    "n1 = int(input(\"enter the number of elements in the first array for the task4: \"))\n",
    "array1 = []\n",
    "for i in range(n1):\n",
    "    num = int(input(f\"enter element {i+1}: \"))\n",
    "    array1.append(num)\n",
    "\n",
    "n2 = int(input(\"enter the number of elements in the second array for task4: \"))\n",
    "array2 = []\n",
    "for i in range(n2):\n",
    "    num = int(input(f\"enter element {i+1}: \"))\n",
    "    array2.append(num)\n",
    "\n",
    "print(\"common elements in the first array:\", end=\" \")\n",
    "print_common_elements(array1,array2)\n"
   ]
  },
  {
   "cell_type": "markdown",
   "metadata": {},
   "source": [
    "Case Study 2 – Introduction To Python"
   ]
  },
  {
   "cell_type": "code",
   "execution_count": 13,
   "metadata": {},
   "outputs": [
    {
     "name": "stdout",
     "output_type": "stream",
     "text": [
      "Task 1:\n",
      "tuple 1 (10, 20, 30)\n",
      "tuple 2 (40, 50, 60)\n",
      "Concatenated tuple: (10, 20, 30, 40, 50, 60)\n",
      "Repeated tuple: (10, 20, 30, 40, 50, 60, 10, 20, 30, 40, 50, 60, 10, 20, 30, 40, 50, 60)\n",
      "Third element from 't_combine': 30\n",
      "First three elements from 't_combine': (10, 20, 30)\n",
      "Last three elements from 't_combine': (40, 50, 60)\n"
     ]
    }
   ],
   "source": [
    "# 1. Create 1st tuple with values -> (10, 20, 30), 2nd tuple with values -> (40,\n",
    "# 50, 60):\n",
    "# a. Concatenate the two tuples and store it in “t_combine”\n",
    "# b. Repeat the elements of “t_combine” 3 times\n",
    "# c. Access the 3rd element from “t_combine”\n",
    "# d. Access the first three elements from “t_combine”\n",
    "# e. Access the last three elements from “t_combine”\n",
    "\n",
    "\n",
    "#task 1\n",
    "t1=(10,20,30)\n",
    "t2=(40,50,60)\n",
    "print(\"Task 1:\")\n",
    "print(f\"tuple 1 {t1}\")\n",
    "print(f\"tuple 2 {t2}\")\n",
    "\n",
    "# a. Concatenate the two tuples and store it in \"t_combine\"\n",
    "t_combine = t1 + t2\n",
    "print(\"Concatenated tuple:\", t_combine)\n",
    "\n",
    "# b. Repeat the elements of \"t_combine\" 3 times\n",
    "t_combined_repeated = t_combine*3\n",
    "print(\"Repeated tuple:\", t_combined_repeated)\n",
    "\n",
    "# c. Access the 3rd element from \"t_combine\"\n",
    "third_element = t_combine[2]\n",
    "print(\"Third element from 't_combine':\", third_element)\n",
    "\n",
    "# d. Access the first three elements from \"t_combine\"\n",
    "first_three_elements = t_combine[:3]\n",
    "print(\"First three elements from 't_combine':\", first_three_elements)\n",
    "\n",
    "# e. Access the last three elements from \"t_combine\"\n",
    "last_three_elements = t_combine[-3:]\n",
    "print(\"Last three elements from 't_combine':\", last_three_elements)\n",
    "\n"
   ]
  },
  {
   "cell_type": "code",
   "execution_count": 15,
   "metadata": {},
   "outputs": [
    {
     "name": "stdout",
     "output_type": "stream",
     "text": [
      "Task 2:\n",
      "my_list: [(1, 2, 3), ('a', 'b', 'c'), (True, False)]\n"
     ]
    }
   ],
   "source": [
    "# 2. Create a list ‘my_list’ with these elements:\n",
    "# a. First element is a tuple with values 1, 2, 3\n",
    "# b. Second element is a tuple with values “a”, “b”, “c”\n",
    "# c. Third element is a tuple with values True, False\n",
    "\n",
    "# Task 2\n",
    "my_list = [(1, 2, 3), (\"a\", \"b\", \"c\"), (True, False)]\n",
    "print(\"Task 2:\")\n",
    "print(\"my_list:\", my_list)"
   ]
  },
  {
   "cell_type": "code",
   "execution_count": 18,
   "metadata": {},
   "outputs": [
    {
     "name": "stdout",
     "output_type": "stream",
     "text": [
      "\n",
      "Task 3:\n",
      "Updated my_list: [(1, 2, 3), ('a', 'b', 'c'), (True, False), (1, 'a', True), ['sparta', 123], (1, 'a', True), ['sparta', 123]]\n"
     ]
    }
   ],
   "source": [
    "# 3. Append a new tuple – (1, ‘a’, True) to ‘my_list’:\n",
    "# a. Append a new list – *“sparta”, 123+ to my_list\n",
    "\n",
    "# Task 3\n",
    "new_tuple = (1, \"a\", True)\n",
    "my_list.append(new_tuple)\n",
    "my_list.append([\"sparta\", 123])\n",
    "print(\"\\nTask 3:\")\n",
    "print(\"Updated my_list:\", my_list)"
   ]
  },
  {
   "cell_type": "code",
   "execution_count": 19,
   "metadata": {},
   "outputs": [
    {
     "name": "stdout",
     "output_type": "stream",
     "text": [
      "\n",
      "Task 4:\n",
      "Keys from 'fruit': dict_keys(['Fruit', 'Cost'])\n",
      "Values from 'fruit': dict_values([('Apple', 'Banana', 'Mango', 'Guava'), (85, 54, 120, 70)])\n"
     ]
    }
   ],
   "source": [
    "# 4. Create a dictionary ‘fruit’ where:\n",
    "# a. The first key is ‘Fruit’ and the values are (“Apple”, “Banana”, “Mango”,\n",
    "# “Guava”)\n",
    "# b. The second key is ‘Cost’ and the values are (85, 54, 120, 70)\n",
    "# c. Extract all the keys from ‘fruit’\n",
    "# d. Extract all the values from ‘fruit’\n",
    "\n",
    "# Task 4\n",
    "fruit = {\n",
    "    'Fruit': (\"Apple\", \"Banana\", \"Mango\", \"Guava\"),\n",
    "    'Cost': (85, 54, 120, 70)\n",
    "}\n",
    "keys = fruit.keys()\n",
    "values = fruit.values()\n",
    "\n",
    "print(\"\\nTask 4:\")\n",
    "print(\"Keys from 'fruit':\", keys)\n",
    "print(\"Values from 'fruit':\", values)\n"
   ]
  },
  {
   "cell_type": "code",
   "execution_count": 21,
   "metadata": {},
   "outputs": [
    {
     "name": "stdout",
     "output_type": "stream",
     "text": [
      "Task 5:\n",
      "my_set: {1, 'a'}\n"
     ]
    }
   ],
   "source": [
    "# 5. Create a set named ‘my_set’ with values (1, 1, “a”, “a”, True, True) and\n",
    "# print the result.\n",
    "\n",
    "\n",
    "# Task 5\n",
    "my_set = {1, 1, \"a\", \"a\", True, True}\n",
    "print(\"Task 5:\")\n",
    "print(\"my_set:\", my_set)"
   ]
  },
  {
   "cell_type": "code",
   "execution_count": null,
   "metadata": {},
   "outputs": [],
   "source": []
  }
 ],
 "metadata": {
  "kernelspec": {
   "display_name": "6.86x",
   "language": "python",
   "name": "python3"
  },
  "language_info": {
   "codemirror_mode": {
    "name": "ipython",
    "version": 3
   },
   "file_extension": ".py",
   "mimetype": "text/x-python",
   "name": "python",
   "nbconvert_exporter": "python",
   "pygments_lexer": "ipython3",
   "version": "3.8.16"
  },
  "orig_nbformat": 4
 },
 "nbformat": 4,
 "nbformat_minor": 2
}
