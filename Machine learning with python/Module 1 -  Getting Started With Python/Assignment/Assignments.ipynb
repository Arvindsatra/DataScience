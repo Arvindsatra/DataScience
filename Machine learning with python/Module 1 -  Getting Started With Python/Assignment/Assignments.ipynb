{
 "cells": [
  {
   "cell_type": "code",
   "execution_count": 1,
   "id": "18ead619",
   "metadata": {},
   "outputs": [
    {
     "name": "stdout",
     "output_type": "stream",
     "text": [
      "b is geater than a\n"
     ]
    }
   ],
   "source": [
    "#If-Else Assignment\n",
    "\n",
    "#Input the values of a and b as 10 and 20 respectively. Now check if a is greater or b is greater using if condition.\n",
    "#Think about all the edge cases, and print the statements accordingly.\n",
    "\n",
    "a=10\n",
    "b=20\n",
    "\n",
    "if a>b :\n",
    "    print(\"A is greater than b\")\n",
    "else :\n",
    "    print(\"b is geater than a\")"
   ]
  },
  {
   "cell_type": "code",
   "execution_count": 2,
   "id": "d9439202",
   "metadata": {},
   "outputs": [
    {
     "name": "stdout",
     "output_type": "stream",
     "text": [
      "First number: 20\n",
      "second number: 30\n",
      "Third number: 40\n",
      "third number is greatest\n"
     ]
    }
   ],
   "source": [
    "#Conditional Statements Assignment\n",
    "\n",
    "#Take three user inputs and print the greatest number from those inputs using if-else condition.\n",
    "#Edge cases if any, should also be handled.\n",
    "\n",
    "a=float(input(\"First number: \"))\n",
    "b=float(input(\"second number: \"))\n",
    "c=float(input(\"Third number: \"))\n",
    "\n",
    "if a>b and a>c:\n",
    "              print(\"First number is greatest\")\n",
    "elif b>c:\n",
    "              print(\"second number is greatest\")\n",
    "else :\n",
    "              print(\"third number is greatest\")"
   ]
  },
  {
   "cell_type": "code",
   "execution_count": 6,
   "id": "bc7a7729",
   "metadata": {},
   "outputs": [
    {
     "name": "stdout",
     "output_type": "stream",
     "text": [
      "1 2 3 4 5 6 7 8 9 10 "
     ]
    }
   ],
   "source": [
    "#Loops Assignment\n",
    "\n",
    "#. Print the numbers from 1 to 10 using while loop.\n",
    "\n",
    "a=1\n",
    "\n",
    "while a < 11 :\n",
    "    print(a, end=\" \")\n",
    "    a+=1"
   ]
  },
  {
   "cell_type": "code",
   "execution_count": 7,
   "id": "2b165ccf",
   "metadata": {},
   "outputs": [
    {
     "name": "stdout",
     "output_type": "stream",
     "text": [
      "10 4 26 4 24 54 "
     ]
    }
   ],
   "source": [
    "#Loops Assignment - 2\n",
    "\n",
    "#Create a list that is having 10,23,4,26,4,75,24,54 values and with the help of while loop,\n",
    "#fetch the even numbers and print the numbers\n",
    "\n",
    "l1=[10,23,4,26,4,75,24,54]\n",
    "\n",
    "a=0\n",
    "\n",
    "while a<len(l1):\n",
    "    if l1[a]%2==0:\n",
    "        print(l1[a], end=\" \")\n",
    "    a+=1\n"
   ]
  },
  {
   "cell_type": "code",
   "execution_count": 8,
   "id": "045ffd9f",
   "metadata": {},
   "outputs": [
    {
     "name": "stdout",
     "output_type": "stream",
     "text": [
      "please enter the number: 11\n",
      "prime number\n"
     ]
    }
   ],
   "source": [
    "#Assignment 3\n",
    "\n",
    "#Create an array that is having user defined inputs and with the help of for loop, \n",
    "#fetch all the prime numbers and print the numbers.\n",
    "\n",
    "n=int(input(\"please enter the number: \"))\n",
    "\n",
    "if n>1:\n",
    "    for i in range(2,n):\n",
    "        if n%i==0:\n",
    "            print(\"not a prime number\")\n",
    "            break\n",
    "        else:\n",
    "            print(\"prime number\")\n",
    "            break\n",
    "    "
   ]
  },
  {
   "cell_type": "code",
   "execution_count": 9,
   "id": "2f9add43",
   "metadata": {},
   "outputs": [
    {
     "data": {
      "text/plain": [
       "[1, 4, 9, 16, 25, 36, 49, 64, 81, 100]"
      ]
     },
     "execution_count": 9,
     "metadata": {},
     "output_type": "execute_result"
    }
   ],
   "source": [
    "#Module 1: Introduction to Python Assignment - 1\n",
    "\n",
    "#Create a list containing squares of numbers from 1 to 10 (HINT: use List Comprehension).\n",
    "\n",
    "[i**2 for i in range(1,11)]"
   ]
  },
  {
   "cell_type": "code",
   "execution_count": 10,
   "id": "aa907bec",
   "metadata": {},
   "outputs": [
    {
     "name": "stdout",
     "output_type": "stream",
     "text": [
      "please enter the year:2012\n",
      "leap year\n"
     ]
    }
   ],
   "source": [
    "#Write a Function to check if year number is a leap year.\n",
    "\n",
    "year=(int(input(\"please enter the year:\")))\n",
    "\n",
    "if (year % 4 == 0) :\n",
    "    print(\"leap year\")\n",
    "else:\n",
    "    print(\"not a leap year\")"
   ]
  },
  {
   "cell_type": "code",
   "execution_count": 2,
   "id": "bdfd364d",
   "metadata": {},
   "outputs": [
    {
     "name": "stdout",
     "output_type": "stream",
     "text": [
      "[2, 4, 6, 8, 10]\n"
     ]
    }
   ],
   "source": [
    "#Write a Function to take an array and return another array that contains the members of first array that are even.\n",
    "\n",
    "def get_even_numbers(arr):\n",
    "    even_numbers = [num for num in arr if num % 2 == 0]\n",
    "    return even_numbers\n",
    "\n",
    "numbers = [1, 2, 3, 4, 5, 6, 7, 8, 9, 10]\n",
    "result = get_even_numbers(numbers)\n",
    "print(result)\n"
   ]
  },
  {
   "cell_type": "code",
   "execution_count": 1,
   "id": "d264cfc9",
   "metadata": {},
   "outputs": [
    {
     "name": "stdout",
     "output_type": "stream",
     "text": [
      "3\n",
      "5\n"
     ]
    }
   ],
   "source": [
    "#Write a Function that takes 2 arrays and prints the members of first array that are present of second array.\n",
    "#(HINT: use Membership Comprehension\n",
    "\n",
    "def print_common_elements(arr1, arr2):\n",
    "    common_elements = [num for num in arr1 if num in arr2]\n",
    "    for element in common_elements:\n",
    "        print(element)\n",
    "\n",
    "array1 = [1, 2, 3, 4, 5]\n",
    "array2 = [3, 5, 7, 9]\n",
    "print_common_elements(array1, array2)\n"
   ]
  },
  {
   "cell_type": "code",
   "execution_count": 14,
   "id": "e5b09d18",
   "metadata": {},
   "outputs": [
    {
     "name": "stdout",
     "output_type": "stream",
     "text": [
      "(10, 20, 30, 40, 50, 60)\n",
      "(10, 20, 30, 40, 50, 60, 10, 20, 30, 40, 50, 60, 10, 20, 30, 40, 50, 60)\n"
     ]
    },
    {
     "data": {
      "text/plain": [
       "(40, 50, 60)"
      ]
     },
     "execution_count": 14,
     "metadata": {},
     "output_type": "execute_result"
    }
   ],
   "source": [
    "#1. Create 1st tuple with values -> (10,20,30), 2nd tuple with values -> (40,50,60). \n",
    "#a. Concatenate the two tuples and store it in “t_combine”\n",
    "#b. Repeat the elements of “t_combine” 3 times \n",
    "#c. Access the 3rd element from “t_combine”\n",
    "#d. Access the first three elements from “t_combine”\n",
    "#e. Access the last three elements from “t_combine”\n",
    "\n",
    "#1. Create 1st tuple with values -> (10,20,30), 2nd tuple with values -> (40,50,60). \n",
    "\n",
    "t1=(10,20,30)\n",
    "t2=(40,50,60)\n",
    "\n",
    "#a. Concatenate the two tuples and store it in “t_combine”\n",
    "\n",
    "t_combine= t1 + t2\n",
    "print(t_combine)\n",
    "\n",
    "#Repeat the elements of “t_combine” 3 times ”\n",
    "\n",
    "print(t_combine*3)\n",
    "\n",
    "#c. Access the 3rd element from “t_combine”\n",
    "\n",
    "t_combine[2]\n",
    "\n",
    "#d. Access the first three elements from “t_combine”\n",
    "\n",
    "t_combine[:3]\n",
    "\n",
    "#e. Access the last three elements from “t_combine”\n",
    "\n",
    "t_combine[-3:]"
   ]
  },
  {
   "cell_type": "code",
   "execution_count": 15,
   "id": "6788b625",
   "metadata": {},
   "outputs": [
    {
     "name": "stdout",
     "output_type": "stream",
     "text": [
      "[(1, 2, 3), ('a', 'b', 'c'), (True, False), (1, 'a', True), ['sparta', 123]]\n"
     ]
    }
   ],
   "source": [
    "#2. Create a list ‘my_list’ with these elements: \n",
    "#a. First element is a tuple with values 1,2,3 \n",
    "#b. Second element is a tuple with values “a”,”b”,”c”\n",
    "#c. Third element is a tuple with values True,False \n",
    "\n",
    "my_list=[(1,2,3), (\"a\",\"b\",\"c\"), (True, False)]\n",
    "\n",
    "#3. Append a new tuple – (1,’a’,True) to ‘my_list’\n",
    "\n",
    "my_list.append((1,\"a\",True))\n",
    "\n",
    "#a. Append a new list – *“sparta”,123 to my_list\n",
    "\n",
    "my_list.append([\"sparta\", 123])\n",
    "\n",
    "print(my_list)\n",
    "\n"
   ]
  },
  {
   "cell_type": "code",
   "execution_count": 18,
   "id": "a303222a",
   "metadata": {},
   "outputs": [
    {
     "data": {
      "text/plain": [
       "dict_values([['Apple', 'Banana', 'Mango', 'Guava'], [85, 54, 120, 70]])"
      ]
     },
     "execution_count": 18,
     "metadata": {},
     "output_type": "execute_result"
    }
   ],
   "source": [
    "#4. Create a dictionary ‘fruit’ where: \n",
    "#a. The first key is ‘Fruit’ and the values are (“Apple”,”Banana”,”Mango”,”Guava”)\n",
    "#b. The second key is ‘Cost’ and the values are (85,54,120,70) \n",
    "\n",
    "fruit = {\"Fruti\":[\"Apple\",\"Banana\",\"Mango\",\"Guava\"],\"Cost\":[85,54,120,70]}\n",
    "\n",
    "#c. Extract all the keys from ‘fruit’\n",
    "\n",
    "fruit.keys()\n",
    "\n",
    "#d. Extract all the values from ‘fruit’\n",
    "\n",
    "fruit.values()"
   ]
  },
  {
   "cell_type": "code",
   "execution_count": 19,
   "id": "24dde7bd",
   "metadata": {},
   "outputs": [
    {
     "name": "stdout",
     "output_type": "stream",
     "text": [
      "{1, 'a'}\n"
     ]
    }
   ],
   "source": [
    "#5. Crete a set named ‘my_set’ with values (1,1,”a”,”a”,True,True) and print the result\n",
    "\n",
    "my_set={1,1,\"a\",\"a\",True,True}\n",
    "print(my_set)"
   ]
  },
  {
   "cell_type": "code",
   "execution_count": null,
   "id": "694c54de",
   "metadata": {},
   "outputs": [],
   "source": []
  }
 ],
 "metadata": {
  "kernelspec": {
   "display_name": "Python 3 (ipykernel)",
   "language": "python",
   "name": "python3"
  },
  "language_info": {
   "codemirror_mode": {
    "name": "ipython",
    "version": 3
   },
   "file_extension": ".py",
   "mimetype": "text/x-python",
   "name": "python",
   "nbconvert_exporter": "python",
   "pygments_lexer": "ipython3",
   "version": "3.8.16"
  }
 },
 "nbformat": 4,
 "nbformat_minor": 5
}
