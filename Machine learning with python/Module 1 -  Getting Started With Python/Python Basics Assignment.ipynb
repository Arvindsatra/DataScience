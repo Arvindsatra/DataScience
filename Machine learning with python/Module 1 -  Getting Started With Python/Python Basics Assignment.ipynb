{
 "cells": [
  {
   "cell_type": "code",
   "execution_count": 11,
   "id": "5ae4c57f",
   "metadata": {},
   "outputs": [],
   "source": [
    "# Q1. Using Python script as a calculator\n",
    "# Create the variables n, r, p and assign them values 10, 5, and 100 respectively. Then\n",
    "# evaluate the following expression in the Python console.\n",
    "# 𝐴 = 𝑝 (1 + 𝑟/ 100)n\n",
    "# a. 100\n",
    "# b. 162.89\n",
    "# c. 189\n",
    "# d. None of the above\n",
    "\n",
    "n=10\n",
    "r=5\n",
    "p=100\n",
    "\n",
    "A=(1 + r/ 100)*n*p\n",
    "\n",
    "# answer - d.None of the above"
   ]
  },
  {
   "cell_type": "code",
   "execution_count": 12,
   "id": "0ea86504",
   "metadata": {},
   "outputs": [],
   "source": [
    "# Q2. In a given string format operation, how will you print the given string.\n",
    "# A = 10\n",
    "# B = 20\n",
    "# Str = \"There are {} students in the class, with {} who play at least one sport.\"\n",
    "# a. print(string.format(a,b))\n",
    "# b. print(string+a+b)\n",
    "# c. print(string.format(b,a))\n",
    "# d. None of the above\n",
    "\n",
    "# Answer - c. print(string.format(b,a))"
   ]
  },
  {
   "cell_type": "code",
   "execution_count": 13,
   "id": "8298a21a",
   "metadata": {},
   "outputs": [],
   "source": [
    "# Q3. In a given sample string, How do you print a double quoted string in between a\n",
    "# regular\n",
    "# string using the escape character?\n",
    "# Sample output = It goes without saying, “Time is Money”, and none can deny it.\n",
    "# a. print(“It goes without saying, \\“Time is Money\\”, and none can deny it.”)\n",
    "# b. print(“It goes without saying, \\Time is Money\\, and none can deny it.”)\n",
    "# c. print(“It goes without saying” + “Time is Money” + “and none can deny it.”)\n",
    "# d. None of the above.\n",
    "\n",
    "\n",
    "# Answer -  d. None of the above."
   ]
  },
  {
   "cell_type": "code",
   "execution_count": 14,
   "id": "2a09b569",
   "metadata": {},
   "outputs": [],
   "source": [
    "# Q4. What will be the output of the following code?\n",
    "# x = lambda a,b: a//b\n",
    "# x(10,3)\n",
    "# a. 3.3333333333\n",
    "# b. 3\n",
    "# c. 30\n",
    "# d. 1000\n",
    "\n",
    "# Answer - b. 3"
   ]
  },
  {
   "cell_type": "code",
   "execution_count": null,
   "id": "043ae69c",
   "metadata": {},
   "outputs": [],
   "source": [
    "# Q5. What will be the output of the following code?\n",
    "# A = 10\n",
    "# B = 12\n",
    "# print(\"Smaller\") if A == B else print(\"Greater\") if A < B else print(\"True\")\n",
    "# a. True\n",
    "# b. Smaller\n",
    "# c. Greater\n",
    "# d. None of the above\n",
    "\n",
    "\n",
    "# Answer - c.Greater"
   ]
  },
  {
   "cell_type": "code",
   "execution_count": 15,
   "id": "353487bc",
   "metadata": {},
   "outputs": [],
   "source": [
    "# Q6. What will be the output of the following code?\n",
    "# a. [2 7 3 5 4 6]\n",
    "# b. TypeError\n",
    "# c. NameError: name 'numpy' is not defined\n",
    "# d. None of the above\n",
    "\n",
    "\n",
    "# Answer - a. [2 7 3 5 4 6]"
   ]
  },
  {
   "cell_type": "code",
   "execution_count": 16,
   "id": "5bb904da",
   "metadata": {},
   "outputs": [],
   "source": [
    "# Q7. Create a string called ‘string’ with the value as “Machine Learning”. Which code(s)\n",
    "# is/are appropriate to slice the substring “Learn”?\n",
    "# a. string[slice(13,8,1)]\n",
    "# b. string[slice(1,8,1)]\n",
    "# c. string[8:14]\n",
    "# d. string[slice(8,13,1)]\n",
    "\n",
    "# Answer - d. string[slice(8,13,1)]"
   ]
  },
  {
   "cell_type": "code",
   "execution_count": 17,
   "id": "36fdf49f",
   "metadata": {},
   "outputs": [],
   "source": [
    "# Q8. Create a sequence of numbers from 10 to 25 and increment by 4. What is the index\n",
    "# of the\n",
    "# value 18?\n",
    "# a. 3\n",
    "# b. 2\n",
    "# c. 0\n",
    "# d. 1\n",
    "\n",
    "\n",
    "# Answer - b. 2\n"
   ]
  },
  {
   "cell_type": "code",
   "execution_count": 19,
   "id": "e02b51c1",
   "metadata": {},
   "outputs": [],
   "source": [
    "# Q9. Which of the following is true with respect to the below codes?\n",
    "# a. num1 = num2\n",
    "# b. num1 ≠ num2\n",
    "# c. num1 < num2\n",
    "# d. num1 > num2\n",
    "\n",
    "# Answer - a. num1 = num2"
   ]
  },
  {
   "cell_type": "code",
   "execution_count": 20,
   "id": "f8a40b2f",
   "metadata": {},
   "outputs": [],
   "source": [
    "# Q10.A Python NameError exception is raised when: -\n",
    "# a. Trying to access a variable which has not been defined\n",
    "# b. Trying to access a key in a dictionary that does not exist\n",
    "# c. Accessing a column with misspelled column name\n",
    "# d. Accessing the function from a module that has not been imported\n",
    "\n",
    "# Answer- a.Trying to access a variable which has not been defined"
   ]
  },
  {
   "cell_type": "code",
   "execution_count": 21,
   "id": "f94a2091",
   "metadata": {},
   "outputs": [],
   "source": [
    "# Q11.What type of exception will be raised for the code given below?\n",
    "# a. NameError\n",
    "# b. KeyError\n",
    "# c. ValueError\n",
    "# d. AttributeError\n",
    "\n",
    "# Answer- c. ValueError\n"
   ]
  },
  {
   "cell_type": "code",
   "execution_count": 22,
   "id": "ddea4709",
   "metadata": {},
   "outputs": [],
   "source": [
    "# Q12.A FileNotFoundError exception is raised by operating system errors when: -\n",
    "# a. Trying to create a file or directory which already exists\n",
    "# b. A file or directory is requested but does not exist in the working directory\n",
    "# c. Trying to run an operation without the adequate access rights\n",
    "# d. A directory operation, os.listdir() is requested on something which is not a\n",
    "# directory\n",
    "\n",
    "\n",
    "# Answer- b. A file or directory is requested but does not exist in the working directory"
   ]
  },
  {
   "cell_type": "code",
   "execution_count": 24,
   "id": "0b32e552",
   "metadata": {},
   "outputs": [],
   "source": [
    "# Q13.Consider a variable Z. The value of Z is \"ID-5632\". Data type of Z is: -\n",
    "# a. Complex\n",
    "# b. Character\n",
    "# c. Integer\n",
    "# d. Boolean\n",
    "\n",
    "# Answer- b Character"
   ]
  },
  {
   "cell_type": "code",
   "execution_count": 25,
   "id": "3eb60a39",
   "metadata": {},
   "outputs": [],
   "source": [
    "# Q14.Which of the following variable(s) are character data type?\n",
    "# a. K= “4”\n",
    "# b. J= “Welcome”\n",
    "# c. L= “?”\n",
    "# d. All of the above\n",
    "\n",
    "# Answer- d. All of the above"
   ]
  },
  {
   "cell_type": "code",
   "execution_count": 27,
   "id": "9c0b0020",
   "metadata": {},
   "outputs": [],
   "source": [
    "# Q15.Choose the symbol/s that does not have the ability to convert any values to string?\n",
    "# a. ( )\n",
    "# b. “ ”\n",
    "# c. {}\n",
    "# d. #\n",
    "\n",
    "# Answer- a. ( ), c. {}, d. #"
   ]
  },
  {
   "cell_type": "code",
   "execution_count": 31,
   "id": "957fb845",
   "metadata": {},
   "outputs": [
    {
     "name": "stdout",
     "output_type": "stream",
     "text": [
      "{'india': 'Delhi', 'China': 'Beijing', 'Japan': 'Tokyo', 'Qatar': 'Doha', 'France': 'paris'}\n"
     ]
    }
   ],
   "source": [
    "# Q16.Create a dictionary ‘Country’ that maps the following countries to their capitals\n",
    "# respectively:\n",
    "# Country India China Japan Qatar France\n",
    "# State Delhi Beijing Tokyo Doha Marseilles\n",
    "# Find 2 commands to replace “Marseilles” with “Paris” is:\n",
    "\n",
    "Country = {\"india\":\"Delhi\", \"China\":\"Beijing\", \"Japan\":\"Tokyo\", \"Qatar\":\"Doha\", \"France\":\"Marseilles\"}\n",
    "\n",
    "Country[\"France\"]= \"paris\"\n",
    "\n",
    "print(Country)"
   ]
  },
  {
   "cell_type": "code",
   "execution_count": 33,
   "id": "04d69203",
   "metadata": {},
   "outputs": [],
   "source": [
    "# Q17. Create the tuples given below\n",
    "# tuple_1 = (1,5,6,7,8)\n",
    "# tuple_2 = (8,9,4)\n",
    "# Identify which of the following code does not work on a tuple.\n",
    "# a. sum(tuple_1)\n",
    "# b. len(tuple_2)\n",
    "# c. tuple_2 + tuple_1\n",
    "# d. tuple_1[3] = 45\n",
    "\n",
    "# Answer-d. tuple_1[3] = 45\n",
    "\n"
   ]
  },
  {
   "cell_type": "code",
   "execution_count": 34,
   "id": "e131a2eb",
   "metadata": {},
   "outputs": [],
   "source": [
    "# Q18. How many elements in the following data structure\n",
    "# s={1,2,3,4,4,4,5,6}\n",
    "\n",
    "# Answer - 6 elements"
   ]
  },
  {
   "cell_type": "code",
   "execution_count": 1,
   "id": "a17bb450",
   "metadata": {},
   "outputs": [
    {
     "name": "stdout",
     "output_type": "stream",
     "text": [
      "[(3, 4, 5), (6, 8, 10)]\n"
     ]
    }
   ],
   "source": [
    "# Q19.Write a function which finds all pythagorean triplets of triangles whose sides are no\n",
    "# greater than a natural number N\n",
    "\n",
    "def find_pythagorean_triplets(N):\n",
    "    triplets = []\n",
    "    for a in range(1, N+1):\n",
    "        for b in range(a, N+1):\n",
    "            c_square = a**2 + b**2\n",
    "            c = int(c_square**0.5)\n",
    "            if c_square == c**2 and c <= N:\n",
    "                triplets.append((a, b, c))\n",
    "    return triplets\n",
    "\n",
    "N = 10\n",
    "result = find_pythagorean_triplets(N)\n",
    "print(result)\n"
   ]
  },
  {
   "cell_type": "code",
   "execution_count": null,
   "id": "d4352ea0",
   "metadata": {},
   "outputs": [],
   "source": []
  }
 ],
 "metadata": {
  "kernelspec": {
   "display_name": "Python 3 (ipykernel)",
   "language": "python",
   "name": "python3"
  },
  "language_info": {
   "codemirror_mode": {
    "name": "ipython",
    "version": 3
   },
   "file_extension": ".py",
   "mimetype": "text/x-python",
   "name": "python",
   "nbconvert_exporter": "python",
   "pygments_lexer": "ipython3",
   "version": "3.8.16"
  }
 },
 "nbformat": 4,
 "nbformat_minor": 5
}
