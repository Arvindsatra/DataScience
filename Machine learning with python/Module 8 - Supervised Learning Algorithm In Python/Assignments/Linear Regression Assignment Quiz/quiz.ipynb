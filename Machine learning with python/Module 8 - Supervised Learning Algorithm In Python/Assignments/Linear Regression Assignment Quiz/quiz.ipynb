{
 "cells": [
  {
   "cell_type": "code",
   "execution_count": 9,
   "metadata": {},
   "outputs": [
    {
     "data": {
      "text/html": [
       "<div>\n",
       "<style scoped>\n",
       "    .dataframe tbody tr th:only-of-type {\n",
       "        vertical-align: middle;\n",
       "    }\n",
       "\n",
       "    .dataframe tbody tr th {\n",
       "        vertical-align: top;\n",
       "    }\n",
       "\n",
       "    .dataframe thead th {\n",
       "        text-align: right;\n",
       "    }\n",
       "</style>\n",
       "<table border=\"1\" class=\"dataframe\">\n",
       "  <thead>\n",
       "    <tr style=\"text-align: right;\">\n",
       "      <th></th>\n",
       "      <th>YearsExperience</th>\n",
       "      <th>Salary</th>\n",
       "    </tr>\n",
       "  </thead>\n",
       "  <tbody>\n",
       "    <tr>\n",
       "      <th>0</th>\n",
       "      <td>1.1</td>\n",
       "      <td>39343.0</td>\n",
       "    </tr>\n",
       "    <tr>\n",
       "      <th>1</th>\n",
       "      <td>1.3</td>\n",
       "      <td>46205.0</td>\n",
       "    </tr>\n",
       "    <tr>\n",
       "      <th>2</th>\n",
       "      <td>1.5</td>\n",
       "      <td>37731.0</td>\n",
       "    </tr>\n",
       "    <tr>\n",
       "      <th>3</th>\n",
       "      <td>2.0</td>\n",
       "      <td>43525.0</td>\n",
       "    </tr>\n",
       "    <tr>\n",
       "      <th>4</th>\n",
       "      <td>2.2</td>\n",
       "      <td>39891.0</td>\n",
       "    </tr>\n",
       "  </tbody>\n",
       "</table>\n",
       "</div>"
      ],
      "text/plain": [
       "   YearsExperience   Salary\n",
       "0              1.1  39343.0\n",
       "1              1.3  46205.0\n",
       "2              1.5  37731.0\n",
       "3              2.0  43525.0\n",
       "4              2.2  39891.0"
      ]
     },
     "execution_count": 9,
     "metadata": {},
     "output_type": "execute_result"
    }
   ],
   "source": [
    "import pandas as pd\n",
    "\n",
    "data = pd.read_csv('data.csv')\n",
    "data.head()\n",
    "\n"
   ]
  },
  {
   "cell_type": "code",
   "execution_count": 10,
   "metadata": {},
   "outputs": [
    {
     "data": {
      "text/html": [
       "<div>\n",
       "<style scoped>\n",
       "    .dataframe tbody tr th:only-of-type {\n",
       "        vertical-align: middle;\n",
       "    }\n",
       "\n",
       "    .dataframe tbody tr th {\n",
       "        vertical-align: top;\n",
       "    }\n",
       "\n",
       "    .dataframe thead th {\n",
       "        text-align: right;\n",
       "    }\n",
       "</style>\n",
       "<table border=\"1\" class=\"dataframe\">\n",
       "  <thead>\n",
       "    <tr style=\"text-align: right;\">\n",
       "      <th></th>\n",
       "      <th>id</th>\n",
       "      <th>date</th>\n",
       "      <th>price</th>\n",
       "      <th>bedrooms</th>\n",
       "      <th>bathrooms</th>\n",
       "      <th>sqft_living</th>\n",
       "      <th>sqft_lot</th>\n",
       "      <th>floors</th>\n",
       "      <th>waterfront</th>\n",
       "      <th>view</th>\n",
       "      <th>...</th>\n",
       "      <th>grade</th>\n",
       "      <th>sqft_above</th>\n",
       "      <th>sqft_basement</th>\n",
       "      <th>yr_built</th>\n",
       "      <th>yr_renovated</th>\n",
       "      <th>zipcode</th>\n",
       "      <th>lat</th>\n",
       "      <th>long</th>\n",
       "      <th>sqft_living15</th>\n",
       "      <th>sqft_lot15</th>\n",
       "    </tr>\n",
       "  </thead>\n",
       "  <tbody>\n",
       "    <tr>\n",
       "      <th>0</th>\n",
       "      <td>7129300520</td>\n",
       "      <td>20141013T000000</td>\n",
       "      <td>221900</td>\n",
       "      <td>3</td>\n",
       "      <td>1.00</td>\n",
       "      <td>1180</td>\n",
       "      <td>5650</td>\n",
       "      <td>1.0</td>\n",
       "      <td>0</td>\n",
       "      <td>0</td>\n",
       "      <td>...</td>\n",
       "      <td>7</td>\n",
       "      <td>1180</td>\n",
       "      <td>0</td>\n",
       "      <td>1955</td>\n",
       "      <td>0</td>\n",
       "      <td>98178</td>\n",
       "      <td>47.5112</td>\n",
       "      <td>-122.257</td>\n",
       "      <td>1340</td>\n",
       "      <td>5650</td>\n",
       "    </tr>\n",
       "    <tr>\n",
       "      <th>1</th>\n",
       "      <td>6414100192</td>\n",
       "      <td>20141209T000000</td>\n",
       "      <td>538000</td>\n",
       "      <td>3</td>\n",
       "      <td>2.25</td>\n",
       "      <td>2570</td>\n",
       "      <td>7242</td>\n",
       "      <td>2.0</td>\n",
       "      <td>0</td>\n",
       "      <td>0</td>\n",
       "      <td>...</td>\n",
       "      <td>7</td>\n",
       "      <td>2170</td>\n",
       "      <td>400</td>\n",
       "      <td>1951</td>\n",
       "      <td>1991</td>\n",
       "      <td>98125</td>\n",
       "      <td>47.7210</td>\n",
       "      <td>-122.319</td>\n",
       "      <td>1690</td>\n",
       "      <td>7639</td>\n",
       "    </tr>\n",
       "    <tr>\n",
       "      <th>2</th>\n",
       "      <td>5631500400</td>\n",
       "      <td>20150225T000000</td>\n",
       "      <td>180000</td>\n",
       "      <td>2</td>\n",
       "      <td>1.00</td>\n",
       "      <td>770</td>\n",
       "      <td>10000</td>\n",
       "      <td>1.0</td>\n",
       "      <td>0</td>\n",
       "      <td>0</td>\n",
       "      <td>...</td>\n",
       "      <td>6</td>\n",
       "      <td>770</td>\n",
       "      <td>0</td>\n",
       "      <td>1933</td>\n",
       "      <td>0</td>\n",
       "      <td>98028</td>\n",
       "      <td>47.7379</td>\n",
       "      <td>-122.233</td>\n",
       "      <td>2720</td>\n",
       "      <td>8062</td>\n",
       "    </tr>\n",
       "    <tr>\n",
       "      <th>3</th>\n",
       "      <td>2487200875</td>\n",
       "      <td>20141209T000000</td>\n",
       "      <td>604000</td>\n",
       "      <td>4</td>\n",
       "      <td>3.00</td>\n",
       "      <td>1960</td>\n",
       "      <td>5000</td>\n",
       "      <td>1.0</td>\n",
       "      <td>0</td>\n",
       "      <td>0</td>\n",
       "      <td>...</td>\n",
       "      <td>7</td>\n",
       "      <td>1050</td>\n",
       "      <td>910</td>\n",
       "      <td>1965</td>\n",
       "      <td>0</td>\n",
       "      <td>98136</td>\n",
       "      <td>47.5208</td>\n",
       "      <td>-122.393</td>\n",
       "      <td>1360</td>\n",
       "      <td>5000</td>\n",
       "    </tr>\n",
       "    <tr>\n",
       "      <th>4</th>\n",
       "      <td>1954400510</td>\n",
       "      <td>20150218T000000</td>\n",
       "      <td>510000</td>\n",
       "      <td>3</td>\n",
       "      <td>2.00</td>\n",
       "      <td>1680</td>\n",
       "      <td>8080</td>\n",
       "      <td>1.0</td>\n",
       "      <td>0</td>\n",
       "      <td>0</td>\n",
       "      <td>...</td>\n",
       "      <td>8</td>\n",
       "      <td>1680</td>\n",
       "      <td>0</td>\n",
       "      <td>1987</td>\n",
       "      <td>0</td>\n",
       "      <td>98074</td>\n",
       "      <td>47.6168</td>\n",
       "      <td>-122.045</td>\n",
       "      <td>1800</td>\n",
       "      <td>7503</td>\n",
       "    </tr>\n",
       "  </tbody>\n",
       "</table>\n",
       "<p>5 rows × 21 columns</p>\n",
       "</div>"
      ],
      "text/plain": [
       "           id             date   price  bedrooms  bathrooms  sqft_living  \\\n",
       "0  7129300520  20141013T000000  221900         3       1.00         1180   \n",
       "1  6414100192  20141209T000000  538000         3       2.25         2570   \n",
       "2  5631500400  20150225T000000  180000         2       1.00          770   \n",
       "3  2487200875  20141209T000000  604000         4       3.00         1960   \n",
       "4  1954400510  20150218T000000  510000         3       2.00         1680   \n",
       "\n",
       "   sqft_lot  floors  waterfront  view  ...  grade  sqft_above  sqft_basement  \\\n",
       "0      5650     1.0           0     0  ...      7        1180              0   \n",
       "1      7242     2.0           0     0  ...      7        2170            400   \n",
       "2     10000     1.0           0     0  ...      6         770              0   \n",
       "3      5000     1.0           0     0  ...      7        1050            910   \n",
       "4      8080     1.0           0     0  ...      8        1680              0   \n",
       "\n",
       "   yr_built  yr_renovated  zipcode      lat     long  sqft_living15  \\\n",
       "0      1955             0    98178  47.5112 -122.257           1340   \n",
       "1      1951          1991    98125  47.7210 -122.319           1690   \n",
       "2      1933             0    98028  47.7379 -122.233           2720   \n",
       "3      1965             0    98136  47.5208 -122.393           1360   \n",
       "4      1987             0    98074  47.6168 -122.045           1800   \n",
       "\n",
       "   sqft_lot15  \n",
       "0        5650  \n",
       "1        7639  \n",
       "2        8062  \n",
       "3        5000  \n",
       "4        7503  \n",
       "\n",
       "[5 rows x 21 columns]"
      ]
     },
     "execution_count": 10,
     "metadata": {},
     "output_type": "execute_result"
    }
   ],
   "source": [
    "housing = pd.read_csv('housing.csv')\n",
    "housing.head()"
   ]
  },
  {
   "cell_type": "code",
   "execution_count": 11,
   "metadata": {},
   "outputs": [
    {
     "data": {
      "text/plain": [
       "14"
      ]
     },
     "execution_count": 11,
     "metadata": {},
     "output_type": "execute_result"
    }
   ],
   "source": [
    "# 1. How many employees having more than 5 years experience are earning more than 60000?\n",
    "# a. 41\n",
    "# b. 12\n",
    "# c. 21\n",
    "# d. 14\n",
    "\n",
    "data[(data['YearsExperience']>5) & (data['Salary']>60000)].shape[0]\n"
   ]
  },
  {
   "cell_type": "code",
   "execution_count": 12,
   "metadata": {},
   "outputs": [
    {
     "data": {
      "text/plain": [
       "12"
      ]
     },
     "execution_count": 12,
     "metadata": {},
     "output_type": "execute_result"
    }
   ],
   "source": [
    "# 2. How many employees are earning between 50000-80000?\n",
    "# a. 14\n",
    "# b. 12\n",
    "# c. 10\n",
    "# d. 13\n",
    "\n",
    "data[(data['Salary']>50000) & (data['Salary']<80000)].shape[0]"
   ]
  },
  {
   "cell_type": "code",
   "execution_count": 13,
   "metadata": {},
   "outputs": [
    {
     "data": {
      "image/png": "[encoded data removed]",
      "text/plain": [
       "<Figure size 640x480 with 1 Axes>"
      ]
     },
     "metadata": {},
     "output_type": "display_data"
    },
    {
     "name": "stdout",
     "output_type": "stream",
     "text": [
      "a. The plot shows a positive correlation between the ‘YearsExperience” and “Salary” column.\n"
     ]
    }
   ],
   "source": [
    "# 3. The scatter plot in the following image shows the relationship between the\n",
    "# “YearsExperience” and “Salary” columns. What possible inferences can be drawn from the\n",
    "# plot?\n",
    "# a. The plot shows a positive correlation between the ‘YearsExperience” and “Salary”\n",
    "# column.\n",
    "# b. The plot shows no significant relationship between the “YearExperience” and\n",
    "# “Salary” column.\n",
    "# c. The plot shows a negative correlation between the “YearsExperience” and\n",
    "# “Salary” column.\n",
    "# d. None of the above.\n",
    "import matplotlib.pyplot as plt\n",
    "import seaborn as sns\n",
    "\n",
    "plt.scatter(data['YearsExperience'],data['Salary'])\n",
    "plt.show()\n",
    "\n",
    "print('a. The plot shows a positive correlation between the ‘YearsExperience” and “Salary” column.')"
   ]
  },
  {
   "cell_type": "code",
   "execution_count": 14,
   "metadata": {},
   "outputs": [
    {
     "name": "stdout",
     "output_type": "stream",
     "text": [
      "b. “YearsExperience” data is positively skewed.\n"
     ]
    },
    {
     "data": {
      "image/png": "[encoded data removed]",
      "text/plain": [
       "<Figure size 640x480 with 1 Axes>"
      ]
     },
     "metadata": {},
     "output_type": "display_data"
    }
   ],
   "source": [
    "# 4. The distribution plot of the column “YearsExperience” is shown in the image below,\n",
    "# what possible inferences can be drawn from the plot.\n",
    "\n",
    "sns.histplot(data=data['YearsExperience'],bins=4, kde=True, color='blue')\n",
    "\n",
    "print('b. “YearsExperience” data is positively skewed.')"
   ]
  },
  {
   "cell_type": "code",
   "execution_count": 15,
   "metadata": {},
   "outputs": [
    {
     "name": "stdout",
     "output_type": "stream",
     "text": [
      "       YearsExperience         Salary\n",
      "count        30.000000      30.000000\n",
      "mean          5.313333   76003.000000\n",
      "std           2.837888   27414.429785\n",
      "min           1.100000   37731.000000\n",
      "25%           3.200000   56720.750000\n",
      "50%           4.700000   65237.000000\n",
      "75%           7.700000  100544.750000\n",
      "max          10.500000  122391.000000\n",
      "y: 9.4\n",
      "s: 84660.0\n",
      "a. The range of the “YearsExperience” and “Salary” data is (9.4 , 84660 )\n"
     ]
    }
   ],
   "source": [
    "# 5. What all inferences can be drawn from the table shown below:\n",
    "# a. The range of the “YearsExperience” and “Salary” data is (9.4 , 84660 )\n",
    "# b. The range of the “YearsExperience” and “Salary” data is (4.7 , 65237 )\n",
    "# c. The range of the “YearsExperience” and “Salary” data is (10.5, 122391)\n",
    "# d. The range of the “YearsExperience” and “Salary” data is (7.7 ,100544)\n",
    "print(data.describe())\n",
    "y = 10.500000 - 1.100000\n",
    "s = 122391.000000 - 37731.000000\n",
    "\n",
    "print(f'y: {y}\\ns: {s}')\n",
    "print('a. The range of the “YearsExperience” and “Salary” data is (9.4 , 84660 )')\n"
   ]
  },
  {
   "cell_type": "code",
   "execution_count": 16,
   "metadata": {},
   "outputs": [
    {
     "name": "stdout",
     "output_type": "stream",
     "text": [
      "d. The training data will consist of 80% of the samples from the total population.\n"
     ]
    }
   ],
   "source": [
    "# 6. To split the dataset into training and testing data, if we use the following\n",
    "# code. X = data['YearsExperience']\n",
    "# y = data['Salary']\n",
    "# X_train, X_test, y_train, y_test = train_test_split(X, y, test_size=0.2,\n",
    "# random_state=0) What does it mean when we write the test size as 0.2?\n",
    "# a. The testing data will be 2% accurate.\n",
    "# b. The testing data will have 80% samples from the total population.\n",
    "# c. The testing data will have 2% samples from the total population.\n",
    "# d. The training data will consist of 80% of the samples from the total population.\n",
    "\n",
    "print('d. The training data will consist of 80% of the samples from the total population.')"
   ]
  },
  {
   "cell_type": "code",
   "execution_count": 17,
   "metadata": {},
   "outputs": [
    {
     "name": "stdout",
     "output_type": "stream",
     "text": [
      "c. The random state does not have any effect on the shape of the data.\n"
     ]
    }
   ],
   "source": [
    "# 7. In the above example code, we have taken the random state as 0, if we change the\n",
    "# random state as 42, what does it mean for our training and testing data?\n",
    "# a. The shape of the training data will become (42,)\n",
    "# b. The shape of the training data will become (42,2)\n",
    "# c. The random state does not have any effect on the shape of the data.\n",
    "# d. The random state will increase the efficiency of the model by 42%.\n",
    "\n",
    "print('c. The random state does not have any effect on the shape of the data.')"
   ]
  },
  {
   "cell_type": "code",
   "execution_count": 18,
   "metadata": {},
   "outputs": [
    {
     "name": "stdout",
     "output_type": "stream",
     "text": [
      "R2 score: 0.968\n",
      "b. 0.96\n"
     ]
    }
   ],
   "source": [
    "# 8. If the r2 score calculated in the above example is 0.98 , change the sample size of\n",
    "# the training and testing set in the ratio 60:40, and build a linear regression model again.\n",
    "# After plotting the best fit line on the test data, calculate the r2_score for the new model.\n",
    "# a. 0.98\n",
    "# b. 0.96\n",
    "# c. 1.0\n",
    "# d. 0.0\n",
    "from sklearn.model_selection import train_test_split\n",
    "from sklearn.linear_model import LinearRegression\n",
    "from sklearn.metrics import r2_score\n",
    "\n",
    "x = data[['YearsExperience']]\n",
    "y = data[['Salary']]\n",
    "x_train, x_test, y_train, y_test = train_test_split(x,y,test_size=0.4,random_state=0)\n",
    "lr=LinearRegression()\n",
    "lr.fit(x_train,y_train)\n",
    "y_pred = lr.predict(x_test)\n",
    "r2 = r2_score(y_test,y_pred)\n",
    "print(f'R2 score: {r2:.3}')\n",
    "print('b. 0.96')\n"
   ]
  },
  {
   "cell_type": "code",
   "execution_count": 19,
   "metadata": {},
   "outputs": [
    {
     "name": "stdout",
     "output_type": "stream",
     "text": [
      "a. Reshape the data to a two dimensional array\n"
     ]
    }
   ],
   "source": [
    "# 9. If while fitting the model with training and testing data, you get the following error\n",
    "# ValueError: Expected 2D array, got 1D array instead: What could be\n",
    "# the issue with the data, and how can you solve it?\n",
    "# a. Reshape the data to a two dimensional array\n",
    "# b. Reshape the data to two arrays of 1-D each.\n",
    "# c. Both A and B\n",
    "# d. None of the above\n",
    "\n",
    "print('a. Reshape the data to a two dimensional array')"
   ]
  },
  {
   "cell_type": "markdown",
   "metadata": {},
   "source": [
    "The exercise after this contains questions that are based on\n",
    "the housing dataset."
   ]
  },
  {
   "cell_type": "code",
   "execution_count": 20,
   "metadata": {},
   "outputs": [
    {
     "name": "stdout",
     "output_type": "stream",
     "text": [
      "0    21450\n",
      "1      163\n",
      "Name: waterfront, dtype: int64\n",
      "\n",
      "\n",
      "c. 163\n"
     ]
    }
   ],
   "source": [
    "# 10. How many houses have a waterfront?\n",
    "# a. 21000\n",
    "# b. 21450\n",
    "# c. 163\n",
    "# d. 173\n",
    "\n",
    "print(housing['waterfront'].value_counts())\n",
    "print('\\n')\n",
    "print('c. 163')"
   ]
  },
  {
   "cell_type": "code",
   "execution_count": 21,
   "metadata": {},
   "outputs": [
    {
     "data": {
      "text/plain": [
       "8241"
      ]
     },
     "execution_count": 21,
     "metadata": {},
     "output_type": "execute_result"
    }
   ],
   "source": [
    "# 11. How many houses have 2 floors?\n",
    "# a. 2692\n",
    "# b. 8241\n",
    "# c. 10680\n",
    "# d. 161\n",
    "\n",
    "housing[housing['floors']==2].shape[0]"
   ]
  },
  {
   "cell_type": "code",
   "execution_count": 22,
   "metadata": {},
   "outputs": [
    {
     "data": {
      "text/plain": [
       "80"
      ]
     },
     "execution_count": 22,
     "metadata": {},
     "output_type": "execute_result"
    }
   ],
   "source": [
    "# 12. How many houses built before 1960 have a waterfront?\n",
    "# a. 80\n",
    "# b. 7309\n",
    "# c. 90\n",
    "# d. 92\n",
    "\n",
    "housing[(housing['yr_built']<1960) & (housing['waterfront'] == 1)].shape[0]"
   ]
  },
  {
   "cell_type": "code",
   "execution_count": 23,
   "metadata": {},
   "outputs": [
    {
     "data": {
      "text/plain": [
       "7700000"
      ]
     },
     "execution_count": 23,
     "metadata": {},
     "output_type": "execute_result"
    }
   ],
   "source": [
    "# 13. What is the price of the most expensive house having more than 4\n",
    "# bathrooms?\n",
    "# a. 7700000\n",
    "# b. 187000\n",
    "# c. 290000\n",
    "# d. 399000\n",
    "\n",
    "housing[(housing['bathrooms']>4)]['price'].max()"
   ]
  },
  {
   "cell_type": "code",
   "execution_count": 32,
   "metadata": {},
   "outputs": [
    {
     "data": {
      "image/png": "[encoded data removed]",
      "text/plain": [
       "<Figure size 1000x600 with 1 Axes>"
      ]
     },
     "metadata": {},
     "output_type": "display_data"
    },
    {
     "name": "stdout",
     "output_type": "stream",
     "text": [
      "c. There is a presence of outliers in the price data.\n"
     ]
    }
   ],
   "source": [
    "# 14. The image shown below shows the boxplot of the price column from the housing\n",
    "# dataset. What inferences can you make from the plot?\n",
    "# a. The price column is normally distributed.\n",
    "# b. There might be high chances of price data having null values.\n",
    "# c. There is a presence of outliers in the price data.\n",
    "# d. There is no presence of outliers in the price data.\n",
    "\n",
    "plt.figure(figsize=(10,6))\n",
    "plt.boxplot(housing['price'],patch_artist=True,vert=False)\n",
    "plt.show()\n",
    "\n",
    "print('c. There is a presence of outliers in the price data.')"
   ]
  },
  {
   "cell_type": "code",
   "execution_count": 25,
   "metadata": {},
   "outputs": [
    {
     "name": "stdout",
     "output_type": "stream",
     "text": [
      "a. Calculate the IQR range and drop the values outside the range.\n"
     ]
    }
   ],
   "source": [
    "# 15. For instance, if the ‘price’ column consists of outliers, how can you make the data clean\n",
    "# and remove the redundancies?\n",
    "# a. Calculate the IQR range and drop the values outside the range.\n",
    "# b. Calculate the p-value and remove the values less than 0.05.\n",
    "# c. Calculate the correlation coefficient of the price column and remove the values less than\n",
    "# the correlation coefficient.\n",
    "# d. Calculate the Z-score of the price column and remove the values less than the z-score.\n",
    "\n",
    "print('a. Calculate the IQR range and drop the values outside the range.')\n"
   ]
  },
  {
   "cell_type": "code",
   "execution_count": 26,
   "metadata": {},
   "outputs": [
    {
     "name": "stdout",
     "output_type": "stream",
     "text": [
      "a. Correlation coefficients\n"
     ]
    }
   ],
   "source": [
    "# 16. What are the various parameters that can be used to determine the dependent variables\n",
    "# in the housing data to determine the price of the house?\n",
    "# a. Correlation coefficients\n",
    "# b. Z-score\n",
    "# c. IQR Range\n",
    "# d. Range of the Features\n",
    "\n",
    "\n",
    "print('a. Correlation coefficients')"
   ]
  },
  {
   "cell_type": "code",
   "execution_count": 27,
   "metadata": {},
   "outputs": [
    {
     "name": "stdout",
     "output_type": "stream",
     "text": [
      "d. High difference between observed and fitted values.\n"
     ]
    }
   ],
   "source": [
    "# 17. If we get the r2 score as 0.38, what inferences can we make about the model and\n",
    "# its efficiency?\n",
    "# a. The model is 38% accurate, and shows poor efficiency.\n",
    "# b. The model is showing 0.38% discrepancies in the outcomes.\n",
    "# c. Low difference between observed and fitted values.\n",
    "# d. High difference between observed and fitted values.\n",
    "\n",
    "print('d. High difference between observed and fitted values.')"
   ]
  },
  {
   "cell_type": "code",
   "execution_count": 28,
   "metadata": {},
   "outputs": [
    {
     "name": "stdout",
     "output_type": "stream",
     "text": [
      "a. Significant in presence of other variables.\n"
     ]
    }
   ],
   "source": [
    "# 18. If the metrics show that the p-value for the grade column is 0.092, what all inferences\n",
    "# can we make about the grade column?\n",
    "# a. Significant in presence of other variables.\n",
    "# b. Highly significant in presence of other variables\n",
    "# c. insignificance in presence of other variables\n",
    "# d. None of the above\n",
    "\n",
    "print('a. Significant in presence of other variables.')\n"
   ]
  },
  {
   "cell_type": "code",
   "execution_count": 29,
   "metadata": {},
   "outputs": [
    {
     "name": "stdout",
     "output_type": "stream",
     "text": [
      "a. High multicollinearity\n"
     ]
    }
   ],
   "source": [
    "# 19. If the Variance Inflation Factor value for a feature is considerably higher than the\n",
    "# other features, what can we say about that column/feature?\n",
    "# a. High multicollinearity\n",
    "# b. Low multicollinearity\n",
    "# c. Both A and B\n",
    "# d. None of the above\n",
    "\n",
    "print('a. High multicollinearity')"
   ]
  },
  {
   "cell_type": "code",
   "execution_count": null,
   "metadata": {},
   "outputs": [],
   "source": []
  }
 ],
 "metadata": {
  "kernelspec": {
   "display_name": "6.86x",
   "language": "python",
   "name": "python3"
  },
  "language_info": {
   "codemirror_mode": {
    "name": "ipython",
    "version": 3
   },
   "file_extension": ".py",
   "mimetype": "text/x-python",
   "name": "python",
   "nbconvert_exporter": "python",
   "pygments_lexer": "ipython3",
   "version": "3.8.16"
  },
  "orig_nbformat": 4
 },
 "nbformat": 4,
 "nbformat_minor": 2
}
