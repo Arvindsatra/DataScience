{
 "cells": [
  {
   "cell_type": "markdown",
   "id": "0ca7f06b",
   "metadata": {},
   "source": [
    "                    Module 4: Data Structure Assignment\n",
    "\n"
   ]
  },
  {
   "cell_type": "markdown",
   "id": "b8585f89",
   "metadata": {},
   "source": [
    "Create a list named ‘myList’ that is having the following elements: 10,20,30,’apple’, True, 8.10.\n",
    "\n",
    "a. Now in the ‘myList’, append these values: 30,40\n",
    "\n",
    "b. After that reverse the elements of the ‘myList’ and store that in ‘reversedList’"
   ]
  },
  {
   "cell_type": "code",
   "execution_count": 13,
   "id": "a6f566e5",
   "metadata": {},
   "outputs": [
    {
     "data": {
      "text/plain": [
       "[[30, 40], 8.1, True, 'apple', 30, 20, 10]"
      ]
     },
     "execution_count": 13,
     "metadata": {},
     "output_type": "execute_result"
    }
   ],
   "source": [
    "mylist= [10,20,30, \"apple\", True, 8.10]\n",
    "\n",
    "mylist.append([30, 40])\n",
    "\n",
    "mylist.reverse()\n",
    "mylist"
   ]
  },
  {
   "cell_type": "markdown",
   "id": "5a37af1e",
   "metadata": {},
   "source": [
    "2. Create a dictonary with key values as 1,2,3 and the values as ‘data’,’information’, and ‘text’.\n",
    "\n",
    "a. After that eliminate the ‘text’ value form the dictonary.\n",
    "\n",
    "b. Add ‘features’ in the dictonary.\n",
    "\n",
    "c. Fetch the ‘data’ element from the dictonary and display it in the output."
   ]
  },
  {
   "cell_type": "code",
   "execution_count": 5,
   "id": "be989045",
   "metadata": {},
   "outputs": [
    {
     "data": {
      "text/plain": [
       "{1: 'data', 2: 'information', 3: 'text'}"
      ]
     },
     "execution_count": 5,
     "metadata": {},
     "output_type": "execute_result"
    }
   ],
   "source": [
    "k= (1,2,3)\n",
    "V=('data', 'information', 'text')\n",
    "d= dict(zip(k,V))\n",
    "d\n",
    "\n",
    "\n"
   ]
  },
  {
   "cell_type": "code",
   "execution_count": 6,
   "id": "120eeac4",
   "metadata": {},
   "outputs": [
    {
     "data": {
      "text/plain": [
       "{1: 'data', 2: 'information'}"
      ]
     },
     "execution_count": 6,
     "metadata": {},
     "output_type": "execute_result"
    }
   ],
   "source": [
    "#a. After that eliminate the ‘text’ value form the dictonary.\n",
    "\n",
    "d.pop(3)\n",
    "d"
   ]
  },
  {
   "cell_type": "code",
   "execution_count": 7,
   "id": "61d98849",
   "metadata": {},
   "outputs": [
    {
     "data": {
      "text/plain": [
       "{1: 'data', 2: 'information', 3: 'features'}"
      ]
     },
     "execution_count": 7,
     "metadata": {},
     "output_type": "execute_result"
    }
   ],
   "source": [
    "#b. Add ‘features’ in the dictonary.\n",
    "\n",
    "d[3]='features'\n",
    "d"
   ]
  },
  {
   "cell_type": "code",
   "execution_count": 8,
   "id": "02ad4d8d",
   "metadata": {},
   "outputs": [
    {
     "data": {
      "text/plain": [
       "'data'"
      ]
     },
     "execution_count": 8,
     "metadata": {},
     "output_type": "execute_result"
    }
   ],
   "source": [
    "#c. Fetch the ‘data’ element from the dictonary and display it in the output.\n",
    "\n",
    "d[1]"
   ]
  },
  {
   "cell_type": "markdown",
   "id": "8795b40c",
   "metadata": {},
   "source": [
    "3. Create a tuple and add these elements 1,2,3,apple,mango in ‘my_tuple"
   ]
  },
  {
   "cell_type": "code",
   "execution_count": 13,
   "id": "d8b72562",
   "metadata": {},
   "outputs": [],
   "source": [
    "my_tuple=(1,2,3,'apple','mango')"
   ]
  },
  {
   "cell_type": "markdown",
   "id": "c314be49",
   "metadata": {},
   "source": [
    "4. Create another tuple named numeric_tuple consisting of only integer values 10,20,30,40,50\n",
    "\n",
    "a. Find the minimum value from the numeric_tuple.\n",
    "\n",
    "b. Concatenate my_tuple with numeric_tuple and store the result in r1.\n",
    "\n",
    "c. Duplicate the tuple named my_tuple 2 times and store that in ‘newdupli’."
   ]
  },
  {
   "cell_type": "code",
   "execution_count": 14,
   "id": "da43c26e",
   "metadata": {},
   "outputs": [
    {
     "data": {
      "text/plain": [
       "(10, 20, 30, 40, 50)"
      ]
     },
     "execution_count": 14,
     "metadata": {},
     "output_type": "execute_result"
    }
   ],
   "source": [
    "numeric_tuple= (10,20,30,40,50)\n",
    "numeric_tuple"
   ]
  },
  {
   "cell_type": "code",
   "execution_count": 15,
   "id": "44454087",
   "metadata": {},
   "outputs": [
    {
     "data": {
      "text/plain": [
       "10"
      ]
     },
     "execution_count": 15,
     "metadata": {},
     "output_type": "execute_result"
    }
   ],
   "source": [
    "#a. Find the minimum value from the numeric_tuple.\n",
    "\n",
    "min(numeric_tuple)"
   ]
  },
  {
   "cell_type": "code",
   "execution_count": 16,
   "id": "3117a52a",
   "metadata": {},
   "outputs": [
    {
     "data": {
      "text/plain": [
       "(1, 2, 3, 'apple', 'mango', 10, 20, 30, 40, 50)"
      ]
     },
     "execution_count": 16,
     "metadata": {},
     "output_type": "execute_result"
    }
   ],
   "source": [
    "#b. Concatenate my_tuple with numeric_tuple and store the result in r1.\n",
    "\n",
    "r1= my_tuple+numeric_tuple\n",
    "r1"
   ]
  },
  {
   "cell_type": "code",
   "execution_count": 17,
   "id": "2b02d3c8",
   "metadata": {},
   "outputs": [
    {
     "data": {
      "text/plain": [
       "(1, 2, 3, 'apple', 'mango', 1, 2, 3, 'apple', 'mango')"
      ]
     },
     "execution_count": 17,
     "metadata": {},
     "output_type": "execute_result"
    }
   ],
   "source": [
    "#c. Duplicate the tuple named my_tuple 2 times and store that in ‘newdupli’.\n",
    "\n",
    "newdupli= ((my_tuple)*2)\n",
    "newdupli"
   ]
  },
  {
   "cell_type": "markdown",
   "id": "116ca5bd",
   "metadata": {},
   "source": [
    "5. Create 2 sets with name set1 and set2, where set1 contains{1,2,3,4,5} and set2 to \n",
    "contains{2,3,7,6,1}\n",
    "\n",
    "a. Perform the below operation:\n",
    "\n",
    "    a. set1 union set2\n",
    "\n",
    "    b. set1 intersection set2 \n",
    "\n",
    "\n",
    "    c. set1 difference set2"
   ]
  },
  {
   "cell_type": "code",
   "execution_count": 18,
   "id": "913227e6",
   "metadata": {},
   "outputs": [],
   "source": [
    "set1= {1,2,3,4,5}\n",
    "set2= {2,3,7,6,1}"
   ]
  },
  {
   "cell_type": "code",
   "execution_count": 19,
   "id": "bacd1740",
   "metadata": {},
   "outputs": [
    {
     "data": {
      "text/plain": [
       "{1, 2, 3, 4, 5, 6, 7}"
      ]
     },
     "execution_count": 19,
     "metadata": {},
     "output_type": "execute_result"
    }
   ],
   "source": [
    "#a. set1 union set2\n",
    "\n",
    "set1.union(set2)"
   ]
  },
  {
   "cell_type": "code",
   "execution_count": 20,
   "id": "b2f1add9",
   "metadata": {},
   "outputs": [
    {
     "data": {
      "text/plain": [
       "{1, 2, 3}"
      ]
     },
     "execution_count": 20,
     "metadata": {},
     "output_type": "execute_result"
    }
   ],
   "source": [
    "#b. set1 intersection set2 \n",
    "\n",
    "set1.intersection(set2)"
   ]
  },
  {
   "cell_type": "code",
   "execution_count": 21,
   "id": "60936037",
   "metadata": {},
   "outputs": [
    {
     "data": {
      "text/plain": [
       "{4, 5}"
      ]
     },
     "execution_count": 21,
     "metadata": {},
     "output_type": "execute_result"
    }
   ],
   "source": [
    "#c. set1 difference set2\n",
    "\n",
    "set1.difference(set2)"
   ]
  },
  {
   "cell_type": "markdown",
   "id": "64fec21a",
   "metadata": {},
   "source": [
    "                    Module 4: Numpy Assignment"
   ]
  },
  {
   "cell_type": "markdown",
   "id": "31f758e7",
   "metadata": {},
   "source": [
    "1. Create a 3x3 matrix array with values ranging from 2 to 10."
   ]
  },
  {
   "cell_type": "code",
   "execution_count": 25,
   "id": "b45907ef",
   "metadata": {},
   "outputs": [
    {
     "data": {
      "text/plain": [
       "array([[ 2,  3,  4],\n",
       "       [ 5,  6,  7],\n",
       "       [ 8,  9, 10]])"
      ]
     },
     "execution_count": 25,
     "metadata": {},
     "output_type": "execute_result"
    }
   ],
   "source": [
    "import numpy as np\n",
    "\n",
    "np.arange(2,11).reshape(3,3)"
   ]
  },
  {
   "cell_type": "markdown",
   "id": "ccba4b59",
   "metadata": {},
   "source": [
    "2. Create a numpy array having user input values and convert the integer type to the float type \n",
    "of the elements of the array. For instance:\n",
    "\n",
    "    Original array\n",
    "\n",
    "    [1, 2, 3, 4]\n",
    "\n",
    "    Array converted to a float type:\n",
    "\n",
    "    [ 1. 2. 3. 4.]\n"
   ]
  },
  {
   "cell_type": "code",
   "execution_count": 29,
   "id": "787e3d95",
   "metadata": {},
   "outputs": [
    {
     "name": "stdout",
     "output_type": "stream",
     "text": [
      "entry the size of the array: 3\n",
      "element: 10\n",
      "element: 20\n",
      "element: 30\n"
     ]
    },
    {
     "data": {
      "text/plain": [
       "dtype('int32')"
      ]
     },
     "execution_count": 29,
     "metadata": {},
     "output_type": "execute_result"
    }
   ],
   "source": [
    "a= []\n",
    "\n",
    "n=int(input('entry the size of the array: '))\n",
    "\n",
    "for i in range(0,n):\n",
    "    a.append(int(input('element: ')))\n",
    "    \n",
    "arr=np.array(a)\n",
    "    \n",
    "arr.dtype    "
   ]
  },
  {
   "cell_type": "code",
   "execution_count": 30,
   "id": "6bc0b42a",
   "metadata": {},
   "outputs": [
    {
     "data": {
      "text/plain": [
       "array([10., 20., 30.])"
      ]
     },
     "execution_count": 30,
     "metadata": {},
     "output_type": "execute_result"
    }
   ],
   "source": [
    "arr.astype(float)"
   ]
  },
  {
   "cell_type": "markdown",
   "id": "3c8adcbf",
   "metadata": {},
   "source": [
    "3. Write a Numpy program to append values to the end of an array. For instance:\n",
    "\n",
    "Original array:\n",
    "[10, 20, 30]\n",
    "\n",
    "After append values to the end of the array:\n",
    "[10 20 30 40 50 60 70 80 90]\n"
   ]
  },
  {
   "cell_type": "code",
   "execution_count": 38,
   "id": "b84c67c7",
   "metadata": {},
   "outputs": [
    {
     "data": {
      "text/plain": [
       "array([ 1,  8,  3,  3,  5, 20, 30, 40])"
      ]
     },
     "execution_count": 38,
     "metadata": {},
     "output_type": "execute_result"
    }
   ],
   "source": [
    "array1= np.array([1, 8, 3, 3, 5])\n",
    "\n",
    "array2= np.append(array1, [20,30,40])\n",
    "\n",
    "array2"
   ]
  },
  {
   "cell_type": "markdown",
   "id": "5b137b14",
   "metadata": {},
   "source": [
    "4. Create two numpy arrays and add the elements of both the arrays and store the result in \n",
    "sumArray."
   ]
  },
  {
   "cell_type": "code",
   "execution_count": 39,
   "id": "c52c0cf7",
   "metadata": {},
   "outputs": [
    {
     "data": {
      "text/plain": [
       "array([3, 5, 7])"
      ]
     },
     "execution_count": 39,
     "metadata": {},
     "output_type": "execute_result"
    }
   ],
   "source": [
    "array1=np.array([1,2,3])\n",
    "array2=np.array([2,3,4])\n",
    "\n",
    "array3= array1+array2\n",
    "array3"
   ]
  },
  {
   "cell_type": "markdown",
   "id": "cbf83144",
   "metadata": {},
   "source": [
    "5. Create a 3*3 array having values from 10-90(interval of 10) and store that in array1. Perform \n",
    "the following tasks:\n",
    "\n",
    "a. Extract the 1st row from the array.\n",
    "\n",
    "b. Extract the last element from the array"
   ]
  },
  {
   "cell_type": "code",
   "execution_count": 57,
   "id": "a52e6eb3",
   "metadata": {},
   "outputs": [
    {
     "data": {
      "text/plain": [
       "array([[10, 20, 30],\n",
       "       [40, 50, 60],\n",
       "       [70, 80, 90]])"
      ]
     },
     "execution_count": 57,
     "metadata": {},
     "output_type": "execute_result"
    }
   ],
   "source": [
    "array1= np.arange(10,91,10)\n",
    "array1=array1.reshape(3,3)\n",
    "array1"
   ]
  },
  {
   "cell_type": "code",
   "execution_count": 53,
   "id": "767dd4d4",
   "metadata": {},
   "outputs": [
    {
     "data": {
      "text/plain": [
       "array([[10, 20, 30]])"
      ]
     },
     "execution_count": 53,
     "metadata": {},
     "output_type": "execute_result"
    }
   ],
   "source": [
    "#a. Extract the 1st row from the array.\n",
    "\n",
    "array1[0:1]"
   ]
  },
  {
   "cell_type": "code",
   "execution_count": 68,
   "id": "1e50db60",
   "metadata": {},
   "outputs": [
    {
     "data": {
      "text/plain": [
       "90"
      ]
     },
     "execution_count": 68,
     "metadata": {},
     "output_type": "execute_result"
    }
   ],
   "source": [
    "#b. Extract the last element from the array\n",
    "\n",
    "array1[-1][-1]"
   ]
  },
  {
   "cell_type": "markdown",
   "id": "11c44352",
   "metadata": {},
   "source": [
    "                        Module 4: Numpy Assignment"
   ]
  },
  {
   "cell_type": "markdown",
   "id": "33d28867",
   "metadata": {},
   "source": [
    "1. Create a function that takes dimensions as tuples e.g.(3, 3) and a numeric value and returns a \n",
    "Numpy array of the given dimension filled with the given value e.g.: solve((3, 3), 5) will return \n",
    "\n",
    "[\n",
    " [5, 5, 5],\n",
    " [5, 5, 5],\n",
    " [5, 5, 5]\n",
    "]\n"
   ]
  },
  {
   "cell_type": "code",
   "execution_count": 74,
   "id": "39b9f034",
   "metadata": {},
   "outputs": [
    {
     "data": {
      "text/plain": [
       "array([[5, 5, 5],\n",
       "       [5, 5, 5],\n",
       "       [5, 5, 5]])"
      ]
     },
     "execution_count": 74,
     "metadata": {},
     "output_type": "execute_result"
    }
   ],
   "source": [
    "np.full((3,3),5)"
   ]
  },
  {
   "cell_type": "markdown",
   "id": "019d857c",
   "metadata": {},
   "source": [
    "2. Create a method that takes n Numpy arrays of same dimensions sums them and return the \n",
    "answer."
   ]
  },
  {
   "cell_type": "code",
   "execution_count": 72,
   "id": "a02d5e7d",
   "metadata": {},
   "outputs": [
    {
     "data": {
      "text/plain": [
       "array([ 3,  5, 10, 10,  6])"
      ]
     },
     "execution_count": 72,
     "metadata": {},
     "output_type": "execute_result"
    }
   ],
   "source": [
    "def arr_sum(*args):\n",
    "    arr3=np.add(*args)\n",
    "    return arr3\n",
    "\n",
    "arr5= np.array([1,2,3,4,5])\n",
    "arr6= np.array([2,3,7,6,1])\n",
    "arr_sum(arr5, arr6)"
   ]
  },
  {
   "cell_type": "markdown",
   "id": "0eadc808",
   "metadata": {},
   "source": [
    "3. Given a 2 D Array of N X M Dimension, Write a function that accepts this array as well as two \n",
    "numbers N and M. The method should return the top-left N X M sub matrix e.g:\n",
    " \n",
    " [\n",
    " [1, 2, 3],\n",
    " [4, 5, 6],\n",
    " [7, 8, 9],\n",
    " ]\n",
    "\n",
    "top_left_sub_matrix (matrix, 2, 2) -> should return:\n",
    " \n",
    " [\n",
    " [1, 2]\n",
    " [4, 5]\n",
    " ]\n"
   ]
  },
  {
   "cell_type": "code",
   "execution_count": 77,
   "id": "d6c2474c",
   "metadata": {},
   "outputs": [],
   "source": [
    "def arr_slice(array,n,m):\n",
    "    arr3=array[0:n,0:m]\n",
    "    return arr3\n",
    "\n"
   ]
  },
  {
   "cell_type": "markdown",
   "id": "734a05ac",
   "metadata": {},
   "source": [
    "4. Given a 2 D Array of N X M Dimension, Write a function that accepts this array as well as two \n",
    "numbers N and M The method should return the bottom-right N X M sub matrix e.g.:\n",
    " \n",
    " [\n",
    " [1, 2, 3],\n",
    " [4, 5, 6],\n",
    " [7, 8, 9],\n",
    " ]\n",
    "\n",
    "sub_matrix(matrix, 1, 1) -> should return : (Keep in mind these arrays are zero indexed)\n",
    " \n",
    " [\n",
    " [5, 6]\n",
    " [8, 9]\n",
    " ]\n"
   ]
  },
  {
   "cell_type": "code",
   "execution_count": 78,
   "id": "6a4a51f1",
   "metadata": {},
   "outputs": [],
   "source": [
    "def arr_slice(array,n,m):\n",
    "    arr3=array[1: ,1:]\n",
    "    return arr3"
   ]
  },
  {
   "cell_type": "markdown",
   "id": "f7d1da68",
   "metadata": {},
   "source": [
    "5. Given a 1 D Numpy Array. Write a function that accepts this array as parameters. The method \n",
    "should return a dictionary with 'mean' and 'std_dev' as key and array's mean and array's \n",
    "standard deviation as values:\n",
    " \n",
    " [1, 1, 1]\n",
    "solution(arr) -> should return :\n",
    " {'mean': 1.0, 'std_dev': 0.0}"
   ]
  },
  {
   "cell_type": "code",
   "execution_count": 79,
   "id": "e502f7c2",
   "metadata": {},
   "outputs": [],
   "source": [
    "def fun(a):\n",
    "    mean=a.mean()\n",
    "    std_dev=a.std()\n",
    "    return {'mean':mean, 'std_dev':std_dev}"
   ]
  },
  {
   "cell_type": "code",
   "execution_count": null,
   "id": "571c5e2c",
   "metadata": {},
   "outputs": [],
   "source": []
  }
 ],
 "metadata": {
  "kernelspec": {
   "display_name": "Python 3 (ipykernel)",
   "language": "python",
   "name": "python3"
  },
  "language_info": {
   "codemirror_mode": {
    "name": "ipython",
    "version": 3
   },
   "file_extension": ".py",
   "mimetype": "text/x-python",
   "name": "python",
   "nbconvert_exporter": "python",
   "pygments_lexer": "ipython3",
   "version": "3.9.12"
  }
 },
 "nbformat": 4,
 "nbformat_minor": 5
}
