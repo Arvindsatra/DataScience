{
 "cells": [
  {
   "cell_type": "code",
   "execution_count": 1,
   "metadata": {},
   "outputs": [
    {
     "data": {
      "text/html": [
       "<div>\n",
       "<style scoped>\n",
       "    .dataframe tbody tr th:only-of-type {\n",
       "        vertical-align: middle;\n",
       "    }\n",
       "\n",
       "    .dataframe tbody tr th {\n",
       "        vertical-align: top;\n",
       "    }\n",
       "\n",
       "    .dataframe thead th {\n",
       "        text-align: right;\n",
       "    }\n",
       "</style>\n",
       "<table border=\"1\" class=\"dataframe\">\n",
       "  <thead>\n",
       "    <tr style=\"text-align: right;\">\n",
       "      <th></th>\n",
       "      <th>model</th>\n",
       "      <th>mpg</th>\n",
       "      <th>cyl</th>\n",
       "      <th>disp</th>\n",
       "      <th>hp</th>\n",
       "      <th>drat</th>\n",
       "      <th>wt</th>\n",
       "      <th>qsec</th>\n",
       "      <th>vs</th>\n",
       "      <th>am</th>\n",
       "      <th>gear</th>\n",
       "      <th>carb</th>\n",
       "    </tr>\n",
       "  </thead>\n",
       "  <tbody>\n",
       "    <tr>\n",
       "      <th>0</th>\n",
       "      <td>Mazda RX4</td>\n",
       "      <td>21.0</td>\n",
       "      <td>6</td>\n",
       "      <td>160.0</td>\n",
       "      <td>110</td>\n",
       "      <td>3.90</td>\n",
       "      <td>2.620</td>\n",
       "      <td>16.46</td>\n",
       "      <td>0</td>\n",
       "      <td>1</td>\n",
       "      <td>4</td>\n",
       "      <td>4</td>\n",
       "    </tr>\n",
       "    <tr>\n",
       "      <th>1</th>\n",
       "      <td>Mazda RX4 Wag</td>\n",
       "      <td>21.0</td>\n",
       "      <td>6</td>\n",
       "      <td>160.0</td>\n",
       "      <td>110</td>\n",
       "      <td>3.90</td>\n",
       "      <td>2.875</td>\n",
       "      <td>17.02</td>\n",
       "      <td>0</td>\n",
       "      <td>1</td>\n",
       "      <td>4</td>\n",
       "      <td>4</td>\n",
       "    </tr>\n",
       "    <tr>\n",
       "      <th>2</th>\n",
       "      <td>Datsun 710</td>\n",
       "      <td>22.8</td>\n",
       "      <td>4</td>\n",
       "      <td>108.0</td>\n",
       "      <td>93</td>\n",
       "      <td>3.85</td>\n",
       "      <td>2.320</td>\n",
       "      <td>18.61</td>\n",
       "      <td>1</td>\n",
       "      <td>1</td>\n",
       "      <td>4</td>\n",
       "      <td>1</td>\n",
       "    </tr>\n",
       "    <tr>\n",
       "      <th>3</th>\n",
       "      <td>Hornet 4 Drive</td>\n",
       "      <td>21.4</td>\n",
       "      <td>6</td>\n",
       "      <td>258.0</td>\n",
       "      <td>110</td>\n",
       "      <td>3.08</td>\n",
       "      <td>3.215</td>\n",
       "      <td>19.44</td>\n",
       "      <td>1</td>\n",
       "      <td>0</td>\n",
       "      <td>3</td>\n",
       "      <td>1</td>\n",
       "    </tr>\n",
       "    <tr>\n",
       "      <th>4</th>\n",
       "      <td>Hornet Sportabout</td>\n",
       "      <td>18.7</td>\n",
       "      <td>8</td>\n",
       "      <td>360.0</td>\n",
       "      <td>175</td>\n",
       "      <td>3.15</td>\n",
       "      <td>3.440</td>\n",
       "      <td>17.02</td>\n",
       "      <td>0</td>\n",
       "      <td>0</td>\n",
       "      <td>3</td>\n",
       "      <td>2</td>\n",
       "    </tr>\n",
       "  </tbody>\n",
       "</table>\n",
       "</div>"
      ],
      "text/plain": [
       "               model   mpg  cyl   disp   hp  drat     wt   qsec  vs  am  gear  \\\n",
       "0          Mazda RX4  21.0    6  160.0  110  3.90  2.620  16.46   0   1     4   \n",
       "1      Mazda RX4 Wag  21.0    6  160.0  110  3.90  2.875  17.02   0   1     4   \n",
       "2         Datsun 710  22.8    4  108.0   93  3.85  2.320  18.61   1   1     4   \n",
       "3     Hornet 4 Drive  21.4    6  258.0  110  3.08  3.215  19.44   1   0     3   \n",
       "4  Hornet Sportabout  18.7    8  360.0  175  3.15  3.440  17.02   0   0     3   \n",
       "\n",
       "   carb  \n",
       "0     4  \n",
       "1     4  \n",
       "2     1  \n",
       "3     1  \n",
       "4     2  "
      ]
     },
     "execution_count": 1,
     "metadata": {},
     "output_type": "execute_result"
    }
   ],
   "source": [
    "import pandas as pd\n",
    "\n",
    "df = pd.read_csv('cars-1.csv')\n",
    "df.head()"
   ]
  },
  {
   "cell_type": "code",
   "execution_count": 4,
   "metadata": {},
   "outputs": [
    {
     "data": {
      "text/html": [
       "<div>\n",
       "<style scoped>\n",
       "    .dataframe tbody tr th:only-of-type {\n",
       "        vertical-align: middle;\n",
       "    }\n",
       "\n",
       "    .dataframe tbody tr th {\n",
       "        vertical-align: top;\n",
       "    }\n",
       "\n",
       "    .dataframe thead th {\n",
       "        text-align: right;\n",
       "    }\n",
       "</style>\n",
       "<table border=\"1\" class=\"dataframe\">\n",
       "  <thead>\n",
       "    <tr style=\"text-align: right;\">\n",
       "      <th></th>\n",
       "      <th>mpg</th>\n",
       "      <th>disp</th>\n",
       "      <th>hp</th>\n",
       "    </tr>\n",
       "  </thead>\n",
       "  <tbody>\n",
       "    <tr>\n",
       "      <th>0</th>\n",
       "      <td>21.0</td>\n",
       "      <td>160.0</td>\n",
       "      <td>110</td>\n",
       "    </tr>\n",
       "    <tr>\n",
       "      <th>1</th>\n",
       "      <td>21.0</td>\n",
       "      <td>160.0</td>\n",
       "      <td>110</td>\n",
       "    </tr>\n",
       "    <tr>\n",
       "      <th>2</th>\n",
       "      <td>22.8</td>\n",
       "      <td>108.0</td>\n",
       "      <td>93</td>\n",
       "    </tr>\n",
       "    <tr>\n",
       "      <th>3</th>\n",
       "      <td>21.4</td>\n",
       "      <td>258.0</td>\n",
       "      <td>110</td>\n",
       "    </tr>\n",
       "    <tr>\n",
       "      <th>4</th>\n",
       "      <td>18.7</td>\n",
       "      <td>360.0</td>\n",
       "      <td>175</td>\n",
       "    </tr>\n",
       "  </tbody>\n",
       "</table>\n",
       "</div>"
      ],
      "text/plain": [
       "    mpg   disp   hp\n",
       "0  21.0  160.0  110\n",
       "1  21.0  160.0  110\n",
       "2  22.8  108.0   93\n",
       "3  21.4  258.0  110\n",
       "4  18.7  360.0  175"
      ]
     },
     "execution_count": 4,
     "metadata": {},
     "output_type": "execute_result"
    }
   ],
   "source": [
    "# 1. Building the K-Means clustering algorithm:\n",
    "# a. Start off by extracting the ‘mpg’, ‘disp’ & ‘hp’ columns from the ‘mtcars’\n",
    "# data.frame. Store the result in ‘car_features’\n",
    "\n",
    "car_features = df[['mpg','disp','hp']]\n",
    "car_features.head()"
   ]
  },
  {
   "cell_type": "code",
   "execution_count": 7,
   "metadata": {},
   "outputs": [
    {
     "name": "stderr",
     "output_type": "stream",
     "text": [
      "c:\\Users\\arvin\\miniconda3\\envs\\6.86x\\lib\\site-packages\\sklearn\\cluster\\_kmeans.py:870: FutureWarning: The default value of `n_init` will change from 10 to 'auto' in 1.4. Set the value of `n_init` explicitly to suppress the warning\n",
      "  warnings.warn(\n",
      "c:\\Users\\arvin\\miniconda3\\envs\\6.86x\\lib\\site-packages\\sklearn\\cluster\\_kmeans.py:1382: UserWarning: KMeans is known to have a memory leak on Windows with MKL, when there are less chunks than available threads. You can avoid it by setting the environment variable OMP_NUM_THREADS=1.\n",
      "  warnings.warn(\n"
     ]
    }
   ],
   "source": [
    "# b. Build the K-Means algorithm on top of ‘car_features’. Here, the number\n",
    "# of clusters should be 3\n",
    "from sklearn.cluster import KMeans\n",
    "import matplotlib.pyplot as plt\n",
    "\n",
    "k = 3\n",
    "kmeans = KMeans(n_clusters=k, random_state=0)\n",
    "clusters = kmeans.fit_predict(car_features)"
   ]
  },
  {
   "cell_type": "code",
   "execution_count": 8,
   "metadata": {},
   "outputs": [
    {
     "name": "stdout",
     "output_type": "stream",
     "text": [
      "    mpg   disp   hp  Cluster\n",
      "0  21.0  160.0  110        1\n",
      "1  21.0  160.0  110        1\n",
      "2  22.8  108.0   93        1\n",
      "3  21.4  258.0  110        0\n",
      "4  18.7  360.0  175        2\n"
     ]
    },
    {
     "name": "stderr",
     "output_type": "stream",
     "text": [
      "C:\\Users\\arvin\\AppData\\Local\\Temp\\ipykernel_13876\\3430193735.py:3: SettingWithCopyWarning: \n",
      "A value is trying to be set on a copy of a slice from a DataFrame.\n",
      "Try using .loc[row_indexer,col_indexer] = value instead\n",
      "\n",
      "See the caveats in the documentation: https://pandas.pydata.org/pandas-docs/stable/user_guide/indexing.html#returning-a-view-versus-a-copy\n",
      "  car_features['Cluster'] = clusters\n"
     ]
    }
   ],
   "source": [
    "# c. Bind the clustering vector to ‘car_features’\n",
    "\n",
    "car_features['Cluster'] = clusters\n",
    "\n",
    "# Display the first few rows of the resulting DataFrame\n",
    "print(car_features.head())"
   ]
  },
  {
   "cell_type": "code",
   "execution_count": 10,
   "metadata": {},
   "outputs": [
    {
     "name": "stdout",
     "output_type": "stream",
     "text": [
      "Cluster 0 - Number of observations: 7\n",
      "     mpg   disp   hp  Cluster\n",
      "3   21.4  258.0  110        0\n",
      "5   18.1  225.0  105        0\n",
      "11  16.4  275.8  180        0\n",
      "12  17.3  275.8  180        0\n",
      "13  15.2  275.8  180        0\n",
      "21  15.5  318.0  150        0\n",
      "22  15.2  304.0  150        0\n",
      "\n",
      "\n",
      "Cluster 1 - Number of observations: 16\n",
      "     mpg   disp   hp  Cluster\n",
      "0   21.0  160.0  110        1\n",
      "1   21.0  160.0  110        1\n",
      "2   22.8  108.0   93        1\n",
      "7   24.4  146.7   62        1\n",
      "8   22.8  140.8   95        1\n",
      "9   19.2  167.6  123        1\n",
      "10  17.8  167.6  123        1\n",
      "17  32.4   78.7   66        1\n",
      "18  30.4   75.7   52        1\n",
      "19  33.9   71.1   65        1\n",
      "20  21.5  120.1   97        1\n",
      "25  27.3   79.0   66        1\n",
      "26  26.0  120.3   91        1\n",
      "27  30.4   95.1  113        1\n",
      "29  19.7  145.0  175        1\n",
      "31  21.4  121.0  109        1\n",
      "\n",
      "\n",
      "Cluster 2 - Number of observations: 9\n",
      "     mpg   disp   hp  Cluster\n",
      "4   18.7  360.0  175        2\n",
      "6   14.3  360.0  245        2\n",
      "14  10.4  472.0  205        2\n",
      "15  10.4  460.0  215        2\n",
      "16  14.7  440.0  230        2\n",
      "23  13.3  350.0  245        2\n",
      "24  19.2  400.0  175        2\n",
      "28  15.8  351.0  264        2\n",
      "30  15.0  301.0  335        2\n",
      "\n",
      "\n"
     ]
    }
   ],
   "source": [
    "# Iterate through each cluster\n",
    "for cluster_id in range(k):\n",
    "    cluster_data = car_features[car_features['Cluster'] == cluster_id]\n",
    "    \n",
    "    # Display cluster information\n",
    "    print(f\"Cluster {cluster_id} - Number of observations: {len(cluster_data)}\")\n",
    "    print(cluster_data)\n",
    "    print(\"\\n\")"
   ]
  },
  {
   "cell_type": "code",
   "execution_count": 14,
   "metadata": {},
   "outputs": [
    {
     "data": {
      "image/png": "[encoded data removed]",
      "text/plain": [
       "<Figure size 1000x600 with 1 Axes>"
      ]
     },
     "metadata": {},
     "output_type": "display_data"
    }
   ],
   "source": [
    "import matplotlib.pyplot as plt\n",
    "import seaborn as sns\n",
    "\n",
    "# Assuming 'car_features' DataFrame with clustering information\n",
    "\n",
    "# Set the style of seaborn\n",
    "sns.set(style=\"white\")\n",
    "\n",
    "# Create a scatter plot of 'disp' vs 'hp' with different colors for each cluster\n",
    "plt.figure(figsize=(10, 6))\n",
    "sns.scatterplot(x='disp', y='hp', hue='Cluster', data=car_features, palette='viridis')\n",
    "plt.title('K-Means Clustering of Cars')\n",
    "plt.xlabel('disp')\n",
    "plt.ylabel('hp')\n",
    "plt.legend(title='Cluster')\n",
    "plt.show()\n"
   ]
  },
  {
   "cell_type": "code",
   "execution_count": 20,
   "metadata": {},
   "outputs": [
    {
     "name": "stdout",
     "output_type": "stream",
     "text": [
      "Number of observations in Cluster 0: 11\n",
      "Number of observations in Cluster 1: 4\n",
      "Number of observations in Cluster 2: 7\n",
      "Number of observations in Cluster 3: 4\n",
      "Number of observations in Cluster 4: 6\n"
     ]
    },
    {
     "name": "stderr",
     "output_type": "stream",
     "text": [
      "c:\\Users\\arvin\\miniconda3\\envs\\6.86x\\lib\\site-packages\\sklearn\\cluster\\_kmeans.py:870: FutureWarning: The default value of `n_init` will change from 10 to 'auto' in 1.4. Set the value of `n_init` explicitly to suppress the warning\n",
      "  warnings.warn(\n",
      "c:\\Users\\arvin\\miniconda3\\envs\\6.86x\\lib\\site-packages\\sklearn\\cluster\\_kmeans.py:1382: UserWarning: KMeans is known to have a memory leak on Windows with MKL, when there are less chunks than available threads. You can avoid it by setting the environment variable OMP_NUM_THREADS=1.\n",
      "  warnings.warn(\n",
      "C:\\Users\\arvin\\AppData\\Local\\Temp\\ipykernel_13876\\957141334.py:9: SettingWithCopyWarning: \n",
      "A value is trying to be set on a copy of a slice from a DataFrame.\n",
      "Try using .loc[row_indexer,col_indexer] = value instead\n",
      "\n",
      "See the caveats in the documentation: https://pandas.pydata.org/pandas-docs/stable/user_guide/indexing.html#returning-a-view-versus-a-copy\n",
      "  car_features['Cluster'] = kmeans.fit_predict(car_features.loc[:, ['mpg', 'disp', 'hp']])\n"
     ]
    }
   ],
   "source": [
    "# 2. On the same ‘car_features’dataset build a K-Means algorithm, where the\n",
    "# number of clusters is 5\n",
    "# a. Bind the clustering vector to ‘car_features’\n",
    "# b. Extract observations belonging to individual clusters\n",
    "\n",
    "\n",
    "# Build K-Means algorithm with 5 clusters\n",
    "kmeans = KMeans(n_clusters=5, random_state=0)\n",
    "car_features['Cluster'] = kmeans.fit_predict(car_features.loc[:, ['mpg', 'disp', 'hp']])\n",
    "\n",
    "# Extract observations belonging to individual clusters\n",
    "cluster_0 = car_features[car_features.loc[:,'Cluster'] == 0]\n",
    "cluster_1 = car_features[car_features.loc[:,'Cluster'] == 1]\n",
    "cluster_2 = car_features[car_features.loc[:,'Cluster'] == 2]\n",
    "cluster_3 = car_features[car_features.loc[:,'Cluster'] == 3]\n",
    "cluster_4 = car_features[car_features.loc[:,'Cluster'] == 4]\n",
    "\n",
    "# Print some information about the clusters\n",
    "print(f\"Number of observations in Cluster 0: {len(cluster_0)}\")\n",
    "print(f\"Number of observations in Cluster 1: {len(cluster_1)}\")\n",
    "print(f\"Number of observations in Cluster 2: {len(cluster_2)}\")\n",
    "print(f\"Number of observations in Cluster 3: {len(cluster_3)}\")\n",
    "print(f\"Number of observations in Cluster 4: {len(cluster_4)}\")\n"
   ]
  },
  {
   "cell_type": "code",
   "execution_count": 21,
   "metadata": {},
   "outputs": [
    {
     "data": {
      "image/png": "[encoded data removed]",
      "text/plain": [
       "<Figure size 1000x600 with 1 Axes>"
      ]
     },
     "metadata": {},
     "output_type": "display_data"
    }
   ],
   "source": [
    "import matplotlib.pyplot as plt\n",
    "import seaborn as sns\n",
    "\n",
    "# Assuming 'car_features' DataFrame with clustering information\n",
    "\n",
    "# Set the style of seaborn\n",
    "sns.set(style=\"white\")\n",
    "\n",
    "# Create a scatter plot of 'disp' vs 'hp' with different colors for each cluster\n",
    "plt.figure(figsize=(10, 6))\n",
    "sns.scatterplot(x='disp', y='hp', hue='Cluster', data=car_features, palette='viridis')\n",
    "plt.title('K-Means Clustering of Cars')\n",
    "plt.xlabel('disp')\n",
    "plt.ylabel('hp')\n",
    "plt.legend(title='Cluster')\n",
    "plt.show()\n"
   ]
  },
  {
   "cell_type": "code",
   "execution_count": null,
   "metadata": {},
   "outputs": [],
   "source": []
  }
 ],
 "metadata": {
  "kernelspec": {
   "display_name": "6.86x",
   "language": "python",
   "name": "python3"
  },
  "language_info": {
   "codemirror_mode": {
    "name": "ipython",
    "version": 3
   },
   "file_extension": ".py",
   "mimetype": "text/x-python",
   "name": "python",
   "nbconvert_exporter": "python",
   "pygments_lexer": "ipython3",
   "version": "3.8.16"
  },
  "orig_nbformat": 4
 },
 "nbformat": 4,
 "nbformat_minor": 2
}
